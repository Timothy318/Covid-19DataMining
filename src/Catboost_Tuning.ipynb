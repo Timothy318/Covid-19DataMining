{
 "cells": [
  {
   "cell_type": "markdown",
   "id": "de342695",
   "metadata": {},
   "source": [
    "### Import Libraries / Process data"
   ]
  },
  {
   "cell_type": "code",
   "execution_count": 2,
   "id": "585bda7b",
   "metadata": {},
   "outputs": [],
   "source": [
    "import pandas as pd\n",
    "import numpy as np\n",
    "from sklearn.model_selection import train_test_split\n",
    "from sklearn.model_selection import GridSearchCV\n",
    "from sklearn.model_selection import RandomizedSearchCV\n",
    "from sklearn.model_selection import StratifiedKFold\n",
    "from scipy.stats import uniform, truncnorm, randint, binom\n",
    "from sklearn.utils import class_weight\n",
    "from sklearn import preprocessing\n",
    "from collections import Counter\n",
    "from sklearn.preprocessing import LabelEncoder\n",
    "import imblearn\n",
    "from imblearn.over_sampling import SMOTE\n",
    "from imblearn.under_sampling import RandomUnderSampler\n",
    "from imblearn.pipeline import Pipeline\n",
    "\n",
    "from catboost import Pool, CatBoostClassifier\n",
    "from sklearn.metrics import roc_curve, auc, precision_score, confusion_matrix,\\\n",
    " ConfusionMatrixDisplay, recall_score, accuracy_score, f1_score, classification_report, make_scorer\n",
    "import pickle\n",
    "import matplotlib.pyplot as plt"
   ]
  },
  {
   "cell_type": "code",
   "execution_count": 2,
   "id": "ee234fcb",
   "metadata": {},
   "outputs": [
    {
     "name": "stdout",
     "output_type": "stream",
     "text": [
      "processing file: ../data/cases_train_preprocessed.csv\n"
     ]
    }
   ],
   "source": [
    "# Preprocess data\n",
    "def process_data(name):\n",
    "    file = r'../data/' + name + '.csv'\n",
    "    print(\"processing file: {}\".format(file))\n",
    "    file = pd.read_csv(file,dtype=object)\n",
    "    file.drop(columns=['land','Last_Update','province','country'],inplace=True)\n",
    "    file['source'] = file['source'].fillna(value='')\n",
    "    return file\n",
    "file = process_data(\"cases_train_preprocessed\")"
   ]
  },
  {
   "cell_type": "markdown",
   "id": "1f3fcc9d",
   "metadata": {},
   "source": [
    "### Catboost model data preparation "
   ]
  },
  {
   "cell_type": "code",
   "execution_count": 3,
   "id": "4c25320e",
   "metadata": {},
   "outputs": [],
   "source": [
    "# Train / Test split for model evaluation\n",
    "def catboost_data(file):\n",
    "    cat_feature=['sex','source','age_range_ind','age_range']\n",
    "    text_feature = ['additional_information']\n",
    "\n",
    "    df_tr, df_va = train_test_split(file, test_size=0.2, random_state = 1)\n",
    "\n",
    "    df_tr_x = df_tr.drop(columns=\"outcome\")\n",
    "    df_tr_y = df_tr['outcome']\n",
    "\n",
    "    df_tr_data = Pool(data = df_tr_x,\n",
    "                   label = df_tr_y,\n",
    "                   cat_features = cat_feature, \n",
    "                   text_features=text_feature)\n",
    "\n",
    "    df_va_x = df_va.drop(columns=\"outcome\")\n",
    "    df_va_y = df_va['outcome']\n",
    "\n",
    "    df_va_data = Pool(data = df_va_x,\n",
    "                   label = df_va_y,\n",
    "                   cat_features = cat_feature, \n",
    "                   text_features=text_feature)\n",
    "    return df_tr_x, df_tr_y, df_va_x, df_va_y\n",
    "tr, tr_y, va, va_y = catboost_data(file)"
   ]
  },
  {
   "cell_type": "markdown",
   "id": "4d8f0425",
   "metadata": {},
   "source": [
    "### Parameter Tuning - Randomized Search "
   ]
  },
  {
   "cell_type": "code",
   "execution_count": null,
   "id": "e9fcf129",
   "metadata": {},
   "outputs": [
    {
     "name": "stdout",
     "output_type": "stream",
     "text": [
      "Fitting 3 folds for each of 60 candidates, totalling 180 fits\n"
     ]
    }
   ],
   "source": [
    "# Specifying possible parameters of catboost - Random Search \n",
    "grid = {'learning_rate': uniform(0.2, 0.6),\n",
    "        'depth': randint(5,8),\n",
    "        'n_estimators':randint(100, 400)\n",
    "       }\n",
    "\n",
    "# Bk-2\n",
    "# grid = {'learning_rate': uniform(0.2, 0.8),\n",
    "#         'depth': randint(6,12),\n",
    "#         'l2_leaf_reg': uniform(0.0, 0.25),\n",
    "#         'n_estimators':randint(100, 600)\n",
    "#        }\n",
    "\n",
    "# Specify catboost parameters\n",
    "cat_feature=['sex','source','age_range_ind','age_range']\n",
    "text_feature = ['additional_information']\n",
    "\n",
    "# Creating required scoring function\n",
    "scorer = {\n",
    "    'f1_macro' : make_scorer(f1_score, average='macro'),\n",
    "    'recall_macro': make_scorer(recall_score , average='macro'),\n",
    "    'accuracy': make_scorer(accuracy_score),\n",
    "    'recall_d' : make_scorer(recall_score,average=None,labels=['deceased']),\n",
    "    'f1_d' : make_scorer(f1_score, average=None, labels=['deceased']),\n",
    "}\n",
    "\n",
    "# Creating Catboost model - bk1\n",
    "# model = CatBoostClassifier( task_type=\"CPU\",\n",
    "#                             devices='0:1',\n",
    "#                             loss_function='MultiClass',\n",
    "#                             auto_class_weights = 'SqrtBalanced',\n",
    "#                             cat_features = cat_feature,\n",
    "#                             text_features = text_feature,\n",
    "#                             verbose = 100)\n",
    "\n",
    "model = CatBoostClassifier( task_type=\"CPU\",\n",
    "                            devices='0:1',\n",
    "                            loss_function='MultiClass',\n",
    "                           auto_class_weights = 'Balanced',\n",
    "                            cat_features = cat_feature,\n",
    "                            text_features = text_feature,\n",
    "                            verbose = 100)\n",
    "\n",
    "clf_rand = RandomizedSearchCV(estimator=model, n_iter=60, param_distributions=grid, scoring=scorer, cv= 3, refit=\"f1_d\", n_jobs=4, verbose=1)\n",
    "model = clf_rand.fit(tr, tr_y)\n"
   ]
  },
  {
   "cell_type": "markdown",
   "id": "7e221395",
   "metadata": {},
   "source": [
    "### Saving model params and putting attempted parameters into csv"
   ]
  },
  {
   "cell_type": "code",
   "execution_count": null,
   "id": "664b48f0",
   "metadata": {},
   "outputs": [],
   "source": [
    "# Saving Model Params\n",
    "filename = '../models/catboost_classifier.pkl'\n",
    "pickle.dump(model, open(filename, 'wb'))\n",
    "print(clf_rand.best_params_)"
   ]
  },
  {
   "cell_type": "code",
   "execution_count": null,
   "id": "baf84696",
   "metadata": {},
   "outputs": [],
   "source": [
    "# Output attempted parameters and resulting metrics\n",
    "df = pd.DataFrame(clf_rand.cv_results_ )\n",
    "df = df.sort_values(by='rank_test_f1_d')\n",
    "df = df[df.columns.drop(list(df.filter(regex=r'(time)|(std)|(split)|(param_)|(rank)')))]\n",
    "df = df[['params', 'mean_test_f1_d', 'mean_test_recall_d', 'mean_test_accuracy', 'mean_test_recall_macro','mean_test_f1_macro']]\n",
    "df.rename(columns={\"mean_test_f1_macro\": \"Overall F1-Score(Macro)\", \n",
    "                   \"mean_test_recall_macro\": \"Overall Recall(Macro)\",\n",
    "                   \"mean_test_accuracy\": \"Overall Accuracy\",\n",
    "                   \"mean_test_f1_d\": \"F1-Score on Deceased\",\n",
    "                   \"mean_test_recall_d\": \"Recall on Deceased\",\n",
    "                   \"params\": \"Hyperparameters\"\n",
    "                  },inplace=True)\n",
    "df.to_csv('../results/catboost_tuning.csv',index=False)"
   ]
  },
  {
   "cell_type": "markdown",
   "id": "d8bfe7ff",
   "metadata": {},
   "source": [
    "### Loading trained model using best params from randomized search"
   ]
  },
  {
   "cell_type": "code",
   "execution_count": null,
   "id": "1fd26d32",
   "metadata": {},
   "outputs": [],
   "source": [
    "filename = '../models/catboost_classifier.pkl'\n",
    "tuned_model = pickle.load(open(filename, 'rb'))"
   ]
  },
  {
   "cell_type": "code",
   "execution_count": null,
   "id": "9c252493",
   "metadata": {},
   "outputs": [],
   "source": [
    "label = ['hospitalized', 'nonhospitalized','recovered', 'deceased']\n",
    "tr_pred = tuned_model.predict(tr)\n",
    "ev_tr_report = classification_report(tr_y, tr_pred)\n",
    "ev_tr_accuracy = accuracy_score(tr_y, tr_pred)\n",
    "ev_tr_matrix = confusion_matrix(tr_y, tr_pred,labels=label)\n",
    "print(ev_tr_report)\n",
    "ConfusionMatrixDisplay(ev_tr_matrix).plot()"
   ]
  },
  {
   "cell_type": "code",
   "execution_count": null,
   "id": "e81397c0",
   "metadata": {},
   "outputs": [],
   "source": [
    "label = ['hospitalized', 'nonhospitalized','recovered', 'deceased']\n",
    "va_pred = tuned_model.predict(va)\n",
    "ev_va_report = classification_report(va_y, va_pred)\n",
    "ev_va_accuracy = accuracy_score(va_y, va_pred)\n",
    "ev_va_matrix = confusion_matrix(va_y, va_pred,labels=label)\n",
    "print(ev_va_report)\n",
    "ConfusionMatrixDisplay(ev_va_matrix).plot()"
   ]
  },
  {
   "cell_type": "markdown",
   "id": "96c79e22",
   "metadata": {},
   "source": [
    "### Prediction on test set"
   ]
  },
  {
   "cell_type": "code",
   "execution_count": 3,
   "id": "9a492784",
   "metadata": {},
   "outputs": [
    {
     "name": "stdout",
     "output_type": "stream",
     "text": [
      "processing file: ../data/cases_test_preprocessed.csv\n",
      "file len: 46500\n"
     ]
    }
   ],
   "source": [
    "# Preprocess data\n",
    "def process_data(name):\n",
    "    file = r'../data/' + name + '.csv'\n",
    "    print(\"processing file: {}\".format(file))\n",
    "    file = pd.read_csv(file,dtype=object)\n",
    "    file.drop(columns=['Last_Update','province','country', 'outcome'],inplace=True)\n",
    "    file['source'] = file['source'].fillna(value='')\n",
    "    return file\n",
    "file = process_data(\"cases_test_preprocessed\")\n",
    "print('file len:',len(file))"
   ]
  },
  {
   "cell_type": "code",
   "execution_count": 4,
   "id": "41c86093",
   "metadata": {},
   "outputs": [],
   "source": [
    "# Test data preparation\n",
    "def catboost_data(file):\n",
    "    te_x = file\n",
    "    return te_x\n",
    "te_x = catboost_data(file)"
   ]
  },
  {
   "cell_type": "code",
   "execution_count": 11,
   "id": "1c127a46",
   "metadata": {},
   "outputs": [],
   "source": [
    "filename = '../models/catboost_classifier_bk1.pkl'\n",
    "tuned_model = pickle.load(open(filename, 'rb'))"
   ]
  },
  {
   "cell_type": "code",
   "execution_count": 12,
   "id": "30969674",
   "metadata": {},
   "outputs": [
    {
     "name": "stdout",
     "output_type": "stream",
     "text": [
      "te_pred len: 46500\n"
     ]
    },
    {
     "data": {
      "text/plain": [
       "Counter({'nonhospitalized': 19966,\n",
       "         'hospitalized': 15850,\n",
       "         'recovered': 10188,\n",
       "         'deceased': 496})"
      ]
     },
     "execution_count": 12,
     "metadata": {},
     "output_type": "execute_result"
    }
   ],
   "source": [
    "# cat_feature=['sex','source','age_range_ind','age_range']\n",
    "# text_feature = ['additional_information']\n",
    "\n",
    "label = ['hospitalized', 'nonhospitalized','recovered', 'deceased']\n",
    "dest = '../results/predictions.txt'\n",
    "te_pred = tuned_model.predict(te_x)\n",
    "te_pred = pd.DataFrame(te_pred, columns = ['outcome'])\n",
    "te_pred.to_csv(dest,index=False,header=False)\n",
    "file_data = open(dest, 'rb').read()\n",
    "open(dest, 'wb').write(file_data[:-2])\n",
    "print('te_pred len:',len(te_pred))\n",
    "counted = Counter(te_pred['outcome'])\n",
    "counted"
   ]
  },
  {
   "cell_type": "code",
   "execution_count": 7,
   "id": "3985dc8b",
   "metadata": {},
   "outputs": [
    {
     "data": {
      "text/plain": [
       "'The predictions file is valid'"
      ]
     },
     "execution_count": 7,
     "metadata": {},
     "output_type": "execute_result"
    }
   ],
   "source": [
    "# Check if prediction file is valid\n",
    "def check_if_file_valid(filename):\n",
    "    assert filename.endswith('predictions.txt'), 'Incorrect filename'\n",
    "    f = open(filename).read()\n",
    "    l = f.split('\\n')\n",
    "    assert len(l) == 46500, 'Incorrect number of items'\n",
    "    assert (len(set(l)) == 4), 'Wrong class labels'\n",
    "    return 'The predictions file is valid'\n",
    "check_if_file_valid('../results/predictions.txt')"
   ]
  },
  {
   "cell_type": "code",
   "execution_count": 8,
   "id": "8ee099e2",
   "metadata": {},
   "outputs": [
    {
     "name": "stdout",
     "output_type": "stream",
     "text": [
      "result len: 46500\n"
     ]
    },
    {
     "data": {
      "text/plain": [
       "Counter({'nonhospitalized': 19966,\n",
       "         'hospitalized': 15850,\n",
       "         'recovered': 10188,\n",
       "         'deceased': 496})"
      ]
     },
     "execution_count": 8,
     "metadata": {},
     "output_type": "execute_result"
    }
   ],
   "source": [
    "dest = '../results/predictions.txt'\n",
    "result = pd.read_csv(dest, header = None, names=['outcome'])\n",
    "counted = Counter(result['outcome'])\n",
    "print('result len:',len(result))\n",
    "counted"
   ]
  },
  {
   "cell_type": "markdown",
   "id": "e94a5c65",
   "metadata": {},
   "source": [
    "### Loading trained model using best params from randomized search - BK1"
   ]
  },
  {
   "cell_type": "code",
   "execution_count": 4,
   "id": "4b10dda2",
   "metadata": {},
   "outputs": [],
   "source": [
    "filename = '../models/catboost_classifier_bk1.pkl'\n",
    "tuned_model = pickle.load(open(filename, 'rb'))"
   ]
  },
  {
   "cell_type": "code",
   "execution_count": 5,
   "id": "c00d02ed",
   "metadata": {},
   "outputs": [
    {
     "name": "stdout",
     "output_type": "stream",
     "text": [
      "                 precision    recall  f1-score   support\n",
      "\n",
      "       deceased       0.45      0.23      0.31      3583\n",
      "   hospitalized       0.81      0.84      0.83     99933\n",
      "nonhospitalized       0.99      0.99      0.99    119402\n",
      "      recovered       0.75      0.74      0.74     70362\n",
      "\n",
      "       accuracy                           0.87    293280\n",
      "      macro avg       0.75      0.70      0.72    293280\n",
      "   weighted avg       0.87      0.87      0.87    293280\n",
      "\n"
     ]
    },
    {
     "data": {
      "text/plain": [
       "<sklearn.metrics._plot.confusion_matrix.ConfusionMatrixDisplay at 0x2035df1ff70>"
      ]
     },
     "execution_count": 5,
     "metadata": {},
     "output_type": "execute_result"
    },
    {
     "data": {
      "image/png": "[encoded data removed]",
      "text/plain": [
       "<Figure size 432x288 with 2 Axes>"
      ]
     },
     "metadata": {
      "needs_background": "light"
     },
     "output_type": "display_data"
    }
   ],
   "source": [
    "label = ['hospitalized', 'nonhospitalized','recovered', 'deceased']\n",
    "tr_pred = tuned_model.predict(tr)\n",
    "ev_tr_report = classification_report(tr_y, tr_pred)\n",
    "ev_tr_accuracy = accuracy_score(tr_y, tr_pred)\n",
    "ev_tr_matrix = confusion_matrix(tr_y, tr_pred,labels=label)\n",
    "print(ev_tr_report)\n",
    "ConfusionMatrixDisplay(ev_tr_matrix).plot()"
   ]
  },
  {
   "cell_type": "code",
   "execution_count": 6,
   "id": "e959fc62",
   "metadata": {},
   "outputs": [
    {
     "name": "stdout",
     "output_type": "stream",
     "text": [
      "                 precision    recall  f1-score   support\n",
      "\n",
      "       deceased       0.43      0.22      0.29       912\n",
      "   hospitalized       0.81      0.84      0.82     24862\n",
      "nonhospitalized       0.99      0.99      0.99     30018\n",
      "      recovered       0.75      0.73      0.74     17528\n",
      "\n",
      "       accuracy                           0.87     73320\n",
      "      macro avg       0.75      0.70      0.71     73320\n",
      "   weighted avg       0.87      0.87      0.87     73320\n",
      "\n"
     ]
    },
    {
     "data": {
      "text/plain": [
       "<sklearn.metrics._plot.confusion_matrix.ConfusionMatrixDisplay at 0x2035df72c40>"
      ]
     },
     "execution_count": 6,
     "metadata": {},
     "output_type": "execute_result"
    },
    {
     "data": {
      "image/png": "[encoded data removed]",
      "text/plain": [
       "<Figure size 432x288 with 2 Axes>"
      ]
     },
     "metadata": {
      "needs_background": "light"
     },
     "output_type": "display_data"
    }
   ],
   "source": [
    "label = ['hospitalized', 'nonhospitalized','recovered', 'deceased']\n",
    "va_pred = tuned_model.predict(va)\n",
    "ev_va_report = classification_report(va_y, va_pred)\n",
    "ev_va_accuracy = accuracy_score(va_y, va_pred)\n",
    "ev_va_matrix = confusion_matrix(va_y, va_pred,labels=label)\n",
    "print(ev_va_report)\n",
    "ConfusionMatrixDisplay(ev_va_matrix).plot()"
   ]
  },
  {
   "cell_type": "markdown",
   "id": "5c4a34d4",
   "metadata": {},
   "source": [
    "### Loading trained model using best params from randomized search - BK2"
   ]
  },
  {
   "cell_type": "code",
   "execution_count": 7,
   "id": "f7e65d3b",
   "metadata": {},
   "outputs": [],
   "source": [
    "filename = '../models/catboost_classifier_bk2.pkl'\n",
    "tuned_model = pickle.load(open(filename, 'rb'))"
   ]
  },
  {
   "cell_type": "code",
   "execution_count": 8,
   "id": "ea3292fd",
   "metadata": {},
   "outputs": [
    {
     "name": "stdout",
     "output_type": "stream",
     "text": [
      "                 precision    recall  f1-score   support\n",
      "\n",
      "       deceased       0.42      0.24      0.30      3583\n",
      "   hospitalized       0.81      0.82      0.82     99933\n",
      "nonhospitalized       0.99      0.99      0.99    119402\n",
      "      recovered       0.73      0.73      0.73     70362\n",
      "\n",
      "       accuracy                           0.86    293280\n",
      "      macro avg       0.74      0.70      0.71    293280\n",
      "   weighted avg       0.86      0.86      0.86    293280\n",
      "\n"
     ]
    },
    {
     "data": {
      "text/plain": [
       "<sklearn.metrics._plot.confusion_matrix.ConfusionMatrixDisplay at 0x20347035850>"
      ]
     },
     "execution_count": 8,
     "metadata": {},
     "output_type": "execute_result"
    },
    {
     "data": {
      "image/png": "[encoded data removed]",
      "text/plain": [
       "<Figure size 432x288 with 2 Axes>"
      ]
     },
     "metadata": {
      "needs_background": "light"
     },
     "output_type": "display_data"
    }
   ],
   "source": [
    "label = ['hospitalized', 'nonhospitalized','recovered', 'deceased']\n",
    "tr_pred = tuned_model.predict(tr)\n",
    "ev_tr_report = classification_report(tr_y, tr_pred)\n",
    "ev_tr_accuracy = accuracy_score(tr_y, tr_pred)\n",
    "ev_tr_matrix = confusion_matrix(tr_y, tr_pred,labels=label)\n",
    "print(ev_tr_report)\n",
    "ConfusionMatrixDisplay(ev_tr_matrix).plot()"
   ]
  },
  {
   "cell_type": "code",
   "execution_count": 9,
   "id": "97e7b915",
   "metadata": {},
   "outputs": [
    {
     "name": "stdout",
     "output_type": "stream",
     "text": [
      "                 precision    recall  f1-score   support\n",
      "\n",
      "       deceased       0.39      0.22      0.28       912\n",
      "   hospitalized       0.81      0.82      0.81     24862\n",
      "nonhospitalized       0.99      0.99      0.99     30018\n",
      "      recovered       0.72      0.73      0.73     17528\n",
      "\n",
      "       accuracy                           0.86     73320\n",
      "      macro avg       0.73      0.69      0.70     73320\n",
      "   weighted avg       0.86      0.86      0.86     73320\n",
      "\n"
     ]
    },
    {
     "data": {
      "text/plain": [
       "<sklearn.metrics._plot.confusion_matrix.ConfusionMatrixDisplay at 0x20346e40a60>"
      ]
     },
     "execution_count": 9,
     "metadata": {},
     "output_type": "execute_result"
    },
    {
     "data": {
      "image/png": "[encoded data removed]",
      "text/plain": [
       "<Figure size 432x288 with 2 Axes>"
      ]
     },
     "metadata": {
      "needs_background": "light"
     },
     "output_type": "display_data"
    }
   ],
   "source": [
    "label = ['hospitalized', 'nonhospitalized','recovered', 'deceased']\n",
    "va_pred = tuned_model.predict(va)\n",
    "ev_va_report = classification_report(va_y, va_pred)\n",
    "ev_va_accuracy = accuracy_score(va_y, va_pred)\n",
    "ev_va_matrix = confusion_matrix(va_y, va_pred,labels=label)\n",
    "print(ev_va_report)\n",
    "ConfusionMatrixDisplay(ev_va_matrix).plot()"
   ]
  },
  {
   "cell_type": "markdown",
   "id": "f004c497",
   "metadata": {},
   "source": [
    "# "
   ]
  },
  {
   "cell_type": "markdown",
   "id": "fc4e123e",
   "metadata": {},
   "source": [
    "### Attempts"
   ]
  },
  {
   "cell_type": "code",
   "execution_count": null,
   "id": "d66a73ec",
   "metadata": {},
   "outputs": [],
   "source": [
    "# Preprocess data\n",
    "def process_data(name):\n",
    "    file = r'../data/' + name + '.csv'\n",
    "    print(\"processing file: {}\".format(file))\n",
    "    file = pd.read_csv(file,dtype=object)\n",
    "    file.drop(columns=['land','Last_Update','province','country','source','additional_information'],inplace=True)\n",
    "    file['date_confirmation'] = preprocessing.normalize([file['date_confirmation']])[0]\n",
    "    return file\n",
    "file = process_data(\"cases_train_preprocessed\")"
   ]
  },
  {
   "cell_type": "code",
   "execution_count": null,
   "id": "294d0127",
   "metadata": {},
   "outputs": [],
   "source": [
    "# Train / Test split for model evaluation\n",
    "def catboost_data(file):\n",
    "    cat_feature=['sex','source','age_range_ind','age_range']\n",
    "    text_feature = ['additional_information']\n",
    "\n",
    "    df_tr, df_va = train_test_split(file, test_size=0.2, random_state = 1)\n",
    "\n",
    "    df_tr_x = df_tr.drop(columns=\"outcome\")\n",
    "    df_tr_y = df_tr['outcome']\n",
    "\n",
    "\n",
    "    df_va_x = df_va.drop(columns=\"outcome\")\n",
    "    df_va_y = df_va['outcome']\n",
    "\n",
    "    return df_tr_x, df_tr_y, df_va_x, df_va_y\n",
    "tr, tr_y, va, va_y = catboost_data(file)"
   ]
  },
  {
   "cell_type": "code",
   "execution_count": null,
   "id": "5e5cb650",
   "metadata": {},
   "outputs": [],
   "source": [
    "# label encode the target variable\n",
    "tr_y = LabelEncoder().fit_transform(tr_y)\n",
    "# summarize distribution\n",
    "counter = Counter(tr_y)\n",
    "for k,v in counter.items():\n",
    "    per = v / len(y) * 100\n",
    "    print('Class=%d, n=%d (%.3f%%)' % (k, v, per))\n",
    "x = tr\n",
    "y = tr_y"
   ]
  },
  {
   "cell_type": "code",
   "execution_count": null,
   "id": "ed66dc9e",
   "metadata": {},
   "outputs": [],
   "source": [
    "strategy = {0:50362 , 1:99933 , 2:119402 , 3:70362 }\n",
    "oversample = SMOTE(sampling_strategy=strategy)\n",
    "\n",
    "tr_y = LabelEncoder().fit_transform(y)\n",
    "numerical = ['age', 'latitude', 'longitude','date_confirmation', \n",
    "             'Confirmed', 'Deaths', 'Recovered', 'Active', 'Incidence_Rate', 'Case-Fatality_Ratio']\n",
    "for i in numerical:\n",
    "    x[i] = x[i].astype('float')\n",
    "for i in x.columns:\n",
    "    if i not in numerical:\n",
    "        x[i] = x[i].astype('category')\n",
    "        x[i] = x[i].cat.codes\n",
    "        \n",
    "tr, tr_y = oversample.fit_resample(x, tr_y)\n",
    "counter = Counter(tr_y)\n",
    "for k,v in counter.items():\n",
    "    per = v / len(y) * 100\n",
    "    print('Class=%d, n=%d (%.3f%%)' % (k, v, per))"
   ]
  },
  {
   "cell_type": "code",
   "execution_count": null,
   "id": "7239ad64",
   "metadata": {},
   "outputs": [],
   "source": [
    "# Specify catboost parameters\n",
    "model = CatBoostClassifier(n_estimators=300, \n",
    "                            task_type=\"GPU\",\n",
    "                            devices='0:1',\n",
    "                            learning_rate=0.2,\n",
    "                            depth=12,\n",
    "                            loss_function='MultiClass',\n",
    "                            auto_class_weights = 'SqrtBalanced',\n",
    "                            verbose = 100\n",
    "                            )\n",
    "df_tr_data = Pool(data = tr, label = tr_y)\n",
    "model.fit(df_tr_data)"
   ]
  },
  {
   "cell_type": "code",
   "execution_count": null,
   "id": "2d27c465",
   "metadata": {},
   "outputs": [],
   "source": [
    "# label encode the target variable\n",
    "va_y = LabelEncoder().fit_transform(va_y)\n",
    "numerical = ['age', 'latitude', 'longitude','date_confirmation', \n",
    "             'Confirmed', 'Deaths', 'Recovered', 'Active', 'Incidence_Rate', 'Case-Fatality_Ratio']\n",
    "for i in numerical:\n",
    "    va[i] = va[i].astype('float')\n",
    "for i in tr.columns:\n",
    "    if i not in numerical:\n",
    "        va[i] = va[i].astype('category')\n",
    "        va[i] = va[i].cat.codes"
   ]
  },
  {
   "cell_type": "code",
   "execution_count": null,
   "id": "4f2f989d",
   "metadata": {},
   "outputs": [],
   "source": [
    "df_va_data = Pool(data = va,label = va_y)\n",
    "tr_pred = model.predict(df_tr_data)\n",
    "ev_tr_report = classification_report(tr_y, tr_pred)\n",
    "print(\"Traning:\")\n",
    "print(ev_tr_report)\n",
    "\n",
    "va_pred = model.predict(df_va_data)\n",
    "ev_va_report = classification_report(va_y, va_pred)\n",
    "print(\"Validation:\")\n",
    "print(ev_va_report)"
   ]
  },
  {
   "cell_type": "markdown",
   "id": "d67595b5",
   "metadata": {},
   "source": [
    "# "
   ]
  },
  {
   "cell_type": "markdown",
   "id": "71448279",
   "metadata": {},
   "source": [
    "### DRAFT"
   ]
  },
  {
   "cell_type": "code",
   "execution_count": null,
   "id": "e916bc56",
   "metadata": {},
   "outputs": [],
   "source": [
    "# # Specifying possible parameters of catboost - Grid Search\n",
    "# grid = {'learning_rate': [0.2, 0.3, 0.4],\n",
    "#         'depth': [10, 14],\n",
    "#         'l2_leaf_reg': [0.0, 0.2],\n",
    "#         'n_estimators':[100, 200, 400]\n",
    "#        }\n",
    "\n",
    "# # Specify catboost parameters\n",
    "# cat_feature=['sex','source','age_range_ind','age_range']\n",
    "# text_feature = ['additional_information']\n",
    "\n",
    "# # Creating required scoring function\n",
    "# scorer = {\n",
    "#     'f1_macro' : make_scorer(f1_score, average='macro'),\n",
    "#     'recall_macro': make_scorer(recall_score , average='macro'),\n",
    "#     'accuracy': make_scorer(accuracy_score),\n",
    "#     'recall_d' : make_scorer(recall_score,average=None,labels=['deceased']),\n",
    "#     'f1_d' : make_scorer(f1_score, average=None, labels=['deceased']),\n",
    "# }\n",
    "\n",
    "# # Creating Catboost model\n",
    "# model = CatBoostClassifier( task_type=\"GPU\",\n",
    "#                             devices='0:1',\n",
    "#                             loss_function='MultiClass',\n",
    "#                             auto_class_weights = 'SqrtBalanced',\n",
    "#                             cat_features = cat_feature,\n",
    "#                             text_features = text_feature)\n",
    "\n",
    "# clf_grid = GridSearchCV(estimator=model, param_grid=grid, scoring=scorer, cv= 5, refit=\"f1_d\", n_jobs=1, verbose=1)\n",
    "# clf = clf_grid.fit(tr, tr_y)"
   ]
  }
 ],
 "metadata": {
  "kernelspec": {
   "display_name": "Python 3",
   "language": "python",
   "name": "python3"
  },
  "language_info": {
   "codemirror_mode": {
    "name": "ipython",
    "version": 3
   },
   "file_extension": ".py",
   "mimetype": "text/x-python",
   "name": "python",
   "nbconvert_exporter": "python",
   "pygments_lexer": "ipython3",
   "version": "3.8.5"
  }
 },
 "nbformat": 4,
 "nbformat_minor": 5
}
