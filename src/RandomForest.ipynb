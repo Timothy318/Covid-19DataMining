{
 "cells": [
  {
   "cell_type": "code",
   "execution_count": 35,
   "metadata": {},
   "outputs": [],
   "source": [
    "import numpy as np \n",
    "import pandas as pd\n",
    "import math\n",
    "import matplotlib.pyplot as plt\n",
    "from sklearn.ensemble import RandomForestClassifier\n",
    "from sklearn.preprocessing import LabelEncoder\n",
    "%matplotlib inline"
   ]
  },
  {
   "cell_type": "code",
   "execution_count": 36,
   "metadata": {},
   "outputs": [
    {
     "name": "stderr",
     "output_type": "stream",
     "text": [
      "/Users/timothywaikinlam/opt/anaconda3/lib/python3.8/site-packages/IPython/core/interactiveshell.py:3146: DtypeWarning: Columns (13) have mixed types.Specify dtype option on import or set low_memory=False.\n",
      "  has_raised = await self.run_ast_nodes(code_ast.body, cell_name,\n"
     ]
    }
   ],
   "source": [
    "df=pd.read_csv('cases_train_preprocessed.csv')"
   ]
  },
  {
   "cell_type": "code",
   "execution_count": 39,
   "metadata": {},
   "outputs": [
    {
     "data": {
      "text/html": [
       "<div>\n",
       "<style scoped>\n",
       "    .dataframe tbody tr th:only-of-type {\n",
       "        vertical-align: middle;\n",
       "    }\n",
       "\n",
       "    .dataframe tbody tr th {\n",
       "        vertical-align: top;\n",
       "    }\n",
       "\n",
       "    .dataframe thead th {\n",
       "        text-align: right;\n",
       "    }\n",
       "</style>\n",
       "<table border=\"1\" class=\"dataframe\">\n",
       "  <thead>\n",
       "    <tr style=\"text-align: right;\">\n",
       "      <th></th>\n",
       "      <th>age</th>\n",
       "      <th>sex</th>\n",
       "      <th>latitude</th>\n",
       "      <th>longitude</th>\n",
       "      <th>date_confirmation</th>\n",
       "      <th>additional_information</th>\n",
       "      <th>outcome</th>\n",
       "      <th>age_range_ind</th>\n",
       "      <th>age_range</th>\n",
       "      <th>land</th>\n",
       "      <th>Last_Update</th>\n",
       "      <th>Confirmed</th>\n",
       "      <th>Deaths</th>\n",
       "      <th>Recovered</th>\n",
       "      <th>Active</th>\n",
       "      <th>Incidence_Rate</th>\n",
       "      <th>Case-Fatality_Ratio</th>\n",
       "    </tr>\n",
       "  </thead>\n",
       "  <tbody>\n",
       "    <tr>\n",
       "      <th>0</th>\n",
       "      <td>47.0</td>\n",
       "      <td>Not Available</td>\n",
       "      <td>59.7294</td>\n",
       "      <td>13.2354</td>\n",
       "      <td>1.590822e+09</td>\n",
       "      <td>0</td>\n",
       "      <td>nonhospitalized</td>\n",
       "      <td>Missing</td>\n",
       "      <td>adult</td>\n",
       "      <td>True</td>\n",
       "      <td>2020-09-20 04:22:56</td>\n",
       "      <td>1241.0</td>\n",
       "      <td>73.0</td>\n",
       "      <td>0.0</td>\n",
       "      <td>1168.0</td>\n",
       "      <td>439.425808</td>\n",
       "      <td>5.882353</td>\n",
       "    </tr>\n",
       "    <tr>\n",
       "      <th>1</th>\n",
       "      <td>47.0</td>\n",
       "      <td>Not Available</td>\n",
       "      <td>35.2923</td>\n",
       "      <td>-2.9381</td>\n",
       "      <td>1.586934e+09</td>\n",
       "      <td>0</td>\n",
       "      <td>nonhospitalized</td>\n",
       "      <td>Missing</td>\n",
       "      <td>adult</td>\n",
       "      <td>True</td>\n",
       "      <td>2020-09-20 04:22:56</td>\n",
       "      <td>664.0</td>\n",
       "      <td>4.0</td>\n",
       "      <td>125.0</td>\n",
       "      <td>535.0</td>\n",
       "      <td>784.045153</td>\n",
       "      <td>0.602410</td>\n",
       "    </tr>\n",
       "    <tr>\n",
       "      <th>2</th>\n",
       "      <td>47.0</td>\n",
       "      <td>Not Available</td>\n",
       "      <td>55.9903</td>\n",
       "      <td>13.5958</td>\n",
       "      <td>1.587625e+09</td>\n",
       "      <td>0</td>\n",
       "      <td>nonhospitalized</td>\n",
       "      <td>Missing</td>\n",
       "      <td>adult</td>\n",
       "      <td>True</td>\n",
       "      <td>2020-09-20 04:22:56</td>\n",
       "      <td>5366.0</td>\n",
       "      <td>276.0</td>\n",
       "      <td>0.0</td>\n",
       "      <td>5090.0</td>\n",
       "      <td>389.453828</td>\n",
       "      <td>5.143496</td>\n",
       "    </tr>\n",
       "    <tr>\n",
       "      <th>3</th>\n",
       "      <td>47.0</td>\n",
       "      <td>Not Available</td>\n",
       "      <td>59.6025</td>\n",
       "      <td>18.1384</td>\n",
       "      <td>1.586848e+09</td>\n",
       "      <td>0</td>\n",
       "      <td>nonhospitalized</td>\n",
       "      <td>Missing</td>\n",
       "      <td>adult</td>\n",
       "      <td>True</td>\n",
       "      <td>2020-09-20 04:22:56</td>\n",
       "      <td>23739.0</td>\n",
       "      <td>2400.0</td>\n",
       "      <td>0.0</td>\n",
       "      <td>21339.0</td>\n",
       "      <td>998.661804</td>\n",
       "      <td>10.109946</td>\n",
       "    </tr>\n",
       "    <tr>\n",
       "      <th>4</th>\n",
       "      <td>47.0</td>\n",
       "      <td>Not Available</td>\n",
       "      <td>59.6714</td>\n",
       "      <td>16.2159</td>\n",
       "      <td>1.588057e+09</td>\n",
       "      <td>0</td>\n",
       "      <td>nonhospitalized</td>\n",
       "      <td>Missing</td>\n",
       "      <td>adult</td>\n",
       "      <td>True</td>\n",
       "      <td>2020-09-20 04:22:56</td>\n",
       "      <td>2854.0</td>\n",
       "      <td>183.0</td>\n",
       "      <td>0.0</td>\n",
       "      <td>2671.0</td>\n",
       "      <td>1034.639018</td>\n",
       "      <td>6.412053</td>\n",
       "    </tr>\n",
       "  </tbody>\n",
       "</table>\n",
       "</div>"
      ],
      "text/plain": [
       "    age            sex  latitude  longitude  date_confirmation  \\\n",
       "0  47.0  Not Available   59.7294    13.2354       1.590822e+09   \n",
       "1  47.0  Not Available   35.2923    -2.9381       1.586934e+09   \n",
       "2  47.0  Not Available   55.9903    13.5958       1.587625e+09   \n",
       "3  47.0  Not Available   59.6025    18.1384       1.586848e+09   \n",
       "4  47.0  Not Available   59.6714    16.2159       1.588057e+09   \n",
       "\n",
       "   additional_information          outcome age_range_ind age_range  land  \\\n",
       "0                       0  nonhospitalized       Missing     adult  True   \n",
       "1                       0  nonhospitalized       Missing     adult  True   \n",
       "2                       0  nonhospitalized       Missing     adult  True   \n",
       "3                       0  nonhospitalized       Missing     adult  True   \n",
       "4                       0  nonhospitalized       Missing     adult  True   \n",
       "\n",
       "           Last_Update  Confirmed  Deaths  Recovered   Active  Incidence_Rate  \\\n",
       "0  2020-09-20 04:22:56     1241.0    73.0        0.0   1168.0      439.425808   \n",
       "1  2020-09-20 04:22:56      664.0     4.0      125.0    535.0      784.045153   \n",
       "2  2020-09-20 04:22:56     5366.0   276.0        0.0   5090.0      389.453828   \n",
       "3  2020-09-20 04:22:56    23739.0  2400.0        0.0  21339.0      998.661804   \n",
       "4  2020-09-20 04:22:56     2854.0   183.0        0.0   2671.0     1034.639018   \n",
       "\n",
       "   Case-Fatality_Ratio  \n",
       "0             5.882353  \n",
       "1             0.602410  \n",
       "2             5.143496  \n",
       "3            10.109946  \n",
       "4             6.412053  "
      ]
     },
     "execution_count": 39,
     "metadata": {},
     "output_type": "execute_result"
    }
   ],
   "source": [
    "df.head()"
   ]
  },
  {
   "cell_type": "code",
   "execution_count": null,
   "metadata": {},
   "outputs": [],
   "source": [
    "'''\n",
    "train = pd.read_csv(r'../results/cases_train_preprocessed.csv',dtype=object)\n",
    "test =  pd.read_csv(r'../results/cases_test_preprocessed.csv',dtype=object)\n",
    "df_tr, df_te = train_test_split(train, test_size=0.2, random_state = 1)"
   ]
  },
  {
   "cell_type": "markdown",
   "metadata": {},
   "source": [
    "## Split Data"
   ]
  },
  {
   "cell_type": "code",
   "execution_count": 37,
   "metadata": {},
   "outputs": [],
   "source": [
    "def convertText(x):\n",
    "    if x == '[]':\n",
    "        return 0\n",
    "    else:\n",
    "        return 1\n",
    "    \n",
    "#df['source'] = df['source'].apply(convertText)\n",
    "df['additional_information'] = df['additional_information'].apply(convertText)"
   ]
  },
  {
   "cell_type": "code",
   "execution_count": 4,
   "metadata": {},
   "outputs": [
    {
     "data": {
      "text/plain": [
       "0         0\n",
       "1         0\n",
       "2         0\n",
       "3         0\n",
       "4         0\n",
       "         ..\n",
       "366595    0\n",
       "366596    0\n",
       "366597    0\n",
       "366598    0\n",
       "366599    1\n",
       "Name: additional_information, Length: 366600, dtype: int64"
      ]
     },
     "execution_count": 4,
     "metadata": {},
     "output_type": "execute_result"
    }
   ],
   "source": [
    "df['additional_information']"
   ]
  },
  {
   "cell_type": "code",
   "execution_count": 38,
   "metadata": {},
   "outputs": [],
   "source": [
    "df=df.drop(columns=['province', 'country','source'])"
   ]
  },
  {
   "cell_type": "code",
   "execution_count": 40,
   "metadata": {},
   "outputs": [
    {
     "data": {
      "text/html": [
       "<div>\n",
       "<style scoped>\n",
       "    .dataframe tbody tr th:only-of-type {\n",
       "        vertical-align: middle;\n",
       "    }\n",
       "\n",
       "    .dataframe tbody tr th {\n",
       "        vertical-align: top;\n",
       "    }\n",
       "\n",
       "    .dataframe thead th {\n",
       "        text-align: right;\n",
       "    }\n",
       "</style>\n",
       "<table border=\"1\" class=\"dataframe\">\n",
       "  <thead>\n",
       "    <tr style=\"text-align: right;\">\n",
       "      <th></th>\n",
       "      <th>age</th>\n",
       "      <th>latitude</th>\n",
       "      <th>longitude</th>\n",
       "      <th>date_confirmation</th>\n",
       "      <th>additional_information</th>\n",
       "      <th>land</th>\n",
       "      <th>Confirmed</th>\n",
       "      <th>Deaths</th>\n",
       "      <th>Recovered</th>\n",
       "      <th>Active</th>\n",
       "      <th>...</th>\n",
       "      <th>outcome_recovered</th>\n",
       "      <th>age_range_ind_False</th>\n",
       "      <th>age_range_ind_Missing</th>\n",
       "      <th>age_range_ind_True</th>\n",
       "      <th>age_range_adult</th>\n",
       "      <th>age_range_baby</th>\n",
       "      <th>age_range_child</th>\n",
       "      <th>age_range_senior</th>\n",
       "      <th>Last_Update_2020-09-20 04:22:56</th>\n",
       "      <th>Last_Update_9/20/2020 4:22:56 AM</th>\n",
       "    </tr>\n",
       "  </thead>\n",
       "  <tbody>\n",
       "    <tr>\n",
       "      <th>0</th>\n",
       "      <td>47.0</td>\n",
       "      <td>59.7294</td>\n",
       "      <td>13.2354</td>\n",
       "      <td>1.590822e+09</td>\n",
       "      <td>0</td>\n",
       "      <td>True</td>\n",
       "      <td>1241.0</td>\n",
       "      <td>73.0</td>\n",
       "      <td>0.0</td>\n",
       "      <td>1168.0</td>\n",
       "      <td>...</td>\n",
       "      <td>0</td>\n",
       "      <td>0</td>\n",
       "      <td>1</td>\n",
       "      <td>0</td>\n",
       "      <td>1</td>\n",
       "      <td>0</td>\n",
       "      <td>0</td>\n",
       "      <td>0</td>\n",
       "      <td>1</td>\n",
       "      <td>0</td>\n",
       "    </tr>\n",
       "    <tr>\n",
       "      <th>1</th>\n",
       "      <td>47.0</td>\n",
       "      <td>35.2923</td>\n",
       "      <td>-2.9381</td>\n",
       "      <td>1.586934e+09</td>\n",
       "      <td>0</td>\n",
       "      <td>True</td>\n",
       "      <td>664.0</td>\n",
       "      <td>4.0</td>\n",
       "      <td>125.0</td>\n",
       "      <td>535.0</td>\n",
       "      <td>...</td>\n",
       "      <td>0</td>\n",
       "      <td>0</td>\n",
       "      <td>1</td>\n",
       "      <td>0</td>\n",
       "      <td>1</td>\n",
       "      <td>0</td>\n",
       "      <td>0</td>\n",
       "      <td>0</td>\n",
       "      <td>1</td>\n",
       "      <td>0</td>\n",
       "    </tr>\n",
       "    <tr>\n",
       "      <th>2</th>\n",
       "      <td>47.0</td>\n",
       "      <td>55.9903</td>\n",
       "      <td>13.5958</td>\n",
       "      <td>1.587625e+09</td>\n",
       "      <td>0</td>\n",
       "      <td>True</td>\n",
       "      <td>5366.0</td>\n",
       "      <td>276.0</td>\n",
       "      <td>0.0</td>\n",
       "      <td>5090.0</td>\n",
       "      <td>...</td>\n",
       "      <td>0</td>\n",
       "      <td>0</td>\n",
       "      <td>1</td>\n",
       "      <td>0</td>\n",
       "      <td>1</td>\n",
       "      <td>0</td>\n",
       "      <td>0</td>\n",
       "      <td>0</td>\n",
       "      <td>1</td>\n",
       "      <td>0</td>\n",
       "    </tr>\n",
       "    <tr>\n",
       "      <th>3</th>\n",
       "      <td>47.0</td>\n",
       "      <td>59.6025</td>\n",
       "      <td>18.1384</td>\n",
       "      <td>1.586848e+09</td>\n",
       "      <td>0</td>\n",
       "      <td>True</td>\n",
       "      <td>23739.0</td>\n",
       "      <td>2400.0</td>\n",
       "      <td>0.0</td>\n",
       "      <td>21339.0</td>\n",
       "      <td>...</td>\n",
       "      <td>0</td>\n",
       "      <td>0</td>\n",
       "      <td>1</td>\n",
       "      <td>0</td>\n",
       "      <td>1</td>\n",
       "      <td>0</td>\n",
       "      <td>0</td>\n",
       "      <td>0</td>\n",
       "      <td>1</td>\n",
       "      <td>0</td>\n",
       "    </tr>\n",
       "    <tr>\n",
       "      <th>4</th>\n",
       "      <td>47.0</td>\n",
       "      <td>59.6714</td>\n",
       "      <td>16.2159</td>\n",
       "      <td>1.588057e+09</td>\n",
       "      <td>0</td>\n",
       "      <td>True</td>\n",
       "      <td>2854.0</td>\n",
       "      <td>183.0</td>\n",
       "      <td>0.0</td>\n",
       "      <td>2671.0</td>\n",
       "      <td>...</td>\n",
       "      <td>0</td>\n",
       "      <td>0</td>\n",
       "      <td>1</td>\n",
       "      <td>0</td>\n",
       "      <td>1</td>\n",
       "      <td>0</td>\n",
       "      <td>0</td>\n",
       "      <td>0</td>\n",
       "      <td>1</td>\n",
       "      <td>0</td>\n",
       "    </tr>\n",
       "  </tbody>\n",
       "</table>\n",
       "<p>5 rows × 28 columns</p>\n",
       "</div>"
      ],
      "text/plain": [
       "    age  latitude  longitude  date_confirmation  additional_information  land  \\\n",
       "0  47.0   59.7294    13.2354       1.590822e+09                       0  True   \n",
       "1  47.0   35.2923    -2.9381       1.586934e+09                       0  True   \n",
       "2  47.0   55.9903    13.5958       1.587625e+09                       0  True   \n",
       "3  47.0   59.6025    18.1384       1.586848e+09                       0  True   \n",
       "4  47.0   59.6714    16.2159       1.588057e+09                       0  True   \n",
       "\n",
       "   Confirmed  Deaths  Recovered   Active  ...  outcome_recovered  \\\n",
       "0     1241.0    73.0        0.0   1168.0  ...                  0   \n",
       "1      664.0     4.0      125.0    535.0  ...                  0   \n",
       "2     5366.0   276.0        0.0   5090.0  ...                  0   \n",
       "3    23739.0  2400.0        0.0  21339.0  ...                  0   \n",
       "4     2854.0   183.0        0.0   2671.0  ...                  0   \n",
       "\n",
       "   age_range_ind_False  age_range_ind_Missing  age_range_ind_True  \\\n",
       "0                    0                      1                   0   \n",
       "1                    0                      1                   0   \n",
       "2                    0                      1                   0   \n",
       "3                    0                      1                   0   \n",
       "4                    0                      1                   0   \n",
       "\n",
       "   age_range_adult  age_range_baby  age_range_child  age_range_senior  \\\n",
       "0                1               0                0                 0   \n",
       "1                1               0                0                 0   \n",
       "2                1               0                0                 0   \n",
       "3                1               0                0                 0   \n",
       "4                1               0                0                 0   \n",
       "\n",
       "   Last_Update_2020-09-20 04:22:56  Last_Update_9/20/2020 4:22:56 AM  \n",
       "0                                1                                 0  \n",
       "1                                1                                 0  \n",
       "2                                1                                 0  \n",
       "3                                1                                 0  \n",
       "4                                1                                 0  \n",
       "\n",
       "[5 rows x 28 columns]"
      ]
     },
     "execution_count": 40,
     "metadata": {},
     "output_type": "execute_result"
    }
   ],
   "source": [
    "for col in df.dtypes[df.dtypes == \"object\"].index:\n",
    "    for_dummy = df.pop(col)\n",
    "    df = pd.concat([df, pd.get_dummies(for_dummy, prefix=col)], axis=1)\n",
    "df.head()"
   ]
  },
  {
   "cell_type": "code",
   "execution_count": 41,
   "metadata": {},
   "outputs": [
    {
     "name": "stdout",
     "output_type": "stream",
     "text": [
      "0         0\n",
      "1         0\n",
      "2         0\n",
      "3         0\n",
      "4         0\n",
      "         ..\n",
      "366595    0\n",
      "366596    0\n",
      "366597    0\n",
      "366598    0\n",
      "366599    0\n",
      "Name: outcome_deceased, Length: 366600, dtype: uint8\n"
     ]
    }
   ],
   "source": [
    "labels = df.pop(\"outcome_deceased\")\n",
    "print(labels)"
   ]
  },
  {
   "cell_type": "code",
   "execution_count": null,
   "metadata": {},
   "outputs": [],
   "source": [
    "#Get Target data \n",
    "#y = data['target']\n",
    "\n",
    "#Load X Variables into a Pandas Dataframe with columns \n",
    "#X = data.drop(['target'], axis = 1)"
   ]
  },
  {
   "cell_type": "code",
   "execution_count": 61,
   "metadata": {},
   "outputs": [
    {
     "data": {
      "text/plain": [
       "<seaborn.axisgrid.FacetGrid at 0x124222d30>"
      ]
     },
     "execution_count": 61,
     "metadata": {},
     "output_type": "execute_result"
    },
    {
     "data": {
      "image/png": "[encoded data removed]",
      "text/plain": [
       "<Figure size 360x360 with 1 Axes>"
      ]
     },
     "metadata": {
      "needs_background": "light"
     },
     "output_type": "display_data"
    }
   ],
   "source": [
    "import seaborn as sns\n",
    "sns.displot(labels,kde=False)\n"
   ]
  },
  {
   "cell_type": "code",
   "execution_count": 71,
   "metadata": {},
   "outputs": [
    {
     "name": "stdout",
     "output_type": "stream",
     "text": [
      "label_Y : (366600,)\n",
      "df_X : (366600, 27)\n"
     ]
    }
   ],
   "source": [
    "print(f'label_Y : {labels.shape}')\n",
    "print(f'df_X : {df.shape}')"
   ]
  },
  {
   "cell_type": "code",
   "execution_count": 70,
   "metadata": {},
   "outputs": [],
   "source": [
    "from sklearn.model_selection import train_test_split\n",
    "x_train, x_test, y_train, y_test = train_test_split(df, labels, test_size=0.20)"
   ]
  },
  {
   "cell_type": "code",
   "execution_count": 131,
   "metadata": {},
   "outputs": [
    {
     "data": {
      "text/plain": [
       "RandomForestClassifier()"
      ]
     },
     "execution_count": 131,
     "metadata": {},
     "output_type": "execute_result"
    }
   ],
   "source": [
    "rf = RandomForestClassifier()\n",
    "rf.fit(x_train, y_train)"
   ]
  },
  {
   "cell_type": "code",
   "execution_count": 89,
   "metadata": {},
   "outputs": [
    {
     "name": "stdout",
     "output_type": "stream",
     "text": [
      "{'bootstrap': True, 'ccp_alpha': 0.0, 'class_weight': None, 'criterion': 'gini', 'max_depth': None, 'max_features': 'auto', 'max_leaf_nodes': None, 'max_samples': None, 'min_impurity_decrease': 0.0, 'min_impurity_split': None, 'min_samples_leaf': 1, 'min_samples_split': 2, 'min_weight_fraction_leaf': 0.0, 'n_estimators': 100, 'n_jobs': None, 'oob_score': False, 'random_state': None, 'verbose': 0, 'warm_start': False}\n"
     ]
    }
   ],
   "source": [
    "print(rf.get_params())"
   ]
  },
  {
   "cell_type": "code",
   "execution_count": 90,
   "metadata": {},
   "outputs": [
    {
     "name": "stdout",
     "output_type": "stream",
     "text": [
      "[0 0 0 ... 1 0 0]\n"
     ]
    }
   ],
   "source": [
    "y_pred = rf.predict(x_test)\n",
    "print(y_pred)"
   ]
  },
  {
   "cell_type": "code",
   "execution_count": 46,
   "metadata": {},
   "outputs": [
    {
     "data": {
      "text/plain": [
       "0.9967880085653105"
      ]
     },
     "execution_count": 46,
     "metadata": {},
     "output_type": "execute_result"
    }
   ],
   "source": [
    "from sklearn.metrics import roc_curve, auc\n",
    "false_positive_rate, true_positive_rate, thresholds = roc_curve(y_test, y_pred)\n",
    "roc_auc = auc(false_positive_rate, true_positive_rate)\n",
    "roc_auc"
   ]
  },
  {
   "cell_type": "code",
   "execution_count": 47,
   "metadata": {},
   "outputs": [
    {
     "data": {
      "image/png": "[encoded data removed]",
      "text/plain": [
       "<Figure size 432x288 with 1 Axes>"
      ]
     },
     "metadata": {
      "needs_background": "light"
     },
     "output_type": "display_data"
    }
   ],
   "source": [
    "n_estimators = [1, 2, 4, 8, 16, 32, 64, 100, 200]\n",
    "train_results = []\n",
    "test_results = []\n",
    "\n",
    "for estimator in n_estimators:\n",
    "   rf = RandomForestClassifier(n_estimators=estimator, n_jobs=-1)\n",
    "   rf.fit(x_train, y_train)\n",
    "   train_pred = rf.predict(x_train)\n",
    "   false_positive_rate, true_positive_rate, thresholds = roc_curve(y_train, train_pred)\n",
    "   roc_auc = auc(false_positive_rate, true_positive_rate)\n",
    "   train_results.append(roc_auc)\n",
    "   y_pred = rf.predict(x_test)\n",
    "   false_positive_rate, true_positive_rate, thresholds = roc_curve(y_test, y_pred)\n",
    "   roc_auc = auc(false_positive_rate, true_positive_rate)\n",
    "   test_results.append(roc_auc)\n",
    "\n",
    "\n",
    "from matplotlib.legend_handler import HandlerLine2D\n",
    "line1, = plt.plot(n_estimators, train_results, \"b\", label=\"Train AUC\")\n",
    "line2, = plt.plot(n_estimators, test_results, \"r\", label=\"Test AUC\")\n",
    "plt.legend(handler_map={line1: HandlerLine2D(numpoints=2)})\n",
    "plt.ylabel(\"AUC score\")\n",
    "plt.xlabel(\"n_estimators\")\n",
    "plt.show()"
   ]
  },
  {
   "cell_type": "code",
   "execution_count": 48,
   "metadata": {},
   "outputs": [],
   "source": [
    "def get_recall_on_deseased(y_true, y_pred):\n",
    "    ret = precision_recall_fscore_support(y_true, y_pred, average = None, labels=['deceased', 'hospitalized', 'nonhospitalized', 'recovered'])\n",
    "    return ret[1][0]\n",
    "\n",
    "def get_overall_recall(y_true, y_pred):\n",
    "#     ret = precision_recall_fscore_support(y_true, y_pred, average = None, labels=['deceased', 'hospitalized', 'nonhospitalized', 'recovered'])\n",
    "#     return ret[1].mean()\n",
    "    ret = recall_score(y_true, y_pred, average='macro')\n",
    "    return ret"
   ]
  },
  {
   "cell_type": "code",
   "execution_count": 72,
   "metadata": {},
   "outputs": [],
   "source": [
    "# Number of trees in random forest\n",
    "n_estimators = [int(x) for x in np.linspace(start = 10, stop = 80, num = 10)]\n",
    "# Number of features to consider at every split\n",
    "max_features = ['auto', 'sqrt']\n",
    "# Maximum number of levels in tree\n",
    "max_depth = [2,4]\n",
    "# Minimum number of samples required to split a node\n",
    "min_samples_split = [2, 5]\n",
    "# Minimum number of samples required at each leaf node\n",
    "min_samples_leaf = [1, 2]\n",
    "# Method of selecting samples for training each tree\n",
    "bootstrap = [True, False]"
   ]
  },
  {
   "cell_type": "code",
   "execution_count": 74,
   "metadata": {},
   "outputs": [
    {
     "name": "stdout",
     "output_type": "stream",
     "text": [
      "{'n_estimators': [10, 17, 25, 33, 41, 48, 56, 64, 72, 80], 'max_features': ['auto', 'sqrt'], 'max_depth': [2, 4], 'min_samples_split': [2, 5], 'min_samples_leaf': [1, 2], 'bootstrap': [True, False]}\n"
     ]
    }
   ],
   "source": [
    "param_grid = {'n_estimators': n_estimators,\n",
    "               'max_features': max_features,\n",
    "               'max_depth': max_depth,\n",
    "               'min_samples_split': min_samples_split,\n",
    "               'min_samples_leaf': min_samples_leaf,\n",
    "               'bootstrap': bootstrap}\n",
    "print(param_grid)"
   ]
  },
  {
   "cell_type": "code",
   "execution_count": 77,
   "metadata": {},
   "outputs": [
    {
     "name": "stdout",
     "output_type": "stream",
     "text": [
      "Fitting 3 folds for each of 320 candidates, totalling 960 fits\n"
     ]
    },
    {
     "name": "stderr",
     "output_type": "stream",
     "text": [
      "[Parallel(n_jobs=4)]: Using backend LokyBackend with 4 concurrent workers.\n",
      "[Parallel(n_jobs=4)]: Done  33 tasks      | elapsed:   46.8s\n",
      "[Parallel(n_jobs=4)]: Done 154 tasks      | elapsed:  3.6min\n",
      "[Parallel(n_jobs=4)]: Done 357 tasks      | elapsed:  9.5min\n",
      "[Parallel(n_jobs=4)]: Done 640 tasks      | elapsed: 18.7min\n",
      "[Parallel(n_jobs=4)]: Done 960 out of 960 | elapsed: 30.4min finished\n"
     ]
    },
    {
     "data": {
      "text/plain": [
       "GridSearchCV(cv=3, estimator=RandomForestClassifier(), n_jobs=4,\n",
       "             param_grid={'bootstrap': [True, False], 'max_depth': [2, 4],\n",
       "                         'max_features': ['auto', 'sqrt'],\n",
       "                         'min_samples_leaf': [1, 2],\n",
       "                         'min_samples_split': [2, 5],\n",
       "                         'n_estimators': [10, 17, 25, 33, 41, 48, 56, 64, 72,\n",
       "                                          80]},\n",
       "             verbose=2)"
      ]
     },
     "execution_count": 77,
     "metadata": {},
     "output_type": "execute_result"
    }
   ],
   "source": [
    "from sklearn.model_selection import GridSearchCV\n",
    "rf_Model = RandomForestClassifier()\n",
    "rf_Grid = GridSearchCV(estimator = rf_Model, param_grid = param_grid, cv = 3, verbose=2, n_jobs = 4)\n",
    "rf_Grid.fit(x_train, y_train)"
   ]
  },
  {
   "cell_type": "code",
   "execution_count": 98,
   "metadata": {},
   "outputs": [
    {
     "data": {
      "text/plain": [
       "{'bootstrap': True,\n",
       " 'max_depth': 4,\n",
       " 'max_features': 'auto',\n",
       " 'min_samples_leaf': 2,\n",
       " 'min_samples_split': 2,\n",
       " 'n_estimators': 17}"
      ]
     },
     "execution_count": 98,
     "metadata": {},
     "output_type": "execute_result"
    }
   ],
   "source": [
    "rf_Grid.best_params_"
   ]
  },
  {
   "cell_type": "code",
   "execution_count": 110,
   "metadata": {},
   "outputs": [
    {
     "data": {
      "text/plain": [
       "RandomForestClassifier(max_depth=4, min_samples_leaf=2, n_estimators=17)"
      ]
     },
     "execution_count": 110,
     "metadata": {},
     "output_type": "execute_result"
    }
   ],
   "source": [
    "rf_Grid.best_estimator_"
   ]
  },
  {
   "cell_type": "code",
   "execution_count": 115,
   "metadata": {},
   "outputs": [
    {
     "name": "stdout",
     "output_type": "stream",
     "text": [
      "mean cv score:  0.9877114020731041\n",
      "accuracy:  0.9883115111838516\n",
      "overall recall:  0.5017441860465116\n"
     ]
    }
   ],
   "source": [
    "from sklearn.metrics import precision_score, recall_score, precision_recall_fscore_support\n",
    "from sklearn.metrics import make_scorer\n",
    "from sklearn.metrics import recall_score, accuracy_score\n",
    "\n",
    "best_dt = rf_Grid.best_estimator_\n",
    "print('mean cv score: ', rf_Grid.best_score_)\n",
    "print('accuracy: ', accuracy_score(y_test, best_dt.predict(x_test)))\n",
    "print('overall recall: ', recall_score(y_test, best_dt.predict(x_test), average='macro'))"
   ]
  },
  {
   "cell_type": "code",
   "execution_count": null,
   "metadata": {},
   "outputs": [],
   "source": []
  },
  {
   "cell_type": "code",
   "execution_count": 80,
   "metadata": {},
   "outputs": [
    {
     "data": {
      "text/html": [
       "<div>\n",
       "<style scoped>\n",
       "    .dataframe tbody tr th:only-of-type {\n",
       "        vertical-align: middle;\n",
       "    }\n",
       "\n",
       "    .dataframe tbody tr th {\n",
       "        vertical-align: top;\n",
       "    }\n",
       "\n",
       "    .dataframe thead th {\n",
       "        text-align: right;\n",
       "    }\n",
       "</style>\n",
       "<table border=\"1\" class=\"dataframe\">\n",
       "  <thead>\n",
       "    <tr style=\"text-align: right;\">\n",
       "      <th></th>\n",
       "      <th>mean_fit_time</th>\n",
       "      <th>std_fit_time</th>\n",
       "      <th>mean_score_time</th>\n",
       "      <th>std_score_time</th>\n",
       "      <th>param_bootstrap</th>\n",
       "      <th>param_max_depth</th>\n",
       "      <th>param_max_features</th>\n",
       "      <th>param_min_samples_leaf</th>\n",
       "      <th>param_min_samples_split</th>\n",
       "      <th>param_n_estimators</th>\n",
       "      <th>params</th>\n",
       "      <th>split0_test_score</th>\n",
       "      <th>split1_test_score</th>\n",
       "      <th>split2_test_score</th>\n",
       "      <th>mean_test_score</th>\n",
       "      <th>std_test_score</th>\n",
       "      <th>rank_test_score</th>\n",
       "    </tr>\n",
       "  </thead>\n",
       "  <tbody>\n",
       "    <tr>\n",
       "      <th>0</th>\n",
       "      <td>2.886171</td>\n",
       "      <td>0.024466</td>\n",
       "      <td>0.329864</td>\n",
       "      <td>0.001562</td>\n",
       "      <td>True</td>\n",
       "      <td>2</td>\n",
       "      <td>auto</td>\n",
       "      <td>1</td>\n",
       "      <td>2</td>\n",
       "      <td>10</td>\n",
       "      <td>{'bootstrap': True, 'max_depth': 2, 'max_featu...</td>\n",
       "      <td>0.987613</td>\n",
       "      <td>0.987602</td>\n",
       "      <td>0.987602</td>\n",
       "      <td>0.987606</td>\n",
       "      <td>0.000005</td>\n",
       "      <td>159</td>\n",
       "    </tr>\n",
       "    <tr>\n",
       "      <th>1</th>\n",
       "      <td>2.489047</td>\n",
       "      <td>0.665270</td>\n",
       "      <td>0.403713</td>\n",
       "      <td>0.038079</td>\n",
       "      <td>True</td>\n",
       "      <td>2</td>\n",
       "      <td>auto</td>\n",
       "      <td>1</td>\n",
       "      <td>2</td>\n",
       "      <td>17</td>\n",
       "      <td>{'bootstrap': True, 'max_depth': 2, 'max_featu...</td>\n",
       "      <td>0.987613</td>\n",
       "      <td>0.987602</td>\n",
       "      <td>0.987602</td>\n",
       "      <td>0.987606</td>\n",
       "      <td>0.000005</td>\n",
       "      <td>159</td>\n",
       "    </tr>\n",
       "    <tr>\n",
       "      <th>2</th>\n",
       "      <td>2.478926</td>\n",
       "      <td>0.039003</td>\n",
       "      <td>0.422010</td>\n",
       "      <td>0.008997</td>\n",
       "      <td>True</td>\n",
       "      <td>2</td>\n",
       "      <td>auto</td>\n",
       "      <td>1</td>\n",
       "      <td>2</td>\n",
       "      <td>25</td>\n",
       "      <td>{'bootstrap': True, 'max_depth': 2, 'max_featu...</td>\n",
       "      <td>0.987613</td>\n",
       "      <td>0.987602</td>\n",
       "      <td>0.987602</td>\n",
       "      <td>0.987606</td>\n",
       "      <td>0.000005</td>\n",
       "      <td>159</td>\n",
       "    </tr>\n",
       "    <tr>\n",
       "      <th>3</th>\n",
       "      <td>3.363554</td>\n",
       "      <td>0.126360</td>\n",
       "      <td>0.572383</td>\n",
       "      <td>0.108537</td>\n",
       "      <td>True</td>\n",
       "      <td>2</td>\n",
       "      <td>auto</td>\n",
       "      <td>1</td>\n",
       "      <td>2</td>\n",
       "      <td>33</td>\n",
       "      <td>{'bootstrap': True, 'max_depth': 2, 'max_featu...</td>\n",
       "      <td>0.987613</td>\n",
       "      <td>0.987602</td>\n",
       "      <td>0.987602</td>\n",
       "      <td>0.987606</td>\n",
       "      <td>0.000005</td>\n",
       "      <td>159</td>\n",
       "    </tr>\n",
       "    <tr>\n",
       "      <th>4</th>\n",
       "      <td>3.901793</td>\n",
       "      <td>0.150127</td>\n",
       "      <td>0.524426</td>\n",
       "      <td>0.004816</td>\n",
       "      <td>True</td>\n",
       "      <td>2</td>\n",
       "      <td>auto</td>\n",
       "      <td>1</td>\n",
       "      <td>2</td>\n",
       "      <td>41</td>\n",
       "      <td>{'bootstrap': True, 'max_depth': 2, 'max_featu...</td>\n",
       "      <td>0.987613</td>\n",
       "      <td>0.987602</td>\n",
       "      <td>0.987602</td>\n",
       "      <td>0.987606</td>\n",
       "      <td>0.000005</td>\n",
       "      <td>159</td>\n",
       "    </tr>\n",
       "    <tr>\n",
       "      <th>...</th>\n",
       "      <td>...</td>\n",
       "      <td>...</td>\n",
       "      <td>...</td>\n",
       "      <td>...</td>\n",
       "      <td>...</td>\n",
       "      <td>...</td>\n",
       "      <td>...</td>\n",
       "      <td>...</td>\n",
       "      <td>...</td>\n",
       "      <td>...</td>\n",
       "      <td>...</td>\n",
       "      <td>...</td>\n",
       "      <td>...</td>\n",
       "      <td>...</td>\n",
       "      <td>...</td>\n",
       "      <td>...</td>\n",
       "      <td>...</td>\n",
       "    </tr>\n",
       "    <tr>\n",
       "      <th>315</th>\n",
       "      <td>10.055280</td>\n",
       "      <td>0.063117</td>\n",
       "      <td>0.823560</td>\n",
       "      <td>0.033735</td>\n",
       "      <td>False</td>\n",
       "      <td>4</td>\n",
       "      <td>sqrt</td>\n",
       "      <td>2</td>\n",
       "      <td>5</td>\n",
       "      <td>48</td>\n",
       "      <td>{'bootstrap': False, 'max_depth': 4, 'max_feat...</td>\n",
       "      <td>0.987613</td>\n",
       "      <td>0.987674</td>\n",
       "      <td>0.987674</td>\n",
       "      <td>0.987653</td>\n",
       "      <td>0.000029</td>\n",
       "      <td>78</td>\n",
       "    </tr>\n",
       "    <tr>\n",
       "      <th>316</th>\n",
       "      <td>10.019647</td>\n",
       "      <td>0.197997</td>\n",
       "      <td>0.915161</td>\n",
       "      <td>0.090372</td>\n",
       "      <td>False</td>\n",
       "      <td>4</td>\n",
       "      <td>sqrt</td>\n",
       "      <td>2</td>\n",
       "      <td>5</td>\n",
       "      <td>56</td>\n",
       "      <td>{'bootstrap': False, 'max_depth': 4, 'max_feat...</td>\n",
       "      <td>0.987613</td>\n",
       "      <td>0.987633</td>\n",
       "      <td>0.987602</td>\n",
       "      <td>0.987616</td>\n",
       "      <td>0.000013</td>\n",
       "      <td>153</td>\n",
       "    </tr>\n",
       "    <tr>\n",
       "      <th>317</th>\n",
       "      <td>12.749710</td>\n",
       "      <td>1.308741</td>\n",
       "      <td>0.992679</td>\n",
       "      <td>0.106439</td>\n",
       "      <td>False</td>\n",
       "      <td>4</td>\n",
       "      <td>sqrt</td>\n",
       "      <td>2</td>\n",
       "      <td>5</td>\n",
       "      <td>64</td>\n",
       "      <td>{'bootstrap': False, 'max_depth': 4, 'max_feat...</td>\n",
       "      <td>0.987674</td>\n",
       "      <td>0.987633</td>\n",
       "      <td>0.987674</td>\n",
       "      <td>0.987660</td>\n",
       "      <td>0.000019</td>\n",
       "      <td>53</td>\n",
       "    </tr>\n",
       "    <tr>\n",
       "      <th>318</th>\n",
       "      <td>15.646717</td>\n",
       "      <td>0.162576</td>\n",
       "      <td>1.128037</td>\n",
       "      <td>0.112793</td>\n",
       "      <td>False</td>\n",
       "      <td>4</td>\n",
       "      <td>sqrt</td>\n",
       "      <td>2</td>\n",
       "      <td>5</td>\n",
       "      <td>72</td>\n",
       "      <td>{'bootstrap': False, 'max_depth': 4, 'max_feat...</td>\n",
       "      <td>0.987613</td>\n",
       "      <td>0.987674</td>\n",
       "      <td>0.987674</td>\n",
       "      <td>0.987653</td>\n",
       "      <td>0.000029</td>\n",
       "      <td>78</td>\n",
       "    </tr>\n",
       "    <tr>\n",
       "      <th>319</th>\n",
       "      <td>14.497341</td>\n",
       "      <td>1.272784</td>\n",
       "      <td>0.689089</td>\n",
       "      <td>0.114381</td>\n",
       "      <td>False</td>\n",
       "      <td>4</td>\n",
       "      <td>sqrt</td>\n",
       "      <td>2</td>\n",
       "      <td>5</td>\n",
       "      <td>80</td>\n",
       "      <td>{'bootstrap': False, 'max_depth': 4, 'max_feat...</td>\n",
       "      <td>0.987664</td>\n",
       "      <td>0.987664</td>\n",
       "      <td>0.987725</td>\n",
       "      <td>0.987684</td>\n",
       "      <td>0.000029</td>\n",
       "      <td>18</td>\n",
       "    </tr>\n",
       "  </tbody>\n",
       "</table>\n",
       "<p>320 rows × 17 columns</p>\n",
       "</div>"
      ],
      "text/plain": [
       "     mean_fit_time  std_fit_time  mean_score_time  std_score_time  \\\n",
       "0         2.886171      0.024466         0.329864        0.001562   \n",
       "1         2.489047      0.665270         0.403713        0.038079   \n",
       "2         2.478926      0.039003         0.422010        0.008997   \n",
       "3         3.363554      0.126360         0.572383        0.108537   \n",
       "4         3.901793      0.150127         0.524426        0.004816   \n",
       "..             ...           ...              ...             ...   \n",
       "315      10.055280      0.063117         0.823560        0.033735   \n",
       "316      10.019647      0.197997         0.915161        0.090372   \n",
       "317      12.749710      1.308741         0.992679        0.106439   \n",
       "318      15.646717      0.162576         1.128037        0.112793   \n",
       "319      14.497341      1.272784         0.689089        0.114381   \n",
       "\n",
       "    param_bootstrap param_max_depth param_max_features param_min_samples_leaf  \\\n",
       "0              True               2               auto                      1   \n",
       "1              True               2               auto                      1   \n",
       "2              True               2               auto                      1   \n",
       "3              True               2               auto                      1   \n",
       "4              True               2               auto                      1   \n",
       "..              ...             ...                ...                    ...   \n",
       "315           False               4               sqrt                      2   \n",
       "316           False               4               sqrt                      2   \n",
       "317           False               4               sqrt                      2   \n",
       "318           False               4               sqrt                      2   \n",
       "319           False               4               sqrt                      2   \n",
       "\n",
       "    param_min_samples_split param_n_estimators  \\\n",
       "0                         2                 10   \n",
       "1                         2                 17   \n",
       "2                         2                 25   \n",
       "3                         2                 33   \n",
       "4                         2                 41   \n",
       "..                      ...                ...   \n",
       "315                       5                 48   \n",
       "316                       5                 56   \n",
       "317                       5                 64   \n",
       "318                       5                 72   \n",
       "319                       5                 80   \n",
       "\n",
       "                                                params  split0_test_score  \\\n",
       "0    {'bootstrap': True, 'max_depth': 2, 'max_featu...           0.987613   \n",
       "1    {'bootstrap': True, 'max_depth': 2, 'max_featu...           0.987613   \n",
       "2    {'bootstrap': True, 'max_depth': 2, 'max_featu...           0.987613   \n",
       "3    {'bootstrap': True, 'max_depth': 2, 'max_featu...           0.987613   \n",
       "4    {'bootstrap': True, 'max_depth': 2, 'max_featu...           0.987613   \n",
       "..                                                 ...                ...   \n",
       "315  {'bootstrap': False, 'max_depth': 4, 'max_feat...           0.987613   \n",
       "316  {'bootstrap': False, 'max_depth': 4, 'max_feat...           0.987613   \n",
       "317  {'bootstrap': False, 'max_depth': 4, 'max_feat...           0.987674   \n",
       "318  {'bootstrap': False, 'max_depth': 4, 'max_feat...           0.987613   \n",
       "319  {'bootstrap': False, 'max_depth': 4, 'max_feat...           0.987664   \n",
       "\n",
       "     split1_test_score  split2_test_score  mean_test_score  std_test_score  \\\n",
       "0             0.987602           0.987602         0.987606        0.000005   \n",
       "1             0.987602           0.987602         0.987606        0.000005   \n",
       "2             0.987602           0.987602         0.987606        0.000005   \n",
       "3             0.987602           0.987602         0.987606        0.000005   \n",
       "4             0.987602           0.987602         0.987606        0.000005   \n",
       "..                 ...                ...              ...             ...   \n",
       "315           0.987674           0.987674         0.987653        0.000029   \n",
       "316           0.987633           0.987602         0.987616        0.000013   \n",
       "317           0.987633           0.987674         0.987660        0.000019   \n",
       "318           0.987674           0.987674         0.987653        0.000029   \n",
       "319           0.987664           0.987725         0.987684        0.000029   \n",
       "\n",
       "     rank_test_score  \n",
       "0                159  \n",
       "1                159  \n",
       "2                159  \n",
       "3                159  \n",
       "4                159  \n",
       "..               ...  \n",
       "315               78  \n",
       "316              153  \n",
       "317               53  \n",
       "318               78  \n",
       "319               18  \n",
       "\n",
       "[320 rows x 17 columns]"
      ]
     },
     "execution_count": 80,
     "metadata": {},
     "output_type": "execute_result"
    }
   ],
   "source": [
    "pd.DataFrame(rf_Grid.cv_results_)"
   ]
  },
  {
   "cell_type": "code",
   "execution_count": null,
   "metadata": {},
   "outputs": [],
   "source": [
    "dt_grid_search.best_estimator_\n"
   ]
  },
  {
   "cell_type": "code",
   "execution_count": 83,
   "metadata": {},
   "outputs": [
    {
     "name": "stdout",
     "output_type": "stream",
     "text": [
      "Train Accuracy - : 0.988\n",
      "Test Accuracy - : 0.988\n"
     ]
    }
   ],
   "source": [
    "print (f'Train Accuracy - : {rf_Grid.score(x_train,y_train):.3f}')\n",
    "print (f'Test Accuracy - : {rf_Grid.score(x_test,y_test):.3f}')"
   ]
  },
  {
   "cell_type": "code",
   "execution_count": 132,
   "metadata": {},
   "outputs": [],
   "source": [
    "import pickle\n",
    "filename = 'RandomForestModel0'\n",
    "pickle.dump(rf, open(filename,'wb'))\n",
    "\n"
   ]
  },
  {
   "cell_type": "code",
   "execution_count": 116,
   "metadata": {},
   "outputs": [],
   "source": [
    "filename1 = 'RandomForestModel_tuning'\n",
    "pickle.dump(rf_Grid, open(filename1,'wb'))"
   ]
  },
  {
   "cell_type": "code",
   "execution_count": 134,
   "metadata": {},
   "outputs": [],
   "source": [
    "model = pickle.load(open(filename,'rb'))"
   ]
  },
  {
   "cell_type": "code",
   "execution_count": 117,
   "metadata": {},
   "outputs": [],
   "source": [
    "model2 = pickle.load(open(filename1,'rb'))"
   ]
  },
  {
   "cell_type": "code",
   "execution_count": 135,
   "metadata": {},
   "outputs": [
    {
     "data": {
      "text/plain": [
       "array([0, 0, 0, ..., 1, 0, 0], dtype=uint8)"
      ]
     },
     "execution_count": 135,
     "metadata": {},
     "output_type": "execute_result"
    }
   ],
   "source": [
    "model.predict(x_test)"
   ]
  },
  {
   "cell_type": "code",
   "execution_count": 120,
   "metadata": {},
   "outputs": [
    {
     "data": {
      "text/plain": [
       "{'bootstrap': True,\n",
       " 'max_depth': 4,\n",
       " 'max_features': 'auto',\n",
       " 'min_samples_leaf': 2,\n",
       " 'min_samples_split': 2,\n",
       " 'n_estimators': 17}"
      ]
     },
     "execution_count": 120,
     "metadata": {},
     "output_type": "execute_result"
    }
   ],
   "source": [
    "model2.best_params_"
   ]
  },
  {
   "cell_type": "code",
   "execution_count": 136,
   "metadata": {},
   "outputs": [
    {
     "data": {
      "text/plain": [
       "<sklearn.metrics._plot.confusion_matrix.ConfusionMatrixDisplay at 0x148cb8a60>"
      ]
     },
     "execution_count": 136,
     "metadata": {},
     "output_type": "execute_result"
    },
    {
     "data": {
      "image/png": "[encoded data removed]",
      "text/plain": [
       "<Figure size 432x288 with 2 Axes>"
      ]
     },
     "metadata": {
      "needs_background": "light"
     },
     "output_type": "display_data"
    }
   ],
   "source": [
    "from sklearn.metrics import confusion_matrix, ConfusionMatrixDisplay\n",
    "\n",
    "y_test_pred = model.predict(x_test)\n",
    "test_matrix = confusion_matrix(y_test, y_test_pred)\n",
    "ConfusionMatrixDisplay(test_matrix).plot()"
   ]
  },
  {
   "cell_type": "code",
   "execution_count": 119,
   "metadata": {},
   "outputs": [
    {
     "data": {
      "text/plain": [
       "<sklearn.metrics._plot.confusion_matrix.ConfusionMatrixDisplay at 0x146b59580>"
      ]
     },
     "execution_count": 119,
     "metadata": {},
     "output_type": "execute_result"
    },
    {
     "data": {
      "image/png": "[encoded data removed]",
      "text/plain": [
       "<Figure size 432x288 with 2 Axes>"
      ]
     },
     "metadata": {
      "needs_background": "light"
     },
     "output_type": "display_data"
    }
   ],
   "source": [
    "from sklearn.metrics import confusion_matrix, ConfusionMatrixDisplay\n",
    "\n",
    "y_test_pred = model2.predict(x_test)\n",
    "test_matrix = confusion_matrix(y_test, y_test_pred)\n",
    "ConfusionMatrixDisplay(test_matrix).plot()"
   ]
  },
  {
   "cell_type": "code",
   "execution_count": 97,
   "metadata": {},
   "outputs": [
    {
     "data": {
      "text/plain": [
       "<sklearn.metrics._plot.confusion_matrix.ConfusionMatrixDisplay at 0x124235070>"
      ]
     },
     "execution_count": 97,
     "metadata": {},
     "output_type": "execute_result"
    },
    {
     "data": {
      "image/png": "[encoded data removed]",
      "text/plain": [
       "<Figure size 432x288 with 2 Axes>"
      ]
     },
     "metadata": {
      "needs_background": "light"
     },
     "output_type": "display_data"
    }
   ],
   "source": [
    "y_train_pred = model.predict(x_train)\n",
    "train_matrix = confusion_matrix(y_train, y_train_pred)\n",
    "ConfusionMatrixDisplay(train_matrix).plot()"
   ]
  },
  {
   "cell_type": "code",
   "execution_count": 121,
   "metadata": {},
   "outputs": [
    {
     "data": {
      "text/plain": [
       "<sklearn.metrics._plot.confusion_matrix.ConfusionMatrixDisplay at 0x146b54f70>"
      ]
     },
     "execution_count": 121,
     "metadata": {},
     "output_type": "execute_result"
    },
    {
     "data": {
      "image/png": "[encoded data removed]",
      "text/plain": [
       "<Figure size 432x288 with 2 Axes>"
      ]
     },
     "metadata": {
      "needs_background": "light"
     },
     "output_type": "display_data"
    }
   ],
   "source": [
    "y_train_pred = model2.predict(x_train)\n",
    "train_matrix = confusion_matrix(y_train, y_train_pred)\n",
    "ConfusionMatrixDisplay(train_matrix).plot()"
   ]
  },
  {
   "cell_type": "code",
   "execution_count": 128,
   "metadata": {},
   "outputs": [
    {
     "data": {
      "text/plain": [
       "0.9876738952536824"
      ]
     },
     "execution_count": 128,
     "metadata": {},
     "output_type": "execute_result"
    }
   ],
   "source": [
    "model.score(x_train,y_train)"
   ]
  },
  {
   "cell_type": "code",
   "execution_count": 124,
   "metadata": {},
   "outputs": [
    {
     "data": {
      "text/plain": [
       "0.9876738952536824"
      ]
     },
     "execution_count": 124,
     "metadata": {},
     "output_type": "execute_result"
    }
   ],
   "source": [
    "model2.score(x_train,y_train)"
   ]
  },
  {
   "cell_type": "code",
   "execution_count": 106,
   "metadata": {},
   "outputs": [
    {
     "data": {
      "text/plain": [
       "0.9999454446262956"
      ]
     },
     "execution_count": 106,
     "metadata": {},
     "output_type": "execute_result"
    }
   ],
   "source": [
    "model.score(x_test,y_test)"
   ]
  },
  {
   "cell_type": "code",
   "execution_count": 108,
   "metadata": {},
   "outputs": [
    {
     "data": {
      "text/plain": [
       "[]"
      ]
     },
     "execution_count": 108,
     "metadata": {},
     "output_type": "execute_result"
    },
    {
     "data": {
      "image/png": "[encoded data removed]",
      "text/plain": [
       "<Figure size 1080x720 with 1 Axes>"
      ]
     },
     "metadata": {
      "needs_background": "light"
     },
     "output_type": "display_data"
    }
   ],
   "source": [
    "max_depth_list = np.linspace(1, 15, num=15)\n",
    "\n",
    "train_accuracy = []\n",
    "test_accuracy = []\n",
    "\n",
    "for d in max_depth_list:\n",
    "    rfc = RandomForestClassifier(n_estimators=100, max_depth=int(d), min_samples_leaf=10) \n",
    "    rfc.fit(x_train,y_train)\n",
    "    train_accuracy.append(rfc.score(x_train, y_train))\n",
    "    test_accuracy.append(rfc.score(x_test, y_test))\n",
    "\n",
    "x = np.arange(len(max_depth_list)) + 1\n",
    "plt.figure(figsize=(15,10))\n",
    "plt.xticks(x)\n",
    "plt.plot(x, train_accuracy, label='Training Accuracy')\n",
    "plt.plot(x, test_accuracy, label='Testing Accuracy')\n",
    "plt.xlabel('Maximum Tree Depth')\n",
    "plt.ylabel('Model Accuracy')\n",
    "plt.legend()\n",
    "plt.plot()\n"
   ]
  },
  {
   "cell_type": "code",
   "execution_count": null,
   "metadata": {},
   "outputs": [],
   "source": []
  }
 ],
 "metadata": {
  "kernelspec": {
   "display_name": "Python 3",
   "language": "python",
   "name": "python3"
  },
  "language_info": {
   "codemirror_mode": {
    "name": "ipython",
    "version": 3
   },
   "file_extension": ".py",
   "mimetype": "text/x-python",
   "name": "python",
   "nbconvert_exporter": "python",
   "pygments_lexer": "ipython3",
   "version": "3.8.5"
  }
 },
 "nbformat": 4,
 "nbformat_minor": 4
}
