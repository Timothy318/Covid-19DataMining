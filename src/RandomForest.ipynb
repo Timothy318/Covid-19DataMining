{
 "cells": [
  {
   "cell_type": "code",
   "execution_count": 32,
   "metadata": {},
   "outputs": [],
   "source": [
    "import numpy as np \n",
    "import pandas as pd\n",
    "import math\n",
    "import matplotlib.pyplot as plt\n",
    "from sklearn.ensemble import RandomForestClassifier\n",
    "from sklearn.preprocessing import LabelEncoder\n",
    "%matplotlib inline"
   ]
  },
  {
   "cell_type": "code",
   "execution_count": 218,
   "metadata": {},
   "outputs": [
    {
     "name": "stderr",
     "output_type": "stream",
     "text": [
      "/Users/timothywaikinlam/opt/anaconda3/lib/python3.8/site-packages/IPython/core/interactiveshell.py:3146: DtypeWarning: Columns (13) have mixed types.Specify dtype option on import or set low_memory=False.\n",
      "  has_raised = await self.run_ast_nodes(code_ast.body, cell_name,\n"
     ]
    }
   ],
   "source": [
    "df=pd.read_csv('cases_train_preprocessed.csv')"
   ]
  },
  {
   "cell_type": "markdown",
   "metadata": {},
   "source": [
    "## Preparing data for building model"
   ]
  },
  {
   "cell_type": "code",
   "execution_count": 219,
   "metadata": {},
   "outputs": [],
   "source": [
    "def convertText(x):\n",
    "    if x == '[]':\n",
    "        return 0\n",
    "    else:\n",
    "        return 1\n",
    "df['additional_information'] = df['additional_information'].apply(convertText)"
   ]
  },
  {
   "cell_type": "code",
   "execution_count": 220,
   "metadata": {},
   "outputs": [],
   "source": [
    "def convertText(x):\n",
    "    if x == '':\n",
    "        return 0\n",
    "    else:\n",
    "        return 1\n",
    "df['source'] = df['source'].apply(convertText)"
   ]
  },
  {
   "cell_type": "code",
   "execution_count": 221,
   "metadata": {},
   "outputs": [],
   "source": [
    "y = df['outcome']\n",
    "df=df.drop(columns=['province', 'country','Last_Update', 'land', 'outcome'])"
   ]
  },
  {
   "cell_type": "code",
   "execution_count": 223,
   "metadata": {},
   "outputs": [
    {
     "data": {
      "text/html": [
       "<div>\n",
       "<style scoped>\n",
       "    .dataframe tbody tr th:only-of-type {\n",
       "        vertical-align: middle;\n",
       "    }\n",
       "\n",
       "    .dataframe tbody tr th {\n",
       "        vertical-align: top;\n",
       "    }\n",
       "\n",
       "    .dataframe thead th {\n",
       "        text-align: right;\n",
       "    }\n",
       "</style>\n",
       "<table border=\"1\" class=\"dataframe\">\n",
       "  <thead>\n",
       "    <tr style=\"text-align: right;\">\n",
       "      <th></th>\n",
       "      <th>age</th>\n",
       "      <th>latitude</th>\n",
       "      <th>longitude</th>\n",
       "      <th>date_confirmation</th>\n",
       "      <th>additional_information</th>\n",
       "      <th>source</th>\n",
       "      <th>Confirmed</th>\n",
       "      <th>Deaths</th>\n",
       "      <th>Recovered</th>\n",
       "      <th>Active</th>\n",
       "      <th>...</th>\n",
       "      <th>sex_Not Available</th>\n",
       "      <th>sex_female</th>\n",
       "      <th>sex_male</th>\n",
       "      <th>age_range_ind_False</th>\n",
       "      <th>age_range_ind_Missing</th>\n",
       "      <th>age_range_ind_True</th>\n",
       "      <th>age_range_adult</th>\n",
       "      <th>age_range_baby</th>\n",
       "      <th>age_range_child</th>\n",
       "      <th>age_range_senior</th>\n",
       "    </tr>\n",
       "  </thead>\n",
       "  <tbody>\n",
       "    <tr>\n",
       "      <th>0</th>\n",
       "      <td>47.0</td>\n",
       "      <td>59.7294</td>\n",
       "      <td>13.2354</td>\n",
       "      <td>1.590822e+09</td>\n",
       "      <td>0</td>\n",
       "      <td>1</td>\n",
       "      <td>1241.0</td>\n",
       "      <td>73.0</td>\n",
       "      <td>0.0</td>\n",
       "      <td>1168.0</td>\n",
       "      <td>...</td>\n",
       "      <td>1</td>\n",
       "      <td>0</td>\n",
       "      <td>0</td>\n",
       "      <td>0</td>\n",
       "      <td>1</td>\n",
       "      <td>0</td>\n",
       "      <td>1</td>\n",
       "      <td>0</td>\n",
       "      <td>0</td>\n",
       "      <td>0</td>\n",
       "    </tr>\n",
       "    <tr>\n",
       "      <th>1</th>\n",
       "      <td>47.0</td>\n",
       "      <td>35.2923</td>\n",
       "      <td>-2.9381</td>\n",
       "      <td>1.586934e+09</td>\n",
       "      <td>0</td>\n",
       "      <td>1</td>\n",
       "      <td>664.0</td>\n",
       "      <td>4.0</td>\n",
       "      <td>125.0</td>\n",
       "      <td>535.0</td>\n",
       "      <td>...</td>\n",
       "      <td>1</td>\n",
       "      <td>0</td>\n",
       "      <td>0</td>\n",
       "      <td>0</td>\n",
       "      <td>1</td>\n",
       "      <td>0</td>\n",
       "      <td>1</td>\n",
       "      <td>0</td>\n",
       "      <td>0</td>\n",
       "      <td>0</td>\n",
       "    </tr>\n",
       "    <tr>\n",
       "      <th>2</th>\n",
       "      <td>47.0</td>\n",
       "      <td>55.9903</td>\n",
       "      <td>13.5958</td>\n",
       "      <td>1.587625e+09</td>\n",
       "      <td>0</td>\n",
       "      <td>1</td>\n",
       "      <td>5366.0</td>\n",
       "      <td>276.0</td>\n",
       "      <td>0.0</td>\n",
       "      <td>5090.0</td>\n",
       "      <td>...</td>\n",
       "      <td>1</td>\n",
       "      <td>0</td>\n",
       "      <td>0</td>\n",
       "      <td>0</td>\n",
       "      <td>1</td>\n",
       "      <td>0</td>\n",
       "      <td>1</td>\n",
       "      <td>0</td>\n",
       "      <td>0</td>\n",
       "      <td>0</td>\n",
       "    </tr>\n",
       "    <tr>\n",
       "      <th>3</th>\n",
       "      <td>47.0</td>\n",
       "      <td>59.6025</td>\n",
       "      <td>18.1384</td>\n",
       "      <td>1.586848e+09</td>\n",
       "      <td>0</td>\n",
       "      <td>1</td>\n",
       "      <td>23739.0</td>\n",
       "      <td>2400.0</td>\n",
       "      <td>0.0</td>\n",
       "      <td>21339.0</td>\n",
       "      <td>...</td>\n",
       "      <td>1</td>\n",
       "      <td>0</td>\n",
       "      <td>0</td>\n",
       "      <td>0</td>\n",
       "      <td>1</td>\n",
       "      <td>0</td>\n",
       "      <td>1</td>\n",
       "      <td>0</td>\n",
       "      <td>0</td>\n",
       "      <td>0</td>\n",
       "    </tr>\n",
       "    <tr>\n",
       "      <th>4</th>\n",
       "      <td>47.0</td>\n",
       "      <td>59.6714</td>\n",
       "      <td>16.2159</td>\n",
       "      <td>1.588057e+09</td>\n",
       "      <td>0</td>\n",
       "      <td>1</td>\n",
       "      <td>2854.0</td>\n",
       "      <td>183.0</td>\n",
       "      <td>0.0</td>\n",
       "      <td>2671.0</td>\n",
       "      <td>...</td>\n",
       "      <td>1</td>\n",
       "      <td>0</td>\n",
       "      <td>0</td>\n",
       "      <td>0</td>\n",
       "      <td>1</td>\n",
       "      <td>0</td>\n",
       "      <td>1</td>\n",
       "      <td>0</td>\n",
       "      <td>0</td>\n",
       "      <td>0</td>\n",
       "    </tr>\n",
       "  </tbody>\n",
       "</table>\n",
       "<p>5 rows × 22 columns</p>\n",
       "</div>"
      ],
      "text/plain": [
       "    age  latitude  longitude  date_confirmation  additional_information  \\\n",
       "0  47.0   59.7294    13.2354       1.590822e+09                       0   \n",
       "1  47.0   35.2923    -2.9381       1.586934e+09                       0   \n",
       "2  47.0   55.9903    13.5958       1.587625e+09                       0   \n",
       "3  47.0   59.6025    18.1384       1.586848e+09                       0   \n",
       "4  47.0   59.6714    16.2159       1.588057e+09                       0   \n",
       "\n",
       "   source  Confirmed  Deaths  Recovered   Active  ...  sex_Not Available  \\\n",
       "0       1     1241.0    73.0        0.0   1168.0  ...                  1   \n",
       "1       1      664.0     4.0      125.0    535.0  ...                  1   \n",
       "2       1     5366.0   276.0        0.0   5090.0  ...                  1   \n",
       "3       1    23739.0  2400.0        0.0  21339.0  ...                  1   \n",
       "4       1     2854.0   183.0        0.0   2671.0  ...                  1   \n",
       "\n",
       "   sex_female  sex_male  age_range_ind_False  age_range_ind_Missing  \\\n",
       "0           0         0                    0                      1   \n",
       "1           0         0                    0                      1   \n",
       "2           0         0                    0                      1   \n",
       "3           0         0                    0                      1   \n",
       "4           0         0                    0                      1   \n",
       "\n",
       "   age_range_ind_True  age_range_adult  age_range_baby  age_range_child  \\\n",
       "0                   0                1               0                0   \n",
       "1                   0                1               0                0   \n",
       "2                   0                1               0                0   \n",
       "3                   0                1               0                0   \n",
       "4                   0                1               0                0   \n",
       "\n",
       "   age_range_senior  \n",
       "0                 0  \n",
       "1                 0  \n",
       "2                 0  \n",
       "3                 0  \n",
       "4                 0  \n",
       "\n",
       "[5 rows x 22 columns]"
      ]
     },
     "execution_count": 223,
     "metadata": {},
     "output_type": "execute_result"
    }
   ],
   "source": [
    "df.head()"
   ]
  },
  {
   "cell_type": "code",
   "execution_count": 222,
   "metadata": {},
   "outputs": [],
   "source": [
    "for col in df.dtypes[df.dtypes == \"object\"].index:\n",
    "    for_dummy = df.pop(col)\n",
    "    df = pd.concat([df, pd.get_dummies(for_dummy, prefix=col)], axis=1)"
   ]
  },
  {
   "cell_type": "code",
   "execution_count": 231,
   "metadata": {},
   "outputs": [
    {
     "name": "stdout",
     "output_type": "stream",
     "text": [
      "label_Y : (366600,)\n",
      "df_X : (366600, 22)\n"
     ]
    }
   ],
   "source": [
    "print(f'label_Y : {y.shape}')\n",
    "print(f'df_X : {df.shape}')"
   ]
  },
  {
   "cell_type": "markdown",
   "metadata": {},
   "source": [
    "## Split Data"
   ]
  },
  {
   "cell_type": "code",
   "execution_count": 226,
   "metadata": {},
   "outputs": [],
   "source": [
    "from sklearn.model_selection import train_test_split\n",
    "x_train, x_test, y_train, y_test = train_test_split(df, y, test_size=0.2)"
   ]
  },
  {
   "cell_type": "markdown",
   "metadata": {},
   "source": [
    "## Building model with default parameters"
   ]
  },
  {
   "cell_type": "code",
   "execution_count": 227,
   "metadata": {},
   "outputs": [
    {
     "data": {
      "text/plain": [
       "RandomForestClassifier()"
      ]
     },
     "execution_count": 227,
     "metadata": {},
     "output_type": "execute_result"
    }
   ],
   "source": [
    "rf = RandomForestClassifier()\n",
    "rf.fit(x_train, y_train)"
   ]
  },
  {
   "cell_type": "code",
   "execution_count": 150,
   "metadata": {},
   "outputs": [
    {
     "data": {
      "text/plain": [
       "RandomForestClassifier(n_estimators=36)"
      ]
     },
     "execution_count": 150,
     "metadata": {},
     "output_type": "execute_result"
    }
   ],
   "source": [
    "rf2 = RandomForestClassifier(n_estimators=36)\n",
    "rf2.fit(x_train, y_train)"
   ]
  },
  {
   "cell_type": "code",
   "execution_count": 182,
   "metadata": {},
   "outputs": [
    {
     "data": {
      "text/plain": [
       "RandomForestClassifier(n_estimators=17)"
      ]
     },
     "execution_count": 182,
     "metadata": {},
     "output_type": "execute_result"
    }
   ],
   "source": [
    "rf3 = RandomForestClassifier(n_estimators=17)\n",
    "rf3.fit(x_train, y_train)"
   ]
  },
  {
   "cell_type": "code",
   "execution_count": 236,
   "metadata": {},
   "outputs": [
    {
     "name": "stdout",
     "output_type": "stream",
     "text": [
      "{'bootstrap': True, 'ccp_alpha': 0.0, 'class_weight': None, 'criterion': 'gini', 'max_depth': None, 'max_features': 'auto', 'max_leaf_nodes': None, 'max_samples': None, 'min_impurity_decrease': 0.0, 'min_impurity_split': None, 'min_samples_leaf': 1, 'min_samples_split': 2, 'min_weight_fraction_leaf': 0.0, 'n_estimators': 100, 'n_jobs': -1, 'oob_score': False, 'random_state': None, 'verbose': 0, 'warm_start': False}\n"
     ]
    }
   ],
   "source": [
    "print(rf.get_params())"
   ]
  },
  {
   "cell_type": "code",
   "execution_count": 230,
   "metadata": {},
   "outputs": [
    {
     "name": "stdout",
     "output_type": "stream",
     "text": [
      "Train Accuracy - : 0.888\n",
      "Test Accuracy - : 0.875\n"
     ]
    }
   ],
   "source": [
    "print (f'Train Accuracy - : {rf.score(x_train,y_train):.3f}')\n",
    "print (f'Test Accuracy - : {rf.score(x_test,y_test):.3f}')"
   ]
  },
  {
   "cell_type": "code",
   "execution_count": 235,
   "metadata": {},
   "outputs": [
    {
     "name": "stdout",
     "output_type": "stream",
     "text": [
      "Test accuracy:  0.8750818330605564\n",
      "Test overall recall:  0.6786563039362952\n"
     ]
    }
   ],
   "source": [
    "print('Test accuracy: ', accuracy_score(y_test, rf.predict(x_test)))\n",
    "print('Test overall recall: ', recall_score(y_test, rf.predict(x_test), average='macro'))"
   ]
  },
  {
   "cell_type": "code",
   "execution_count": null,
   "metadata": {},
   "outputs": [],
   "source": [
    "#n_estimators=36: 0.9983164983164983, 0.9988776655443322, FN=3\n",
    "#default: 0.9977553310886644, FN=4\n",
    "# 0.9971941638608306\n",
    "#n_estimators=30:\n"
   ]
  },
  {
   "cell_type": "markdown",
   "metadata": {},
   "source": [
    "## Building model with other parameters\n"
   ]
  },
  {
   "cell_type": "code",
   "execution_count": 238,
   "metadata": {},
   "outputs": [
    {
     "data": {
      "text/plain": [
       "RandomForestClassifier(n_estimators=40)"
      ]
     },
     "execution_count": 238,
     "metadata": {},
     "output_type": "execute_result"
    }
   ],
   "source": [
    "rf2 = RandomForestClassifier(n_estimators=40)\n",
    "rf2.fit(x_train, y_train)"
   ]
  },
  {
   "cell_type": "code",
   "execution_count": 239,
   "metadata": {},
   "outputs": [
    {
     "name": "stdout",
     "output_type": "stream",
     "text": [
      "Train Accuracy - : 0.888\n",
      "Test Accuracy - : 0.875\n"
     ]
    }
   ],
   "source": [
    "print (f'Train Accuracy - : {rf2.score(x_train,y_train):.3f}')\n",
    "print (f'Test Accuracy - : {rf2.score(x_test,y_test):.3f}')"
   ]
  },
  {
   "cell_type": "code",
   "execution_count": 240,
   "metadata": {},
   "outputs": [
    {
     "name": "stdout",
     "output_type": "stream",
     "text": [
      "Test accuracy:  0.8749863611565739\n",
      "Test overall recall:  0.6797833324681253\n"
     ]
    }
   ],
   "source": [
    "print('Test accuracy: ', accuracy_score(y_test, rf2.predict(x_test)))\n",
    "print('Test overall recall: ', recall_score(y_test, rf2.predict(x_test), average='macro'))"
   ]
  },
  {
   "cell_type": "markdown",
   "metadata": {},
   "source": [
    "## Checking for Overfitting"
   ]
  },
  {
   "cell_type": "code",
   "execution_count": 233,
   "metadata": {},
   "outputs": [
    {
     "data": {
      "image/png": "[encoded data removed]",
      "text/plain": [
       "<Figure size 432x288 with 1 Axes>"
      ]
     },
     "metadata": {
      "needs_background": "light"
     },
     "output_type": "display_data"
    }
   ],
   "source": [
    "n_estimators = [1, 2, 4, 8, 16, 32, 64, 100]\n",
    "train = []\n",
    "test = []\n",
    "\n",
    "for i in n_estimators:\n",
    "    rf = RandomForestClassifier(n_estimators=i, n_jobs=-1)\n",
    "    rf.fit(x_train, y_train)\n",
    "    train.append(accuracy_score(y_train, rf.predict(x_train)))\n",
    "    test.append(accuracy_score(y_test, rf.predict(x_test)))\n",
    "    \n",
    "from matplotlib.legend_handler import HandlerLine2D\n",
    "line1, = plt.plot(n_estimators, train, \"b\", label=\"Train Accuracy\")\n",
    "line2, = plt.plot(n_estimators, test, \"r\", label=\"Test Accuracy\")\n",
    "plt.legend(handler_map={line1: HandlerLine2D(numpoints=2)})\n",
    "plt.ylabel(\"Accuracy score\")\n",
    "plt.xlabel(\"n_estimators\")\n",
    "plt.show()"
   ]
  },
  {
   "cell_type": "code",
   "execution_count": 237,
   "metadata": {},
   "outputs": [
    {
     "data": {
      "image/png": "[encoded data removed]",
      "text/plain": [
       "<Figure size 432x288 with 1 Axes>"
      ]
     },
     "metadata": {
      "needs_background": "light"
     },
     "output_type": "display_data"
    }
   ],
   "source": [
    "n_estimators = [1, 10, 20, 30, 40, 50, 60, 70, 80, 90, 100]\n",
    "train = []\n",
    "test = []\n",
    "\n",
    "for i in n_estimators:\n",
    "    rf = RandomForestClassifier(n_estimators=i, n_jobs=-1)\n",
    "    rf.fit(x_train, y_train)\n",
    "    train.append(rf.score(x_train,y_train))\n",
    "    test.append(rf.score(x_test,y_test))\n",
    "    \n",
    "from matplotlib.legend_handler import HandlerLine2D\n",
    "line1, = plt.plot(n_estimators, train, \"b\", label=\"Train Accuracy\")\n",
    "line2, = plt.plot(n_estimators, test, \"r\", label=\"Test Accuracy\")\n",
    "plt.legend(handler_map={line1: HandlerLine2D(numpoints=2)})\n",
    "plt.ylabel(\"Accuracy score\")\n",
    "plt.xlabel(\"n_estimators\")\n",
    "plt.show()"
   ]
  },
  {
   "cell_type": "markdown",
   "metadata": {},
   "source": [
    "Testing with different n_estimators, found that for n_estimators=36 have the least overfitting, so I used n_estimators=36 to build a new model"
   ]
  },
  {
   "cell_type": "code",
   "execution_count": 242,
   "metadata": {},
   "outputs": [
    {
     "data": {
      "text/plain": [
       "[]"
      ]
     },
     "execution_count": 242,
     "metadata": {},
     "output_type": "execute_result"
    },
    {
     "data": {
      "image/png": "[encoded data removed]",
      "text/plain": [
       "<Figure size 1080x720 with 1 Axes>"
      ]
     },
     "metadata": {
      "needs_background": "light"
     },
     "output_type": "display_data"
    }
   ],
   "source": [
    "max_depth_list = np.linspace(1, 15, num=15)\n",
    "\n",
    "train_accuracy = []\n",
    "test_accuracy = []\n",
    "\n",
    "for i in max_depth_list:\n",
    "    rfc = RandomForestClassifier(max_depth=int(i)) \n",
    "    rfc.fit(x_train,y_train)\n",
    "    train_accuracy.append(rfc.score(x_train, y_train))\n",
    "    test_accuracy.append(rfc.score(x_test, y_test))\n",
    "\n",
    "x = np.arange(len(max_depth_list)) + 1\n",
    "plt.figure(figsize=(15,10))\n",
    "plt.xticks(x)\n",
    "plt.plot(x, train_accuracy, label='Training Accuracy')\n",
    "plt.plot(x, test_accuracy, label='Testing Accuracy')\n",
    "plt.xlabel('Max Tree Depth')\n",
    "plt.ylabel('Accuracy')\n",
    "plt.legend()\n",
    "plt.plot()"
   ]
  },
  {
   "cell_type": "markdown",
   "metadata": {},
   "source": [
    "## Matrix Evaluation"
   ]
  },
  {
   "cell_type": "markdown",
   "metadata": {},
   "source": [
    "Comparing two model matrics"
   ]
  },
  {
   "cell_type": "code",
   "execution_count": 243,
   "metadata": {},
   "outputs": [
    {
     "data": {
      "text/plain": [
       "Text(0.5, 1.0, 'Confusion matrix for test set')"
      ]
     },
     "execution_count": 243,
     "metadata": {},
     "output_type": "execute_result"
    },
    {
     "data": {
      "image/png": "[encoded data removed]",
      "text/plain": [
       "<Figure size 432x288 with 2 Axes>"
      ]
     },
     "metadata": {
      "needs_background": "light"
     },
     "output_type": "display_data"
    }
   ],
   "source": [
    "from sklearn.metrics import confusion_matrix, ConfusionMatrixDisplay\n",
    "y_test_pred = rf.predict(x_test)\n",
    "test_matrix = confusion_matrix(y_test, y_test_pred)\n",
    "ConfusionMatrixDisplay(test_matrix).plot()\n",
    "plt.title('Confusion matrix for test set')"
   ]
  },
  {
   "cell_type": "code",
   "execution_count": 245,
   "metadata": {},
   "outputs": [
    {
     "name": "stdout",
     "output_type": "stream",
     "text": [
      "Test accuracy:  0.8752318603382433\n",
      "Test overall recall:  0.6794723038518696\n"
     ]
    }
   ],
   "source": [
    "from sklearn.metrics import precision_score, recall_score, precision_recall_fscore_support\n",
    "from sklearn.metrics import make_scorer\n",
    "from sklearn.metrics import recall_score, accuracy_score\n",
    "\n",
    "print('Test accuracy: ', accuracy_score(y_test, rf.predict(x_test)))\n",
    "print('Test overall recall: ', recall_score(y_test, rf.predict(x_test), average='macro'))"
   ]
  },
  {
   "cell_type": "code",
   "execution_count": 246,
   "metadata": {},
   "outputs": [
    {
     "data": {
      "text/plain": [
       "Text(0.5, 1.0, 'Confusion matrix for test set')"
      ]
     },
     "execution_count": 246,
     "metadata": {},
     "output_type": "execute_result"
    },
    {
     "data": {
      "image/png": "[encoded data removed]",
      "text/plain": [
       "<Figure size 432x288 with 2 Axes>"
      ]
     },
     "metadata": {
      "needs_background": "light"
     },
     "output_type": "display_data"
    }
   ],
   "source": [
    "from sklearn.metrics import confusion_matrix, ConfusionMatrixDisplay\n",
    "\n",
    "y_test_pred = model.predict(x_test)\n",
    "test_matrix = confusion_matrix(y_test, y_test_pred)\n",
    "ConfusionMatrixDisplay(test_matrix).plot()\n",
    "plt.title('Confusion matrix for test set')"
   ]
  },
  {
   "cell_type": "markdown",
   "metadata": {},
   "source": [
    "We could see that after n_estimators has changed, the FN score is decresed, and the recall has increased. Therefore, the test accuracy is also increased."
   ]
  },
  {
   "cell_type": "code",
   "execution_count": 247,
   "metadata": {},
   "outputs": [
    {
     "name": "stdout",
     "output_type": "stream",
     "text": [
      "Test accuracy:  0.8752318603382433\n",
      "Test overall recall:  0.6794723038518696\n"
     ]
    }
   ],
   "source": [
    "print('Test accuracy: ', accuracy_score(y_test, rf.predict(x_test)))\n",
    "print('Test overall recall: ', recall_score(y_test, rf.predict(x_test), average='macro'))"
   ]
  },
  {
   "cell_type": "code",
   "execution_count": 244,
   "metadata": {},
   "outputs": [
    {
     "data": {
      "text/plain": [
       "Text(0.5, 1.0, 'Confusion matrix for train set')"
      ]
     },
     "execution_count": 244,
     "metadata": {},
     "output_type": "execute_result"
    },
    {
     "data": {
      "image/png": "[encoded data removed]",
      "text/plain": [
       "<Figure size 432x288 with 2 Axes>"
      ]
     },
     "metadata": {
      "needs_background": "light"
     },
     "output_type": "display_data"
    }
   ],
   "source": [
    "y_train_pred = rf.predict(x_train)\n",
    "train_matrix = confusion_matrix(y_train, y_train_pred)\n",
    "ConfusionMatrixDisplay(train_matrix).plot()\n",
    "plt.title('Confusion matrix for train set')"
   ]
  },
  {
   "cell_type": "code",
   "execution_count": 202,
   "metadata": {},
   "outputs": [
    {
     "name": "stdout",
     "output_type": "stream",
     "text": [
      "Train accuracy:  1.0\n",
      "Train overall recall:  1.0\n"
     ]
    }
   ],
   "source": [
    "print('Train accuracy: ', accuracy_score(y_train, model.predict(x_train)))\n",
    "print('Train overall recall: ', recall_score(y_train, model.predict(x_train), average='macro'))"
   ]
  },
  {
   "cell_type": "code",
   "execution_count": 199,
   "metadata": {},
   "outputs": [],
   "source": [
    "import pickle\n",
    "filename = 'RandomForestModel'\n",
    "pickle.dump(rf2, open(filename,'wb'))"
   ]
  },
  {
   "cell_type": "code",
   "execution_count": 200,
   "metadata": {},
   "outputs": [],
   "source": [
    "model = pickle.load(open(filename,'rb'))"
   ]
  },
  {
   "cell_type": "code",
   "execution_count": null,
   "metadata": {},
   "outputs": [],
   "source": []
  }
 ],
 "metadata": {
  "kernelspec": {
   "display_name": "Python 3",
   "language": "python",
   "name": "python3"
  },
  "language_info": {
   "codemirror_mode": {
    "name": "ipython",
    "version": 3
   },
   "file_extension": ".py",
   "mimetype": "text/x-python",
   "name": "python",
   "nbconvert_exporter": "python",
   "pygments_lexer": "ipython3",
   "version": "3.8.5"
  }
 },
 "nbformat": 4,
 "nbformat_minor": 4
}
