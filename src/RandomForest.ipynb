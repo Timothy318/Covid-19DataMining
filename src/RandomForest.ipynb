{
 "cells": [
  {
   "cell_type": "code",
   "execution_count": 35,
   "metadata": {},
   "outputs": [],
   "source": [
    "import numpy as np \n",
    "import pandas as pd\n",
    "import math\n",
    "import matplotlib.pyplot as plt\n",
    "from sklearn.ensemble import RandomForestClassifier\n",
    "from sklearn.preprocessing import LabelEncoder\n",
    "%matplotlib inline"
   ]
  },
  {
   "cell_type": "code",
   "execution_count": 36,
   "metadata": {},
   "outputs": [
    {
     "name": "stderr",
     "output_type": "stream",
     "text": [
      "/Users/timothywaikinlam/opt/anaconda3/lib/python3.8/site-packages/IPython/core/interactiveshell.py:3146: DtypeWarning: Columns (13) have mixed types.Specify dtype option on import or set low_memory=False.\n",
      "  has_raised = await self.run_ast_nodes(code_ast.body, cell_name,\n"
     ]
    }
   ],
   "source": [
    "df=pd.read_csv('cases_train_preprocessed.csv')"
   ]
  },
  {
   "cell_type": "code",
   "execution_count": 39,
   "metadata": {},
   "outputs": [
    {
     "data": {
      "text/html": [
       "<div>\n",
       "<style scoped>\n",
       "    .dataframe tbody tr th:only-of-type {\n",
       "        vertical-align: middle;\n",
       "    }\n",
       "\n",
       "    .dataframe tbody tr th {\n",
       "        vertical-align: top;\n",
       "    }\n",
       "\n",
       "    .dataframe thead th {\n",
       "        text-align: right;\n",
       "    }\n",
       "</style>\n",
       "<table border=\"1\" class=\"dataframe\">\n",
       "  <thead>\n",
       "    <tr style=\"text-align: right;\">\n",
       "      <th></th>\n",
       "      <th>age</th>\n",
       "      <th>sex</th>\n",
       "      <th>latitude</th>\n",
       "      <th>longitude</th>\n",
       "      <th>date_confirmation</th>\n",
       "      <th>additional_information</th>\n",
       "      <th>outcome</th>\n",
       "      <th>age_range_ind</th>\n",
       "      <th>age_range</th>\n",
       "      <th>land</th>\n",
       "      <th>Last_Update</th>\n",
       "      <th>Confirmed</th>\n",
       "      <th>Deaths</th>\n",
       "      <th>Recovered</th>\n",
       "      <th>Active</th>\n",
       "      <th>Incidence_Rate</th>\n",
       "      <th>Case-Fatality_Ratio</th>\n",
       "    </tr>\n",
       "  </thead>\n",
       "  <tbody>\n",
       "    <tr>\n",
       "      <th>0</th>\n",
       "      <td>47.0</td>\n",
       "      <td>Not Available</td>\n",
       "      <td>59.7294</td>\n",
       "      <td>13.2354</td>\n",
       "      <td>1.590822e+09</td>\n",
       "      <td>0</td>\n",
       "      <td>nonhospitalized</td>\n",
       "      <td>Missing</td>\n",
       "      <td>adult</td>\n",
       "      <td>True</td>\n",
       "      <td>2020-09-20 04:22:56</td>\n",
       "      <td>1241.0</td>\n",
       "      <td>73.0</td>\n",
       "      <td>0.0</td>\n",
       "      <td>1168.0</td>\n",
       "      <td>439.425808</td>\n",
       "      <td>5.882353</td>\n",
       "    </tr>\n",
       "    <tr>\n",
       "      <th>1</th>\n",
       "      <td>47.0</td>\n",
       "      <td>Not Available</td>\n",
       "      <td>35.2923</td>\n",
       "      <td>-2.9381</td>\n",
       "      <td>1.586934e+09</td>\n",
       "      <td>0</td>\n",
       "      <td>nonhospitalized</td>\n",
       "      <td>Missing</td>\n",
       "      <td>adult</td>\n",
       "      <td>True</td>\n",
       "      <td>2020-09-20 04:22:56</td>\n",
       "      <td>664.0</td>\n",
       "      <td>4.0</td>\n",
       "      <td>125.0</td>\n",
       "      <td>535.0</td>\n",
       "      <td>784.045153</td>\n",
       "      <td>0.602410</td>\n",
       "    </tr>\n",
       "    <tr>\n",
       "      <th>2</th>\n",
       "      <td>47.0</td>\n",
       "      <td>Not Available</td>\n",
       "      <td>55.9903</td>\n",
       "      <td>13.5958</td>\n",
       "      <td>1.587625e+09</td>\n",
       "      <td>0</td>\n",
       "      <td>nonhospitalized</td>\n",
       "      <td>Missing</td>\n",
       "      <td>adult</td>\n",
       "      <td>True</td>\n",
       "      <td>2020-09-20 04:22:56</td>\n",
       "      <td>5366.0</td>\n",
       "      <td>276.0</td>\n",
       "      <td>0.0</td>\n",
       "      <td>5090.0</td>\n",
       "      <td>389.453828</td>\n",
       "      <td>5.143496</td>\n",
       "    </tr>\n",
       "    <tr>\n",
       "      <th>3</th>\n",
       "      <td>47.0</td>\n",
       "      <td>Not Available</td>\n",
       "      <td>59.6025</td>\n",
       "      <td>18.1384</td>\n",
       "      <td>1.586848e+09</td>\n",
       "      <td>0</td>\n",
       "      <td>nonhospitalized</td>\n",
       "      <td>Missing</td>\n",
       "      <td>adult</td>\n",
       "      <td>True</td>\n",
       "      <td>2020-09-20 04:22:56</td>\n",
       "      <td>23739.0</td>\n",
       "      <td>2400.0</td>\n",
       "      <td>0.0</td>\n",
       "      <td>21339.0</td>\n",
       "      <td>998.661804</td>\n",
       "      <td>10.109946</td>\n",
       "    </tr>\n",
       "    <tr>\n",
       "      <th>4</th>\n",
       "      <td>47.0</td>\n",
       "      <td>Not Available</td>\n",
       "      <td>59.6714</td>\n",
       "      <td>16.2159</td>\n",
       "      <td>1.588057e+09</td>\n",
       "      <td>0</td>\n",
       "      <td>nonhospitalized</td>\n",
       "      <td>Missing</td>\n",
       "      <td>adult</td>\n",
       "      <td>True</td>\n",
       "      <td>2020-09-20 04:22:56</td>\n",
       "      <td>2854.0</td>\n",
       "      <td>183.0</td>\n",
       "      <td>0.0</td>\n",
       "      <td>2671.0</td>\n",
       "      <td>1034.639018</td>\n",
       "      <td>6.412053</td>\n",
       "    </tr>\n",
       "  </tbody>\n",
       "</table>\n",
       "</div>"
      ],
      "text/plain": [
       "    age            sex  latitude  longitude  date_confirmation  \\\n",
       "0  47.0  Not Available   59.7294    13.2354       1.590822e+09   \n",
       "1  47.0  Not Available   35.2923    -2.9381       1.586934e+09   \n",
       "2  47.0  Not Available   55.9903    13.5958       1.587625e+09   \n",
       "3  47.0  Not Available   59.6025    18.1384       1.586848e+09   \n",
       "4  47.0  Not Available   59.6714    16.2159       1.588057e+09   \n",
       "\n",
       "   additional_information          outcome age_range_ind age_range  land  \\\n",
       "0                       0  nonhospitalized       Missing     adult  True   \n",
       "1                       0  nonhospitalized       Missing     adult  True   \n",
       "2                       0  nonhospitalized       Missing     adult  True   \n",
       "3                       0  nonhospitalized       Missing     adult  True   \n",
       "4                       0  nonhospitalized       Missing     adult  True   \n",
       "\n",
       "           Last_Update  Confirmed  Deaths  Recovered   Active  Incidence_Rate  \\\n",
       "0  2020-09-20 04:22:56     1241.0    73.0        0.0   1168.0      439.425808   \n",
       "1  2020-09-20 04:22:56      664.0     4.0      125.0    535.0      784.045153   \n",
       "2  2020-09-20 04:22:56     5366.0   276.0        0.0   5090.0      389.453828   \n",
       "3  2020-09-20 04:22:56    23739.0  2400.0        0.0  21339.0      998.661804   \n",
       "4  2020-09-20 04:22:56     2854.0   183.0        0.0   2671.0     1034.639018   \n",
       "\n",
       "   Case-Fatality_Ratio  \n",
       "0             5.882353  \n",
       "1             0.602410  \n",
       "2             5.143496  \n",
       "3            10.109946  \n",
       "4             6.412053  "
      ]
     },
     "execution_count": 39,
     "metadata": {},
     "output_type": "execute_result"
    }
   ],
   "source": [
    "df.head()"
   ]
  },
  {
   "cell_type": "code",
   "execution_count": null,
   "metadata": {},
   "outputs": [],
   "source": [
    "'''\n",
    "train = pd.read_csv(r'../results/cases_train_preprocessed.csv',dtype=object)\n",
    "test =  pd.read_csv(r'../results/cases_test_preprocessed.csv',dtype=object)\n",
    "df_tr, df_te = train_test_split(train, test_size=0.2, random_state = 1)"
   ]
  },
  {
   "cell_type": "markdown",
   "metadata": {},
   "source": [
    "## Split Data"
   ]
  },
  {
   "cell_type": "code",
   "execution_count": 37,
   "metadata": {},
   "outputs": [],
   "source": [
    "def convertText(x):\n",
    "    if x == '[]':\n",
    "        return 0\n",
    "    else:\n",
    "        return 1\n",
    "    \n",
    "#df['source'] = df['source'].apply(convertText)\n",
    "df['additional_information'] = df['additional_information'].apply(convertText)"
   ]
  },
  {
   "cell_type": "code",
   "execution_count": 4,
   "metadata": {},
   "outputs": [
    {
     "data": {
      "text/plain": [
       "0         0\n",
       "1         0\n",
       "2         0\n",
       "3         0\n",
       "4         0\n",
       "         ..\n",
       "366595    0\n",
       "366596    0\n",
       "366597    0\n",
       "366598    0\n",
       "366599    1\n",
       "Name: additional_information, Length: 366600, dtype: int64"
      ]
     },
     "execution_count": 4,
     "metadata": {},
     "output_type": "execute_result"
    }
   ],
   "source": [
    "df['additional_information']"
   ]
  },
  {
   "cell_type": "code",
   "execution_count": 38,
   "metadata": {},
   "outputs": [],
   "source": [
    "df=df.drop(columns=['province', 'country','source'])"
   ]
  },
  {
   "cell_type": "code",
   "execution_count": 40,
   "metadata": {},
   "outputs": [
    {
     "data": {
      "text/html": [
       "<div>\n",
       "<style scoped>\n",
       "    .dataframe tbody tr th:only-of-type {\n",
       "        vertical-align: middle;\n",
       "    }\n",
       "\n",
       "    .dataframe tbody tr th {\n",
       "        vertical-align: top;\n",
       "    }\n",
       "\n",
       "    .dataframe thead th {\n",
       "        text-align: right;\n",
       "    }\n",
       "</style>\n",
       "<table border=\"1\" class=\"dataframe\">\n",
       "  <thead>\n",
       "    <tr style=\"text-align: right;\">\n",
       "      <th></th>\n",
       "      <th>age</th>\n",
       "      <th>latitude</th>\n",
       "      <th>longitude</th>\n",
       "      <th>date_confirmation</th>\n",
       "      <th>additional_information</th>\n",
       "      <th>land</th>\n",
       "      <th>Confirmed</th>\n",
       "      <th>Deaths</th>\n",
       "      <th>Recovered</th>\n",
       "      <th>Active</th>\n",
       "      <th>...</th>\n",
       "      <th>outcome_recovered</th>\n",
       "      <th>age_range_ind_False</th>\n",
       "      <th>age_range_ind_Missing</th>\n",
       "      <th>age_range_ind_True</th>\n",
       "      <th>age_range_adult</th>\n",
       "      <th>age_range_baby</th>\n",
       "      <th>age_range_child</th>\n",
       "      <th>age_range_senior</th>\n",
       "      <th>Last_Update_2020-09-20 04:22:56</th>\n",
       "      <th>Last_Update_9/20/2020 4:22:56 AM</th>\n",
       "    </tr>\n",
       "  </thead>\n",
       "  <tbody>\n",
       "    <tr>\n",
       "      <th>0</th>\n",
       "      <td>47.0</td>\n",
       "      <td>59.7294</td>\n",
       "      <td>13.2354</td>\n",
       "      <td>1.590822e+09</td>\n",
       "      <td>0</td>\n",
       "      <td>True</td>\n",
       "      <td>1241.0</td>\n",
       "      <td>73.0</td>\n",
       "      <td>0.0</td>\n",
       "      <td>1168.0</td>\n",
       "      <td>...</td>\n",
       "      <td>0</td>\n",
       "      <td>0</td>\n",
       "      <td>1</td>\n",
       "      <td>0</td>\n",
       "      <td>1</td>\n",
       "      <td>0</td>\n",
       "      <td>0</td>\n",
       "      <td>0</td>\n",
       "      <td>1</td>\n",
       "      <td>0</td>\n",
       "    </tr>\n",
       "    <tr>\n",
       "      <th>1</th>\n",
       "      <td>47.0</td>\n",
       "      <td>35.2923</td>\n",
       "      <td>-2.9381</td>\n",
       "      <td>1.586934e+09</td>\n",
       "      <td>0</td>\n",
       "      <td>True</td>\n",
       "      <td>664.0</td>\n",
       "      <td>4.0</td>\n",
       "      <td>125.0</td>\n",
       "      <td>535.0</td>\n",
       "      <td>...</td>\n",
       "      <td>0</td>\n",
       "      <td>0</td>\n",
       "      <td>1</td>\n",
       "      <td>0</td>\n",
       "      <td>1</td>\n",
       "      <td>0</td>\n",
       "      <td>0</td>\n",
       "      <td>0</td>\n",
       "      <td>1</td>\n",
       "      <td>0</td>\n",
       "    </tr>\n",
       "    <tr>\n",
       "      <th>2</th>\n",
       "      <td>47.0</td>\n",
       "      <td>55.9903</td>\n",
       "      <td>13.5958</td>\n",
       "      <td>1.587625e+09</td>\n",
       "      <td>0</td>\n",
       "      <td>True</td>\n",
       "      <td>5366.0</td>\n",
       "      <td>276.0</td>\n",
       "      <td>0.0</td>\n",
       "      <td>5090.0</td>\n",
       "      <td>...</td>\n",
       "      <td>0</td>\n",
       "      <td>0</td>\n",
       "      <td>1</td>\n",
       "      <td>0</td>\n",
       "      <td>1</td>\n",
       "      <td>0</td>\n",
       "      <td>0</td>\n",
       "      <td>0</td>\n",
       "      <td>1</td>\n",
       "      <td>0</td>\n",
       "    </tr>\n",
       "    <tr>\n",
       "      <th>3</th>\n",
       "      <td>47.0</td>\n",
       "      <td>59.6025</td>\n",
       "      <td>18.1384</td>\n",
       "      <td>1.586848e+09</td>\n",
       "      <td>0</td>\n",
       "      <td>True</td>\n",
       "      <td>23739.0</td>\n",
       "      <td>2400.0</td>\n",
       "      <td>0.0</td>\n",
       "      <td>21339.0</td>\n",
       "      <td>...</td>\n",
       "      <td>0</td>\n",
       "      <td>0</td>\n",
       "      <td>1</td>\n",
       "      <td>0</td>\n",
       "      <td>1</td>\n",
       "      <td>0</td>\n",
       "      <td>0</td>\n",
       "      <td>0</td>\n",
       "      <td>1</td>\n",
       "      <td>0</td>\n",
       "    </tr>\n",
       "    <tr>\n",
       "      <th>4</th>\n",
       "      <td>47.0</td>\n",
       "      <td>59.6714</td>\n",
       "      <td>16.2159</td>\n",
       "      <td>1.588057e+09</td>\n",
       "      <td>0</td>\n",
       "      <td>True</td>\n",
       "      <td>2854.0</td>\n",
       "      <td>183.0</td>\n",
       "      <td>0.0</td>\n",
       "      <td>2671.0</td>\n",
       "      <td>...</td>\n",
       "      <td>0</td>\n",
       "      <td>0</td>\n",
       "      <td>1</td>\n",
       "      <td>0</td>\n",
       "      <td>1</td>\n",
       "      <td>0</td>\n",
       "      <td>0</td>\n",
       "      <td>0</td>\n",
       "      <td>1</td>\n",
       "      <td>0</td>\n",
       "    </tr>\n",
       "  </tbody>\n",
       "</table>\n",
       "<p>5 rows × 28 columns</p>\n",
       "</div>"
      ],
      "text/plain": [
       "    age  latitude  longitude  date_confirmation  additional_information  land  \\\n",
       "0  47.0   59.7294    13.2354       1.590822e+09                       0  True   \n",
       "1  47.0   35.2923    -2.9381       1.586934e+09                       0  True   \n",
       "2  47.0   55.9903    13.5958       1.587625e+09                       0  True   \n",
       "3  47.0   59.6025    18.1384       1.586848e+09                       0  True   \n",
       "4  47.0   59.6714    16.2159       1.588057e+09                       0  True   \n",
       "\n",
       "   Confirmed  Deaths  Recovered   Active  ...  outcome_recovered  \\\n",
       "0     1241.0    73.0        0.0   1168.0  ...                  0   \n",
       "1      664.0     4.0      125.0    535.0  ...                  0   \n",
       "2     5366.0   276.0        0.0   5090.0  ...                  0   \n",
       "3    23739.0  2400.0        0.0  21339.0  ...                  0   \n",
       "4     2854.0   183.0        0.0   2671.0  ...                  0   \n",
       "\n",
       "   age_range_ind_False  age_range_ind_Missing  age_range_ind_True  \\\n",
       "0                    0                      1                   0   \n",
       "1                    0                      1                   0   \n",
       "2                    0                      1                   0   \n",
       "3                    0                      1                   0   \n",
       "4                    0                      1                   0   \n",
       "\n",
       "   age_range_adult  age_range_baby  age_range_child  age_range_senior  \\\n",
       "0                1               0                0                 0   \n",
       "1                1               0                0                 0   \n",
       "2                1               0                0                 0   \n",
       "3                1               0                0                 0   \n",
       "4                1               0                0                 0   \n",
       "\n",
       "   Last_Update_2020-09-20 04:22:56  Last_Update_9/20/2020 4:22:56 AM  \n",
       "0                                1                                 0  \n",
       "1                                1                                 0  \n",
       "2                                1                                 0  \n",
       "3                                1                                 0  \n",
       "4                                1                                 0  \n",
       "\n",
       "[5 rows x 28 columns]"
      ]
     },
     "execution_count": 40,
     "metadata": {},
     "output_type": "execute_result"
    }
   ],
   "source": [
    "for col in df.dtypes[df.dtypes == \"object\"].index:\n",
    "    for_dummy = df.pop(col)\n",
    "    df = pd.concat([df, pd.get_dummies(for_dummy, prefix=col)], axis=1)\n",
    "df.head()"
   ]
  },
  {
   "cell_type": "code",
   "execution_count": 41,
   "metadata": {},
   "outputs": [
    {
     "name": "stdout",
     "output_type": "stream",
     "text": [
      "0         0\n",
      "1         0\n",
      "2         0\n",
      "3         0\n",
      "4         0\n",
      "         ..\n",
      "366595    0\n",
      "366596    0\n",
      "366597    0\n",
      "366598    0\n",
      "366599    0\n",
      "Name: outcome_deceased, Length: 366600, dtype: uint8\n"
     ]
    }
   ],
   "source": [
    "labels = df.pop(\"outcome_deceased\")\n",
    "print(labels)"
   ]
  },
  {
   "cell_type": "code",
   "execution_count": 42,
   "metadata": {},
   "outputs": [],
   "source": [
    "from sklearn.model_selection import train_test_split\n",
    "x_train, x_test, y_train, y_test = train_test_split(df, labels, test_size=0.20)"
   ]
  },
  {
   "cell_type": "code",
   "execution_count": 43,
   "metadata": {},
   "outputs": [
    {
     "data": {
      "text/plain": [
       "RandomForestClassifier()"
      ]
     },
     "execution_count": 43,
     "metadata": {},
     "output_type": "execute_result"
    }
   ],
   "source": [
    "rf = RandomForestClassifier()\n",
    "rf.fit(x_train, y_train)"
   ]
  },
  {
   "cell_type": "code",
   "execution_count": 44,
   "metadata": {},
   "outputs": [
    {
     "name": "stdout",
     "output_type": "stream",
     "text": [
      "{'bootstrap': True, 'ccp_alpha': 0.0, 'class_weight': None, 'criterion': 'gini', 'max_depth': None, 'max_features': 'auto', 'max_leaf_nodes': None, 'max_samples': None, 'min_impurity_decrease': 0.0, 'min_impurity_split': None, 'min_samples_leaf': 1, 'min_samples_split': 2, 'min_weight_fraction_leaf': 0.0, 'n_estimators': 100, 'n_jobs': None, 'oob_score': False, 'random_state': None, 'verbose': 0, 'warm_start': False}\n"
     ]
    }
   ],
   "source": [
    "print(rf.get_params())"
   ]
  },
  {
   "cell_type": "code",
   "execution_count": 45,
   "metadata": {},
   "outputs": [],
   "source": [
    "y_pred = rf.predict(x_test)"
   ]
  },
  {
   "cell_type": "code",
   "execution_count": 46,
   "metadata": {},
   "outputs": [
    {
     "data": {
      "text/plain": [
       "0.9967880085653105"
      ]
     },
     "execution_count": 46,
     "metadata": {},
     "output_type": "execute_result"
    }
   ],
   "source": [
    "from sklearn.metrics import roc_curve, auc\n",
    "false_positive_rate, true_positive_rate, thresholds = roc_curve(y_test, y_pred)\n",
    "roc_auc = auc(false_positive_rate, true_positive_rate)\n",
    "roc_auc"
   ]
  },
  {
   "cell_type": "code",
   "execution_count": 47,
   "metadata": {},
   "outputs": [
    {
     "data": {
      "image/png": "[encoded data removed]",
      "text/plain": [
       "<Figure size 432x288 with 1 Axes>"
      ]
     },
     "metadata": {
      "needs_background": "light"
     },
     "output_type": "display_data"
    }
   ],
   "source": [
    "n_estimators = [1, 2, 4, 8, 16, 32, 64, 100, 200]\n",
    "train_results = []\n",
    "test_results = []\n",
    "\n",
    "for estimator in n_estimators:\n",
    "   rf = RandomForestClassifier(n_estimators=estimator, n_jobs=-1)\n",
    "   rf.fit(x_train, y_train)\n",
    "   train_pred = rf.predict(x_train)\n",
    "   false_positive_rate, true_positive_rate, thresholds = roc_curve(y_train, train_pred)\n",
    "   roc_auc = auc(false_positive_rate, true_positive_rate)\n",
    "   train_results.append(roc_auc)\n",
    "   y_pred = rf.predict(x_test)\n",
    "   false_positive_rate, true_positive_rate, thresholds = roc_curve(y_test, y_pred)\n",
    "   roc_auc = auc(false_positive_rate, true_positive_rate)\n",
    "   test_results.append(roc_auc)\n",
    "\n",
    "\n",
    "from matplotlib.legend_handler import HandlerLine2D\n",
    "line1, = plt.plot(n_estimators, train_results, \"b\", label=\"Train AUC\")\n",
    "line2, = plt.plot(n_estimators, test_results, \"r\", label=\"Test AUC\")\n",
    "plt.legend(handler_map={line1: HandlerLine2D(numpoints=2)})\n",
    "plt.ylabel(\"AUC score\")\n",
    "plt.xlabel(\"n_estimators\")\n",
    "plt.show()"
   ]
  },
  {
   "cell_type": "code",
   "execution_count": null,
   "metadata": {},
   "outputs": [],
   "source": []
  }
 ],
 "metadata": {
  "kernelspec": {
   "display_name": "Python 3",
   "language": "python",
   "name": "python3"
  },
  "language_info": {
   "codemirror_mode": {
    "name": "ipython",
    "version": 3
   },
   "file_extension": ".py",
   "mimetype": "text/x-python",
   "name": "python",
   "nbconvert_exporter": "python",
   "pygments_lexer": "ipython3",
   "version": "3.8.5"
  }
 },
 "nbformat": 4,
 "nbformat_minor": 4
}
