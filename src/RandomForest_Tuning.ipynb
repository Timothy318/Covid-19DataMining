{
 "cells": [
  {
   "cell_type": "code",
   "execution_count": 25,
   "metadata": {},
   "outputs": [],
   "source": [
    "import numpy as np \n",
    "import pandas as pd\n",
    "import math\n",
    "import matplotlib.pyplot as plt\n",
    "from sklearn.ensemble import RandomForestClassifier\n",
    "from sklearn.preprocessing import LabelEncoder\n",
    "from sklearn.metrics import confusion_matrix, ConfusionMatrixDisplay\n",
    "from sklearn.metrics import precision_score, recall_score, precision_recall_fscore_support, classification_report\n",
    "from sklearn.metrics import make_scorer\n",
    "from sklearn.metrics import recall_score, accuracy_score\n",
    "from sklearn.metrics import f1_score\n",
    "import pickle\n",
    "from sklearn.model_selection import GridSearchCV\n",
    "%matplotlib inline"
   ]
  },
  {
   "cell_type": "code",
   "execution_count": 7,
   "metadata": {},
   "outputs": [
    {
     "name": "stderr",
     "output_type": "stream",
     "text": [
      "/Users/timothywaikinlam/opt/anaconda3/lib/python3.8/site-packages/IPython/core/interactiveshell.py:3146: DtypeWarning: Columns (13) have mixed types.Specify dtype option on import or set low_memory=False.\n",
      "  has_raised = await self.run_ast_nodes(code_ast.body, cell_name,\n"
     ]
    }
   ],
   "source": [
    "#df=pd.read_csv('cases_train_preprocessed.csv')"
   ]
  },
  {
   "cell_type": "markdown",
   "metadata": {},
   "source": [
    "## Preparing test data"
   ]
  },
  {
   "cell_type": "code",
   "execution_count": 53,
   "metadata": {},
   "outputs": [],
   "source": [
    "#dt=pd.read_csv('cases_test_preprocessed.csv')\n"
   ]
  },
  {
   "cell_type": "code",
   "execution_count": null,
   "metadata": {},
   "outputs": [],
   "source": [
    "dt=pd.read_csv('../results/cases_test_preprocessed.csv')\n"
   ]
  },
  {
   "cell_type": "code",
   "execution_count": 55,
   "metadata": {},
   "outputs": [],
   "source": [
    "dt['additional_information'] = dt['additional_information'].apply(convertText)\n",
    "dt['source'] = dt['source'].apply(convertText)\n",
    "dt=dt.drop(columns=['province','country','Last_Update','outcome'])\n"
   ]
  },
  {
   "cell_type": "code",
   "execution_count": 56,
   "metadata": {},
   "outputs": [],
   "source": [
    "for col in dt.dtypes[dt.dtypes == \"object\"].index:\n",
    "    for_dummy = dt.pop(col)\n",
    "    dt = pd.concat([dt, pd.get_dummies(for_dummy, prefix=col)], axis=1)"
   ]
  },
  {
   "cell_type": "code",
   "execution_count": 57,
   "metadata": {},
   "outputs": [
    {
     "data": {
      "text/html": [
       "<div>\n",
       "<style scoped>\n",
       "    .dataframe tbody tr th:only-of-type {\n",
       "        vertical-align: middle;\n",
       "    }\n",
       "\n",
       "    .dataframe tbody tr th {\n",
       "        vertical-align: top;\n",
       "    }\n",
       "\n",
       "    .dataframe thead th {\n",
       "        text-align: right;\n",
       "    }\n",
       "</style>\n",
       "<table border=\"1\" class=\"dataframe\">\n",
       "  <thead>\n",
       "    <tr style=\"text-align: right;\">\n",
       "      <th></th>\n",
       "      <th>age</th>\n",
       "      <th>latitude</th>\n",
       "      <th>longitude</th>\n",
       "      <th>date_confirmation</th>\n",
       "      <th>additional_information</th>\n",
       "      <th>source</th>\n",
       "      <th>Confirmed</th>\n",
       "      <th>Deaths</th>\n",
       "      <th>Recovered</th>\n",
       "      <th>Active</th>\n",
       "      <th>...</th>\n",
       "      <th>sex_Not Available</th>\n",
       "      <th>sex_female</th>\n",
       "      <th>sex_male</th>\n",
       "      <th>age_range_ind_False</th>\n",
       "      <th>age_range_ind_Missing</th>\n",
       "      <th>age_range_ind_True</th>\n",
       "      <th>age_range_adult</th>\n",
       "      <th>age_range_baby</th>\n",
       "      <th>age_range_child</th>\n",
       "      <th>age_range_senior</th>\n",
       "    </tr>\n",
       "  </thead>\n",
       "  <tbody>\n",
       "    <tr>\n",
       "      <th>0</th>\n",
       "      <td>47.0</td>\n",
       "      <td>59.6025</td>\n",
       "      <td>18.1384</td>\n",
       "      <td>1.587107e+09</td>\n",
       "      <td>1</td>\n",
       "      <td>1</td>\n",
       "      <td>23739.0</td>\n",
       "      <td>2400.0</td>\n",
       "      <td>0.0</td>\n",
       "      <td>21339.0</td>\n",
       "      <td>...</td>\n",
       "      <td>1</td>\n",
       "      <td>0</td>\n",
       "      <td>0</td>\n",
       "      <td>0</td>\n",
       "      <td>1</td>\n",
       "      <td>0</td>\n",
       "      <td>1</td>\n",
       "      <td>0</td>\n",
       "      <td>0</td>\n",
       "      <td>0</td>\n",
       "    </tr>\n",
       "    <tr>\n",
       "      <th>1</th>\n",
       "      <td>47.0</td>\n",
       "      <td>43.3614</td>\n",
       "      <td>-5.8593</td>\n",
       "      <td>1.589612e+09</td>\n",
       "      <td>1</td>\n",
       "      <td>1</td>\n",
       "      <td>4340.0</td>\n",
       "      <td>341.0</td>\n",
       "      <td>1063.0</td>\n",
       "      <td>2936.0</td>\n",
       "      <td>...</td>\n",
       "      <td>1</td>\n",
       "      <td>0</td>\n",
       "      <td>0</td>\n",
       "      <td>0</td>\n",
       "      <td>1</td>\n",
       "      <td>0</td>\n",
       "      <td>1</td>\n",
       "      <td>0</td>\n",
       "      <td>0</td>\n",
       "      <td>0</td>\n",
       "    </tr>\n",
       "    <tr>\n",
       "      <th>2</th>\n",
       "      <td>47.0</td>\n",
       "      <td>59.5350</td>\n",
       "      <td>15.0066</td>\n",
       "      <td>1.586416e+09</td>\n",
       "      <td>1</td>\n",
       "      <td>1</td>\n",
       "      <td>2860.0</td>\n",
       "      <td>172.0</td>\n",
       "      <td>0.0</td>\n",
       "      <td>2688.0</td>\n",
       "      <td>...</td>\n",
       "      <td>1</td>\n",
       "      <td>0</td>\n",
       "      <td>0</td>\n",
       "      <td>0</td>\n",
       "      <td>1</td>\n",
       "      <td>0</td>\n",
       "      <td>1</td>\n",
       "      <td>0</td>\n",
       "      <td>0</td>\n",
       "      <td>0</td>\n",
       "    </tr>\n",
       "    <tr>\n",
       "      <th>3</th>\n",
       "      <td>47.0</td>\n",
       "      <td>37.9922</td>\n",
       "      <td>-1.1307</td>\n",
       "      <td>1.586934e+09</td>\n",
       "      <td>1</td>\n",
       "      <td>1</td>\n",
       "      <td>13371.0</td>\n",
       "      <td>193.0</td>\n",
       "      <td>2180.0</td>\n",
       "      <td>10998.0</td>\n",
       "      <td>...</td>\n",
       "      <td>1</td>\n",
       "      <td>0</td>\n",
       "      <td>0</td>\n",
       "      <td>0</td>\n",
       "      <td>1</td>\n",
       "      <td>0</td>\n",
       "      <td>1</td>\n",
       "      <td>0</td>\n",
       "      <td>0</td>\n",
       "      <td>0</td>\n",
       "    </tr>\n",
       "    <tr>\n",
       "      <th>4</th>\n",
       "      <td>47.0</td>\n",
       "      <td>56.8967</td>\n",
       "      <td>12.8034</td>\n",
       "      <td>1.590131e+09</td>\n",
       "      <td>1</td>\n",
       "      <td>1</td>\n",
       "      <td>2356.0</td>\n",
       "      <td>83.0</td>\n",
       "      <td>0.0</td>\n",
       "      <td>2273.0</td>\n",
       "      <td>...</td>\n",
       "      <td>1</td>\n",
       "      <td>0</td>\n",
       "      <td>0</td>\n",
       "      <td>0</td>\n",
       "      <td>1</td>\n",
       "      <td>0</td>\n",
       "      <td>1</td>\n",
       "      <td>0</td>\n",
       "      <td>0</td>\n",
       "      <td>0</td>\n",
       "    </tr>\n",
       "  </tbody>\n",
       "</table>\n",
       "<p>5 rows × 22 columns</p>\n",
       "</div>"
      ],
      "text/plain": [
       "    age  latitude  longitude  date_confirmation  additional_information  \\\n",
       "0  47.0   59.6025    18.1384       1.587107e+09                       1   \n",
       "1  47.0   43.3614    -5.8593       1.589612e+09                       1   \n",
       "2  47.0   59.5350    15.0066       1.586416e+09                       1   \n",
       "3  47.0   37.9922    -1.1307       1.586934e+09                       1   \n",
       "4  47.0   56.8967    12.8034       1.590131e+09                       1   \n",
       "\n",
       "   source  Confirmed  Deaths  Recovered   Active  ...  sex_Not Available  \\\n",
       "0       1    23739.0  2400.0        0.0  21339.0  ...                  1   \n",
       "1       1     4340.0   341.0     1063.0   2936.0  ...                  1   \n",
       "2       1     2860.0   172.0        0.0   2688.0  ...                  1   \n",
       "3       1    13371.0   193.0     2180.0  10998.0  ...                  1   \n",
       "4       1     2356.0    83.0        0.0   2273.0  ...                  1   \n",
       "\n",
       "   sex_female  sex_male  age_range_ind_False  age_range_ind_Missing  \\\n",
       "0           0         0                    0                      1   \n",
       "1           0         0                    0                      1   \n",
       "2           0         0                    0                      1   \n",
       "3           0         0                    0                      1   \n",
       "4           0         0                    0                      1   \n",
       "\n",
       "   age_range_ind_True  age_range_adult  age_range_baby  age_range_child  \\\n",
       "0                   0                1               0                0   \n",
       "1                   0                1               0                0   \n",
       "2                   0                1               0                0   \n",
       "3                   0                1               0                0   \n",
       "4                   0                1               0                0   \n",
       "\n",
       "   age_range_senior  \n",
       "0                 0  \n",
       "1                 0  \n",
       "2                 0  \n",
       "3                 0  \n",
       "4                 0  \n",
       "\n",
       "[5 rows x 22 columns]"
      ]
     },
     "execution_count": 57,
     "metadata": {},
     "output_type": "execute_result"
    }
   ],
   "source": [
    "dt.head()"
   ]
  },
  {
   "cell_type": "code",
   "execution_count": null,
   "metadata": {},
   "outputs": [],
   "source": [
    "df=pd.read_csv('../results/cases_train_preprocessed.csv')"
   ]
  },
  {
   "cell_type": "markdown",
   "metadata": {},
   "source": [
    "## Preparing data for building model"
   ]
  },
  {
   "cell_type": "code",
   "execution_count": 8,
   "metadata": {},
   "outputs": [],
   "source": [
    "def convertText(x):\n",
    "    if x == '[]':\n",
    "        return 0\n",
    "    else:\n",
    "        return 1\n",
    "df['additional_information'] = df['additional_information'].apply(convertText)"
   ]
  },
  {
   "cell_type": "code",
   "execution_count": 9,
   "metadata": {},
   "outputs": [],
   "source": [
    "def convertText(x):\n",
    "    if x == '':\n",
    "        return 0\n",
    "    else:\n",
    "        return 1\n",
    "df['source'] = df['source'].apply(convertText)"
   ]
  },
  {
   "cell_type": "code",
   "execution_count": 10,
   "metadata": {},
   "outputs": [],
   "source": [
    "y = df['outcome']\n",
    "df=df.drop(columns=['province', 'country','Last_Update', 'land', 'outcome'])"
   ]
  },
  {
   "cell_type": "code",
   "execution_count": 7,
   "metadata": {},
   "outputs": [
    {
     "data": {
      "text/html": [
       "<div>\n",
       "<style scoped>\n",
       "    .dataframe tbody tr th:only-of-type {\n",
       "        vertical-align: middle;\n",
       "    }\n",
       "\n",
       "    .dataframe tbody tr th {\n",
       "        vertical-align: top;\n",
       "    }\n",
       "\n",
       "    .dataframe thead th {\n",
       "        text-align: right;\n",
       "    }\n",
       "</style>\n",
       "<table border=\"1\" class=\"dataframe\">\n",
       "  <thead>\n",
       "    <tr style=\"text-align: right;\">\n",
       "      <th></th>\n",
       "      <th>age</th>\n",
       "      <th>latitude</th>\n",
       "      <th>longitude</th>\n",
       "      <th>date_confirmation</th>\n",
       "      <th>additional_information</th>\n",
       "      <th>source</th>\n",
       "      <th>Confirmed</th>\n",
       "      <th>Deaths</th>\n",
       "      <th>Recovered</th>\n",
       "      <th>Active</th>\n",
       "      <th>...</th>\n",
       "      <th>sex_Not Available</th>\n",
       "      <th>sex_female</th>\n",
       "      <th>sex_male</th>\n",
       "      <th>age_range_ind_False</th>\n",
       "      <th>age_range_ind_Missing</th>\n",
       "      <th>age_range_ind_True</th>\n",
       "      <th>age_range_adult</th>\n",
       "      <th>age_range_baby</th>\n",
       "      <th>age_range_child</th>\n",
       "      <th>age_range_senior</th>\n",
       "    </tr>\n",
       "  </thead>\n",
       "  <tbody>\n",
       "    <tr>\n",
       "      <th>0</th>\n",
       "      <td>47.0</td>\n",
       "      <td>59.7294</td>\n",
       "      <td>13.2354</td>\n",
       "      <td>1.590822e+09</td>\n",
       "      <td>0</td>\n",
       "      <td>1</td>\n",
       "      <td>1241.0</td>\n",
       "      <td>73.0</td>\n",
       "      <td>0.0</td>\n",
       "      <td>1168.0</td>\n",
       "      <td>...</td>\n",
       "      <td>1</td>\n",
       "      <td>0</td>\n",
       "      <td>0</td>\n",
       "      <td>0</td>\n",
       "      <td>1</td>\n",
       "      <td>0</td>\n",
       "      <td>1</td>\n",
       "      <td>0</td>\n",
       "      <td>0</td>\n",
       "      <td>0</td>\n",
       "    </tr>\n",
       "    <tr>\n",
       "      <th>1</th>\n",
       "      <td>47.0</td>\n",
       "      <td>35.2923</td>\n",
       "      <td>-2.9381</td>\n",
       "      <td>1.586934e+09</td>\n",
       "      <td>0</td>\n",
       "      <td>1</td>\n",
       "      <td>664.0</td>\n",
       "      <td>4.0</td>\n",
       "      <td>125.0</td>\n",
       "      <td>535.0</td>\n",
       "      <td>...</td>\n",
       "      <td>1</td>\n",
       "      <td>0</td>\n",
       "      <td>0</td>\n",
       "      <td>0</td>\n",
       "      <td>1</td>\n",
       "      <td>0</td>\n",
       "      <td>1</td>\n",
       "      <td>0</td>\n",
       "      <td>0</td>\n",
       "      <td>0</td>\n",
       "    </tr>\n",
       "    <tr>\n",
       "      <th>2</th>\n",
       "      <td>47.0</td>\n",
       "      <td>55.9903</td>\n",
       "      <td>13.5958</td>\n",
       "      <td>1.587625e+09</td>\n",
       "      <td>0</td>\n",
       "      <td>1</td>\n",
       "      <td>5366.0</td>\n",
       "      <td>276.0</td>\n",
       "      <td>0.0</td>\n",
       "      <td>5090.0</td>\n",
       "      <td>...</td>\n",
       "      <td>1</td>\n",
       "      <td>0</td>\n",
       "      <td>0</td>\n",
       "      <td>0</td>\n",
       "      <td>1</td>\n",
       "      <td>0</td>\n",
       "      <td>1</td>\n",
       "      <td>0</td>\n",
       "      <td>0</td>\n",
       "      <td>0</td>\n",
       "    </tr>\n",
       "    <tr>\n",
       "      <th>3</th>\n",
       "      <td>47.0</td>\n",
       "      <td>59.6025</td>\n",
       "      <td>18.1384</td>\n",
       "      <td>1.586848e+09</td>\n",
       "      <td>0</td>\n",
       "      <td>1</td>\n",
       "      <td>23739.0</td>\n",
       "      <td>2400.0</td>\n",
       "      <td>0.0</td>\n",
       "      <td>21339.0</td>\n",
       "      <td>...</td>\n",
       "      <td>1</td>\n",
       "      <td>0</td>\n",
       "      <td>0</td>\n",
       "      <td>0</td>\n",
       "      <td>1</td>\n",
       "      <td>0</td>\n",
       "      <td>1</td>\n",
       "      <td>0</td>\n",
       "      <td>0</td>\n",
       "      <td>0</td>\n",
       "    </tr>\n",
       "    <tr>\n",
       "      <th>4</th>\n",
       "      <td>47.0</td>\n",
       "      <td>59.6714</td>\n",
       "      <td>16.2159</td>\n",
       "      <td>1.588057e+09</td>\n",
       "      <td>0</td>\n",
       "      <td>1</td>\n",
       "      <td>2854.0</td>\n",
       "      <td>183.0</td>\n",
       "      <td>0.0</td>\n",
       "      <td>2671.0</td>\n",
       "      <td>...</td>\n",
       "      <td>1</td>\n",
       "      <td>0</td>\n",
       "      <td>0</td>\n",
       "      <td>0</td>\n",
       "      <td>1</td>\n",
       "      <td>0</td>\n",
       "      <td>1</td>\n",
       "      <td>0</td>\n",
       "      <td>0</td>\n",
       "      <td>0</td>\n",
       "    </tr>\n",
       "  </tbody>\n",
       "</table>\n",
       "<p>5 rows × 22 columns</p>\n",
       "</div>"
      ],
      "text/plain": [
       "    age  latitude  longitude  date_confirmation  additional_information  \\\n",
       "0  47.0   59.7294    13.2354       1.590822e+09                       0   \n",
       "1  47.0   35.2923    -2.9381       1.586934e+09                       0   \n",
       "2  47.0   55.9903    13.5958       1.587625e+09                       0   \n",
       "3  47.0   59.6025    18.1384       1.586848e+09                       0   \n",
       "4  47.0   59.6714    16.2159       1.588057e+09                       0   \n",
       "\n",
       "   source  Confirmed  Deaths  Recovered   Active  ...  sex_Not Available  \\\n",
       "0       1     1241.0    73.0        0.0   1168.0  ...                  1   \n",
       "1       1      664.0     4.0      125.0    535.0  ...                  1   \n",
       "2       1     5366.0   276.0        0.0   5090.0  ...                  1   \n",
       "3       1    23739.0  2400.0        0.0  21339.0  ...                  1   \n",
       "4       1     2854.0   183.0        0.0   2671.0  ...                  1   \n",
       "\n",
       "   sex_female  sex_male  age_range_ind_False  age_range_ind_Missing  \\\n",
       "0           0         0                    0                      1   \n",
       "1           0         0                    0                      1   \n",
       "2           0         0                    0                      1   \n",
       "3           0         0                    0                      1   \n",
       "4           0         0                    0                      1   \n",
       "\n",
       "   age_range_ind_True  age_range_adult  age_range_baby  age_range_child  \\\n",
       "0                   0                1               0                0   \n",
       "1                   0                1               0                0   \n",
       "2                   0                1               0                0   \n",
       "3                   0                1               0                0   \n",
       "4                   0                1               0                0   \n",
       "\n",
       "   age_range_senior  \n",
       "0                 0  \n",
       "1                 0  \n",
       "2                 0  \n",
       "3                 0  \n",
       "4                 0  \n",
       "\n",
       "[5 rows x 22 columns]"
      ]
     },
     "execution_count": 7,
     "metadata": {},
     "output_type": "execute_result"
    }
   ],
   "source": [
    "df.head()"
   ]
  },
  {
   "cell_type": "code",
   "execution_count": 11,
   "metadata": {},
   "outputs": [],
   "source": [
    "for col in df.dtypes[df.dtypes == \"object\"].index:\n",
    "    for_dummy = df.pop(col)\n",
    "    df = pd.concat([df, pd.get_dummies(for_dummy, prefix=col)], axis=1)"
   ]
  },
  {
   "cell_type": "code",
   "execution_count": 12,
   "metadata": {},
   "outputs": [
    {
     "name": "stdout",
     "output_type": "stream",
     "text": [
      "label_Y : (366600,)\n",
      "df_X : (366600, 22)\n"
     ]
    }
   ],
   "source": [
    "print(f'label_Y : {y.shape}')\n",
    "print(f'df_X : {df.shape}')"
   ]
  },
  {
   "cell_type": "markdown",
   "metadata": {},
   "source": [
    "## Split Data"
   ]
  },
  {
   "cell_type": "code",
   "execution_count": 13,
   "metadata": {},
   "outputs": [],
   "source": [
    "from sklearn.model_selection import train_test_split\n",
    "x_train, x_test, y_train, y_test = train_test_split(df, y, test_size=0.2, random_state = 1)"
   ]
  },
  {
   "cell_type": "markdown",
   "metadata": {},
   "source": [
    "## Building model with default parameters"
   ]
  },
  {
   "cell_type": "markdown",
   "metadata": {},
   "source": [
    "For this milestone, I build the model with default parameters, later on I will be tuning all the combinations of hyperparameters to find the best model."
   ]
  },
  {
   "cell_type": "code",
   "execution_count": 251,
   "metadata": {},
   "outputs": [
    {
     "data": {
      "text/plain": [
       "RandomForestClassifier()"
      ]
     },
     "execution_count": 251,
     "metadata": {},
     "output_type": "execute_result"
    }
   ],
   "source": [
    "rf = RandomForestClassifier()\n",
    "rf.fit(x_train, y_train)"
   ]
  },
  {
   "cell_type": "code",
   "execution_count": 236,
   "metadata": {},
   "outputs": [
    {
     "name": "stdout",
     "output_type": "stream",
     "text": [
      "{'bootstrap': True, 'ccp_alpha': 0.0, 'class_weight': None, 'criterion': 'gini', 'max_depth': None, 'max_features': 'auto', 'max_leaf_nodes': None, 'max_samples': None, 'min_impurity_decrease': 0.0, 'min_impurity_split': None, 'min_samples_leaf': 1, 'min_samples_split': 2, 'min_weight_fraction_leaf': 0.0, 'n_estimators': 100, 'n_jobs': -1, 'oob_score': False, 'random_state': None, 'verbose': 0, 'warm_start': False}\n"
     ]
    }
   ],
   "source": [
    "print(rf.get_params())"
   ]
  },
  {
   "cell_type": "code",
   "execution_count": 252,
   "metadata": {},
   "outputs": [
    {
     "name": "stdout",
     "output_type": "stream",
     "text": [
      "Train Accuracy - : 0.889\n",
      "Test Accuracy - : 0.874\n"
     ]
    }
   ],
   "source": [
    "print (f'Train Accuracy - : {rf.score(x_train,y_train):.3f}')\n",
    "print (f'Test Accuracy - : {rf.score(x_test,y_test):.3f}')"
   ]
  },
  {
   "cell_type": "code",
   "execution_count": 253,
   "metadata": {},
   "outputs": [
    {
     "name": "stdout",
     "output_type": "stream",
     "text": [
      "Test accuracy:  0.8741953082378614\n",
      "Test overall recall:  0.6770858746581232\n"
     ]
    }
   ],
   "source": [
    "print('Test accuracy: ', accuracy_score(y_test, rf.predict(x_test)))\n",
    "print('Test overall recall: ', recall_score(y_test, rf.predict(x_test), average='macro'))"
   ]
  },
  {
   "cell_type": "code",
   "execution_count": 36,
   "metadata": {},
   "outputs": [
    {
     "name": "stdout",
     "output_type": "stream",
     "text": [
      "(array([0.92355009, 0.81305731, 0.99928823, 0.8082391 ]), array([0.29332961, 0.88505299, 0.99944725, 0.73445894]), array([0.44524465, 0.84752893, 0.99936773, 0.76958474]), array([  3583,  99933, 119402,  70362]))\n",
      "deceased: (array([0.92355009]), array([0.29332961]), array([0.44524465]), array([3583]))\n",
      "recall for deceased 0.29332961205693553\n",
      "fl_score for deceased 0.4452446515568736\n",
      "(array([0.47463768, 0.80284553, 0.99220572, 0.77985215]), array([0.14364035, 0.87382351, 0.99233793, 0.710178  ]), array([0.22053872, 0.83683217, 0.99227182, 0.74338609]), array([  912, 24862, 30018, 17528]))\n"
     ]
    }
   ],
   "source": [
    "x = precision_recall_fscore_support(y_train, model.predict(x_train), average = None, labels=['deceased', 'hospitalized', 'nonhospitalized', 'recovered'])\n",
    "dec_x = precision_recall_fscore_support(y_train, model.predict(x_train), average = None, labels=['deceased'])\n",
    "print(x)\n",
    "print('deceased:', dec_x) \n",
    "print('recall for deceased',x[1][0])\n",
    "print('fl_score for deceased',x[2][0]) \n",
    "print(precision_recall_fscore_support(y_test, model.predict(x_test), average = None, labels=['deceased', 'hospitalized', 'nonhospitalized', 'recovered']))\n"
   ]
  },
  {
   "cell_type": "code",
   "execution_count": 37,
   "metadata": {},
   "outputs": [
    {
     "data": {
      "text/plain": [
       "0.29332961205693553"
      ]
     },
     "execution_count": 37,
     "metadata": {},
     "output_type": "execute_result"
    }
   ],
   "source": [
    "recall_score(y_train, model.predict(x_train),labels=['deceased'], average='macro')"
   ]
  },
  {
   "cell_type": "code",
   "execution_count": 38,
   "metadata": {},
   "outputs": [
    {
     "data": {
      "text/plain": [
       "0.4452446515568736"
      ]
     },
     "execution_count": 38,
     "metadata": {},
     "output_type": "execute_result"
    }
   ],
   "source": [
    "f1_score(y_train, model.predict(x_train),labels=['deceased'], average='macro')"
   ]
  },
  {
   "cell_type": "markdown",
   "metadata": {},
   "source": [
    "## Hyperparameters Tuning"
   ]
  },
  {
   "cell_type": "code",
   "execution_count": 19,
   "metadata": {},
   "outputs": [],
   "source": [
    "def recall_on_deseased(y_true, y_pred):\n",
    "    score = recall_score(y_true, y_pred, labels=['deceased'], average='macro')\n",
    "    return score\n",
    "\n",
    "def fl_score_on_deseased(y_true, y_pred):\n",
    "    score = f1_score(y_true, y_pred, labels=['deceased'], average='macro')\n",
    "    return score\n",
    "\n",
    "def overall_recall(y_true, y_pred):\n",
    "    score = recall_score(y_true, y_pred, average='macro')\n",
    "    return score\n"
   ]
  },
  {
   "cell_type": "code",
   "execution_count": 27,
   "metadata": {},
   "outputs": [
    {
     "name": "stdout",
     "output_type": "stream",
     "text": [
      "Fitting 5 folds for each of 18 candidates, totalling 90 fits\n"
     ]
    },
    {
     "name": "stderr",
     "output_type": "stream",
     "text": [
      "[Parallel(n_jobs=4)]: Using backend LokyBackend with 4 concurrent workers.\n",
      "[Parallel(n_jobs=4)]: Done  33 tasks      | elapsed:  8.6min\n",
      "[Parallel(n_jobs=4)]: Done  90 out of  90 | elapsed: 20.5min finished\n"
     ]
    },
    {
     "data": {
      "text/plain": [
       "GridSearchCV(cv=5, estimator=RandomForestClassifier(), n_jobs=4,\n",
       "             param_grid={'criterion': ('gini', 'entropy'),\n",
       "                         'max_features': [0.8, 0.6, 0.4],\n",
       "                         'n_estimators': [20, 50, 100]},\n",
       "             refit='fl_score_deseased',\n",
       "             scoring={'accuracy': make_scorer(accuracy_score),\n",
       "                      'fl_score_deseased': make_scorer(fl_score_on_deseased),\n",
       "                      'recall': make_scorer(overall_recall),\n",
       "                      'recall_deseased': make_scorer(recall_on_deseased)},\n",
       "             verbose=2)"
      ]
     },
     "execution_count": 27,
     "metadata": {},
     "output_type": "execute_result"
    }
   ],
   "source": [
    "from sklearn.model_selection import GridSearchCV\n",
    "rf = RandomForestClassifier()\n",
    "rf_paras = {'criterion': ('gini', 'entropy'), 'n_estimators': [20, 50, 100], 'max_features': [0.8, 0.6, 0.4]}\n",
    "rf_scoring = {'fl_score_deseased': make_scorer(fl_score_on_deseased),\n",
    "              'recall_deseased': make_scorer(recall_on_deseased),\n",
    "              'accuracy': make_scorer(accuracy_score),\n",
    "              'recall': make_scorer(overall_recall)}\n",
    "rf_Grid = GridSearchCV(rf, param_grid=rf_paras, scoring=rf_scoring, cv=5, verbose=2, n_jobs=4, refit='fl_score_deseased')\n",
    "rf_Grid.fit(x_train, y_train)\n",
    "\n"
   ]
  },
  {
   "cell_type": "code",
   "execution_count": 30,
   "metadata": {},
   "outputs": [
    {
     "data": {
      "text/html": [
       "<div>\n",
       "<style scoped>\n",
       "    .dataframe tbody tr th:only-of-type {\n",
       "        vertical-align: middle;\n",
       "    }\n",
       "\n",
       "    .dataframe tbody tr th {\n",
       "        vertical-align: top;\n",
       "    }\n",
       "\n",
       "    .dataframe thead th {\n",
       "        text-align: right;\n",
       "    }\n",
       "</style>\n",
       "<table border=\"1\" class=\"dataframe\">\n",
       "  <thead>\n",
       "    <tr style=\"text-align: right;\">\n",
       "      <th></th>\n",
       "      <th>param_criterion</th>\n",
       "      <th>param_n_estimators</th>\n",
       "      <th>param_max_features</th>\n",
       "      <th>mean_test_fl_score_deseased</th>\n",
       "      <th>rank_test_fl_score_deseased</th>\n",
       "      <th>mean_test_recall_deseased</th>\n",
       "      <th>rank_test_recall_deseased</th>\n",
       "      <th>mean_test_accuracy</th>\n",
       "      <th>rank_test_accuracy</th>\n",
       "      <th>mean_test_recall</th>\n",
       "      <th>rank_test_recall</th>\n",
       "    </tr>\n",
       "  </thead>\n",
       "  <tbody>\n",
       "    <tr>\n",
       "      <th>0</th>\n",
       "      <td>gini</td>\n",
       "      <td>20</td>\n",
       "      <td>0.8</td>\n",
       "      <td>0.213791</td>\n",
       "      <td>2</td>\n",
       "      <td>0.135074</td>\n",
       "      <td>1</td>\n",
       "      <td>0.872453</td>\n",
       "      <td>15</td>\n",
       "      <td>0.676642</td>\n",
       "      <td>1</td>\n",
       "    </tr>\n",
       "    <tr>\n",
       "      <th>1</th>\n",
       "      <td>gini</td>\n",
       "      <td>50</td>\n",
       "      <td>0.8</td>\n",
       "      <td>0.209089</td>\n",
       "      <td>11</td>\n",
       "      <td>0.128935</td>\n",
       "      <td>11</td>\n",
       "      <td>0.872368</td>\n",
       "      <td>16</td>\n",
       "      <td>0.675099</td>\n",
       "      <td>15</td>\n",
       "    </tr>\n",
       "    <tr>\n",
       "      <th>2</th>\n",
       "      <td>gini</td>\n",
       "      <td>100</td>\n",
       "      <td>0.8</td>\n",
       "      <td>0.213726</td>\n",
       "      <td>3</td>\n",
       "      <td>0.131726</td>\n",
       "      <td>5</td>\n",
       "      <td>0.872702</td>\n",
       "      <td>7</td>\n",
       "      <td>0.675982</td>\n",
       "      <td>4</td>\n",
       "    </tr>\n",
       "    <tr>\n",
       "      <th>3</th>\n",
       "      <td>gini</td>\n",
       "      <td>20</td>\n",
       "      <td>0.6</td>\n",
       "      <td>0.214662</td>\n",
       "      <td>1</td>\n",
       "      <td>0.134238</td>\n",
       "      <td>2</td>\n",
       "      <td>0.872675</td>\n",
       "      <td>9</td>\n",
       "      <td>0.676462</td>\n",
       "      <td>2</td>\n",
       "    </tr>\n",
       "    <tr>\n",
       "      <th>4</th>\n",
       "      <td>gini</td>\n",
       "      <td>50</td>\n",
       "      <td>0.6</td>\n",
       "      <td>0.212814</td>\n",
       "      <td>4</td>\n",
       "      <td>0.132004</td>\n",
       "      <td>3</td>\n",
       "      <td>0.872821</td>\n",
       "      <td>4</td>\n",
       "      <td>0.676117</td>\n",
       "      <td>3</td>\n",
       "    </tr>\n",
       "    <tr>\n",
       "      <th>5</th>\n",
       "      <td>gini</td>\n",
       "      <td>100</td>\n",
       "      <td>0.6</td>\n",
       "      <td>0.211460</td>\n",
       "      <td>5</td>\n",
       "      <td>0.130328</td>\n",
       "      <td>8</td>\n",
       "      <td>0.872838</td>\n",
       "      <td>1</td>\n",
       "      <td>0.675763</td>\n",
       "      <td>6</td>\n",
       "    </tr>\n",
       "    <tr>\n",
       "      <th>6</th>\n",
       "      <td>gini</td>\n",
       "      <td>20</td>\n",
       "      <td>0.4</td>\n",
       "      <td>0.209666</td>\n",
       "      <td>9</td>\n",
       "      <td>0.130611</td>\n",
       "      <td>7</td>\n",
       "      <td>0.872511</td>\n",
       "      <td>13</td>\n",
       "      <td>0.675516</td>\n",
       "      <td>7</td>\n",
       "    </tr>\n",
       "    <tr>\n",
       "      <th>7</th>\n",
       "      <td>gini</td>\n",
       "      <td>50</td>\n",
       "      <td>0.4</td>\n",
       "      <td>0.210673</td>\n",
       "      <td>7</td>\n",
       "      <td>0.130053</td>\n",
       "      <td>9</td>\n",
       "      <td>0.872623</td>\n",
       "      <td>11</td>\n",
       "      <td>0.675469</td>\n",
       "      <td>9</td>\n",
       "    </tr>\n",
       "    <tr>\n",
       "      <th>8</th>\n",
       "      <td>gini</td>\n",
       "      <td>100</td>\n",
       "      <td>0.4</td>\n",
       "      <td>0.207975</td>\n",
       "      <td>16</td>\n",
       "      <td>0.128376</td>\n",
       "      <td>16</td>\n",
       "      <td>0.872835</td>\n",
       "      <td>3</td>\n",
       "      <td>0.675286</td>\n",
       "      <td>12</td>\n",
       "    </tr>\n",
       "    <tr>\n",
       "      <th>9</th>\n",
       "      <td>entropy</td>\n",
       "      <td>20</td>\n",
       "      <td>0.8</td>\n",
       "      <td>0.209042</td>\n",
       "      <td>12</td>\n",
       "      <td>0.131166</td>\n",
       "      <td>6</td>\n",
       "      <td>0.872317</td>\n",
       "      <td>17</td>\n",
       "      <td>0.675447</td>\n",
       "      <td>10</td>\n",
       "    </tr>\n",
       "    <tr>\n",
       "      <th>10</th>\n",
       "      <td>entropy</td>\n",
       "      <td>50</td>\n",
       "      <td>0.8</td>\n",
       "      <td>0.208096</td>\n",
       "      <td>15</td>\n",
       "      <td>0.128655</td>\n",
       "      <td>14</td>\n",
       "      <td>0.872572</td>\n",
       "      <td>12</td>\n",
       "      <td>0.675046</td>\n",
       "      <td>16</td>\n",
       "    </tr>\n",
       "    <tr>\n",
       "      <th>11</th>\n",
       "      <td>entropy</td>\n",
       "      <td>100</td>\n",
       "      <td>0.8</td>\n",
       "      <td>0.209713</td>\n",
       "      <td>8</td>\n",
       "      <td>0.128655</td>\n",
       "      <td>13</td>\n",
       "      <td>0.872763</td>\n",
       "      <td>5</td>\n",
       "      <td>0.675381</td>\n",
       "      <td>11</td>\n",
       "    </tr>\n",
       "    <tr>\n",
       "      <th>12</th>\n",
       "      <td>entropy</td>\n",
       "      <td>20</td>\n",
       "      <td>0.6</td>\n",
       "      <td>0.210703</td>\n",
       "      <td>6</td>\n",
       "      <td>0.131728</td>\n",
       "      <td>4</td>\n",
       "      <td>0.872494</td>\n",
       "      <td>14</td>\n",
       "      <td>0.675785</td>\n",
       "      <td>5</td>\n",
       "    </tr>\n",
       "    <tr>\n",
       "      <th>13</th>\n",
       "      <td>entropy</td>\n",
       "      <td>50</td>\n",
       "      <td>0.6</td>\n",
       "      <td>0.209367</td>\n",
       "      <td>10</td>\n",
       "      <td>0.129493</td>\n",
       "      <td>10</td>\n",
       "      <td>0.872719</td>\n",
       "      <td>6</td>\n",
       "      <td>0.675496</td>\n",
       "      <td>8</td>\n",
       "    </tr>\n",
       "    <tr>\n",
       "      <th>14</th>\n",
       "      <td>entropy</td>\n",
       "      <td>100</td>\n",
       "      <td>0.6</td>\n",
       "      <td>0.208714</td>\n",
       "      <td>14</td>\n",
       "      <td>0.128098</td>\n",
       "      <td>18</td>\n",
       "      <td>0.872838</td>\n",
       "      <td>1</td>\n",
       "      <td>0.675258</td>\n",
       "      <td>13</td>\n",
       "    </tr>\n",
       "    <tr>\n",
       "      <th>15</th>\n",
       "      <td>entropy</td>\n",
       "      <td>20</td>\n",
       "      <td>0.4</td>\n",
       "      <td>0.206576</td>\n",
       "      <td>18</td>\n",
       "      <td>0.128657</td>\n",
       "      <td>12</td>\n",
       "      <td>0.872242</td>\n",
       "      <td>18</td>\n",
       "      <td>0.674808</td>\n",
       "      <td>18</td>\n",
       "    </tr>\n",
       "    <tr>\n",
       "      <th>16</th>\n",
       "      <td>entropy</td>\n",
       "      <td>50</td>\n",
       "      <td>0.4</td>\n",
       "      <td>0.207449</td>\n",
       "      <td>17</td>\n",
       "      <td>0.128099</td>\n",
       "      <td>17</td>\n",
       "      <td>0.872685</td>\n",
       "      <td>8</td>\n",
       "      <td>0.675013</td>\n",
       "      <td>17</td>\n",
       "    </tr>\n",
       "    <tr>\n",
       "      <th>17</th>\n",
       "      <td>entropy</td>\n",
       "      <td>100</td>\n",
       "      <td>0.4</td>\n",
       "      <td>0.208876</td>\n",
       "      <td>13</td>\n",
       "      <td>0.128379</td>\n",
       "      <td>15</td>\n",
       "      <td>0.872640</td>\n",
       "      <td>10</td>\n",
       "      <td>0.675186</td>\n",
       "      <td>14</td>\n",
       "    </tr>\n",
       "  </tbody>\n",
       "</table>\n",
       "</div>"
      ],
      "text/plain": [
       "   param_criterion param_n_estimators param_max_features  \\\n",
       "0             gini                 20                0.8   \n",
       "1             gini                 50                0.8   \n",
       "2             gini                100                0.8   \n",
       "3             gini                 20                0.6   \n",
       "4             gini                 50                0.6   \n",
       "5             gini                100                0.6   \n",
       "6             gini                 20                0.4   \n",
       "7             gini                 50                0.4   \n",
       "8             gini                100                0.4   \n",
       "9          entropy                 20                0.8   \n",
       "10         entropy                 50                0.8   \n",
       "11         entropy                100                0.8   \n",
       "12         entropy                 20                0.6   \n",
       "13         entropy                 50                0.6   \n",
       "14         entropy                100                0.6   \n",
       "15         entropy                 20                0.4   \n",
       "16         entropy                 50                0.4   \n",
       "17         entropy                100                0.4   \n",
       "\n",
       "    mean_test_fl_score_deseased  rank_test_fl_score_deseased  \\\n",
       "0                      0.213791                            2   \n",
       "1                      0.209089                           11   \n",
       "2                      0.213726                            3   \n",
       "3                      0.214662                            1   \n",
       "4                      0.212814                            4   \n",
       "5                      0.211460                            5   \n",
       "6                      0.209666                            9   \n",
       "7                      0.210673                            7   \n",
       "8                      0.207975                           16   \n",
       "9                      0.209042                           12   \n",
       "10                     0.208096                           15   \n",
       "11                     0.209713                            8   \n",
       "12                     0.210703                            6   \n",
       "13                     0.209367                           10   \n",
       "14                     0.208714                           14   \n",
       "15                     0.206576                           18   \n",
       "16                     0.207449                           17   \n",
       "17                     0.208876                           13   \n",
       "\n",
       "    mean_test_recall_deseased  rank_test_recall_deseased  mean_test_accuracy  \\\n",
       "0                    0.135074                          1            0.872453   \n",
       "1                    0.128935                         11            0.872368   \n",
       "2                    0.131726                          5            0.872702   \n",
       "3                    0.134238                          2            0.872675   \n",
       "4                    0.132004                          3            0.872821   \n",
       "5                    0.130328                          8            0.872838   \n",
       "6                    0.130611                          7            0.872511   \n",
       "7                    0.130053                          9            0.872623   \n",
       "8                    0.128376                         16            0.872835   \n",
       "9                    0.131166                          6            0.872317   \n",
       "10                   0.128655                         14            0.872572   \n",
       "11                   0.128655                         13            0.872763   \n",
       "12                   0.131728                          4            0.872494   \n",
       "13                   0.129493                         10            0.872719   \n",
       "14                   0.128098                         18            0.872838   \n",
       "15                   0.128657                         12            0.872242   \n",
       "16                   0.128099                         17            0.872685   \n",
       "17                   0.128379                         15            0.872640   \n",
       "\n",
       "    rank_test_accuracy  mean_test_recall  rank_test_recall  \n",
       "0                   15          0.676642                 1  \n",
       "1                   16          0.675099                15  \n",
       "2                    7          0.675982                 4  \n",
       "3                    9          0.676462                 2  \n",
       "4                    4          0.676117                 3  \n",
       "5                    1          0.675763                 6  \n",
       "6                   13          0.675516                 7  \n",
       "7                   11          0.675469                 9  \n",
       "8                    3          0.675286                12  \n",
       "9                   17          0.675447                10  \n",
       "10                  12          0.675046                16  \n",
       "11                   5          0.675381                11  \n",
       "12                  14          0.675785                 5  \n",
       "13                   6          0.675496                 8  \n",
       "14                   1          0.675258                13  \n",
       "15                  18          0.674808                18  \n",
       "16                   8          0.675013                17  \n",
       "17                  10          0.675186                14  "
      ]
     },
     "execution_count": 30,
     "metadata": {},
     "output_type": "execute_result"
    }
   ],
   "source": [
    "pd.DataFrame(rf_Grid.cv_results_)[['param_criterion', 'param_n_estimators', 'param_max_features', 'mean_test_fl_score_deseased', 'rank_test_fl_score_deseased', 'mean_test_recall_deseased', 'rank_test_recall_deseased','mean_test_accuracy', 'rank_test_accuracy', 'mean_test_recall', 'rank_test_recall']]\n"
   ]
  },
  {
   "cell_type": "code",
   "execution_count": 28,
   "metadata": {},
   "outputs": [],
   "source": [
    "pd.DataFrame(rf_Grid.cv_results_).to_csv('RandomForestModel_results.csv', index=False)\n"
   ]
  },
  {
   "cell_type": "markdown",
   "metadata": {},
   "source": [
    "### Tuning Second Model "
   ]
  },
  {
   "cell_type": "code",
   "execution_count": 40,
   "metadata": {},
   "outputs": [
    {
     "name": "stdout",
     "output_type": "stream",
     "text": [
      "Fitting 5 folds for each of 9 candidates, totalling 45 fits\n"
     ]
    },
    {
     "name": "stderr",
     "output_type": "stream",
     "text": [
      "[Parallel(n_jobs=4)]: Using backend LokyBackend with 4 concurrent workers.\n",
      "[Parallel(n_jobs=4)]: Done  33 tasks      | elapsed:  3.7min\n",
      "[Parallel(n_jobs=4)]: Done  45 out of  45 | elapsed:  4.9min finished\n"
     ]
    },
    {
     "data": {
      "text/plain": [
       "GridSearchCV(cv=5, estimator=RandomForestClassifier(), n_jobs=4,\n",
       "             param_grid={'criterion': ['gini'], 'max_depth': [30, 35, 40],\n",
       "                         'max_features': [0.6], 'n_estimators': [16, 20, 24]},\n",
       "             refit='fl_score_deseased',\n",
       "             scoring={'accuracy': make_scorer(accuracy_score),\n",
       "                      'fl_score_deseased': make_scorer(f1_score, average=None, labels=['deceased']),\n",
       "                      'recall': make_scorer(overall_recall),\n",
       "                      'recall_deseased': make_scorer(recall_score, average=None, labels=['deceased'])},\n",
       "             verbose=2)"
      ]
     },
     "execution_count": 40,
     "metadata": {},
     "output_type": "execute_result"
    }
   ],
   "source": [
    "rf = RandomForestClassifier()\n",
    "rf_paras = {'criterion': ['gini'], \n",
    "            'n_estimators': [16, 20, 24],'max_features': [0.6],'max_depth': [30, 35, 40]}\n",
    "rf_scoring = {'fl_score_deseased': make_scorer(f1_score, average=None, labels=['deceased']),\n",
    "              'recall_deseased': make_scorer(recall_score,average=None,labels=['deceased']),\n",
    "              'accuracy': make_scorer(accuracy_score),\n",
    "              'recall': make_scorer(overall_recall)}\n",
    "\n",
    "rf_Grid2 = GridSearchCV(rf, param_grid=rf_paras, scoring=rf_scoring, cv=5, verbose=2, n_jobs=4, refit='fl_score_deseased')\n",
    "rf_Grid2.fit(x_train, y_train)\n",
    "#'min_samples_split': [4, 10],'min_samples_leaf': [2, 3]"
   ]
  },
  {
   "cell_type": "code",
   "execution_count": 41,
   "metadata": {},
   "outputs": [
    {
     "data": {
      "text/html": [
       "<div>\n",
       "<style scoped>\n",
       "    .dataframe tbody tr th:only-of-type {\n",
       "        vertical-align: middle;\n",
       "    }\n",
       "\n",
       "    .dataframe tbody tr th {\n",
       "        vertical-align: top;\n",
       "    }\n",
       "\n",
       "    .dataframe thead th {\n",
       "        text-align: right;\n",
       "    }\n",
       "</style>\n",
       "<table border=\"1\" class=\"dataframe\">\n",
       "  <thead>\n",
       "    <tr style=\"text-align: right;\">\n",
       "      <th></th>\n",
       "      <th>param_max_depth</th>\n",
       "      <th>param_max_features</th>\n",
       "      <th>param_criterion</th>\n",
       "      <th>param_n_estimators</th>\n",
       "      <th>mean_test_fl_score_deseased</th>\n",
       "      <th>rank_test_fl_score_deseased</th>\n",
       "      <th>mean_test_recall_deseased</th>\n",
       "      <th>rank_test_recall_deseased</th>\n",
       "      <th>mean_test_accuracy</th>\n",
       "      <th>rank_test_accuracy</th>\n",
       "      <th>mean_test_recall</th>\n",
       "      <th>rank_test_recall</th>\n",
       "    </tr>\n",
       "  </thead>\n",
       "  <tbody>\n",
       "    <tr>\n",
       "      <th>0</th>\n",
       "      <td>30</td>\n",
       "      <td>0.6</td>\n",
       "      <td>gini</td>\n",
       "      <td>16</td>\n",
       "      <td>0.207723</td>\n",
       "      <td>8</td>\n",
       "      <td>0.128934</td>\n",
       "      <td>9</td>\n",
       "      <td>0.872265</td>\n",
       "      <td>9</td>\n",
       "      <td>0.674865</td>\n",
       "      <td>9</td>\n",
       "    </tr>\n",
       "    <tr>\n",
       "      <th>1</th>\n",
       "      <td>30</td>\n",
       "      <td>0.6</td>\n",
       "      <td>gini</td>\n",
       "      <td>20</td>\n",
       "      <td>0.209624</td>\n",
       "      <td>6</td>\n",
       "      <td>0.130611</td>\n",
       "      <td>6</td>\n",
       "      <td>0.872378</td>\n",
       "      <td>5</td>\n",
       "      <td>0.675493</td>\n",
       "      <td>6</td>\n",
       "    </tr>\n",
       "    <tr>\n",
       "      <th>2</th>\n",
       "      <td>30</td>\n",
       "      <td>0.6</td>\n",
       "      <td>gini</td>\n",
       "      <td>24</td>\n",
       "      <td>0.211146</td>\n",
       "      <td>5</td>\n",
       "      <td>0.130609</td>\n",
       "      <td>7</td>\n",
       "      <td>0.872419</td>\n",
       "      <td>4</td>\n",
       "      <td>0.675469</td>\n",
       "      <td>7</td>\n",
       "    </tr>\n",
       "    <tr>\n",
       "      <th>3</th>\n",
       "      <td>35</td>\n",
       "      <td>0.6</td>\n",
       "      <td>gini</td>\n",
       "      <td>16</td>\n",
       "      <td>0.207151</td>\n",
       "      <td>9</td>\n",
       "      <td>0.129493</td>\n",
       "      <td>8</td>\n",
       "      <td>0.872371</td>\n",
       "      <td>6</td>\n",
       "      <td>0.675201</td>\n",
       "      <td>8</td>\n",
       "    </tr>\n",
       "    <tr>\n",
       "      <th>4</th>\n",
       "      <td>35</td>\n",
       "      <td>0.6</td>\n",
       "      <td>gini</td>\n",
       "      <td>20</td>\n",
       "      <td>0.211577</td>\n",
       "      <td>4</td>\n",
       "      <td>0.132285</td>\n",
       "      <td>2</td>\n",
       "      <td>0.872320</td>\n",
       "      <td>8</td>\n",
       "      <td>0.675853</td>\n",
       "      <td>2</td>\n",
       "    </tr>\n",
       "    <tr>\n",
       "      <th>5</th>\n",
       "      <td>35</td>\n",
       "      <td>0.6</td>\n",
       "      <td>gini</td>\n",
       "      <td>24</td>\n",
       "      <td>0.212237</td>\n",
       "      <td>2</td>\n",
       "      <td>0.131727</td>\n",
       "      <td>3</td>\n",
       "      <td>0.872463</td>\n",
       "      <td>3</td>\n",
       "      <td>0.675680</td>\n",
       "      <td>3</td>\n",
       "    </tr>\n",
       "    <tr>\n",
       "      <th>6</th>\n",
       "      <td>40</td>\n",
       "      <td>0.6</td>\n",
       "      <td>gini</td>\n",
       "      <td>16</td>\n",
       "      <td>0.212320</td>\n",
       "      <td>1</td>\n",
       "      <td>0.132843</td>\n",
       "      <td>1</td>\n",
       "      <td>0.872467</td>\n",
       "      <td>2</td>\n",
       "      <td>0.676015</td>\n",
       "      <td>1</td>\n",
       "    </tr>\n",
       "    <tr>\n",
       "      <th>7</th>\n",
       "      <td>40</td>\n",
       "      <td>0.6</td>\n",
       "      <td>gini</td>\n",
       "      <td>20</td>\n",
       "      <td>0.209371</td>\n",
       "      <td>7</td>\n",
       "      <td>0.131169</td>\n",
       "      <td>5</td>\n",
       "      <td>0.872347</td>\n",
       "      <td>7</td>\n",
       "      <td>0.675493</td>\n",
       "      <td>5</td>\n",
       "    </tr>\n",
       "    <tr>\n",
       "      <th>8</th>\n",
       "      <td>40</td>\n",
       "      <td>0.6</td>\n",
       "      <td>gini</td>\n",
       "      <td>24</td>\n",
       "      <td>0.211928</td>\n",
       "      <td>3</td>\n",
       "      <td>0.131171</td>\n",
       "      <td>4</td>\n",
       "      <td>0.872572</td>\n",
       "      <td>1</td>\n",
       "      <td>0.675590</td>\n",
       "      <td>4</td>\n",
       "    </tr>\n",
       "  </tbody>\n",
       "</table>\n",
       "</div>"
      ],
      "text/plain": [
       "  param_max_depth param_max_features param_criterion param_n_estimators  \\\n",
       "0              30                0.6            gini                 16   \n",
       "1              30                0.6            gini                 20   \n",
       "2              30                0.6            gini                 24   \n",
       "3              35                0.6            gini                 16   \n",
       "4              35                0.6            gini                 20   \n",
       "5              35                0.6            gini                 24   \n",
       "6              40                0.6            gini                 16   \n",
       "7              40                0.6            gini                 20   \n",
       "8              40                0.6            gini                 24   \n",
       "\n",
       "   mean_test_fl_score_deseased  rank_test_fl_score_deseased  \\\n",
       "0                     0.207723                            8   \n",
       "1                     0.209624                            6   \n",
       "2                     0.211146                            5   \n",
       "3                     0.207151                            9   \n",
       "4                     0.211577                            4   \n",
       "5                     0.212237                            2   \n",
       "6                     0.212320                            1   \n",
       "7                     0.209371                            7   \n",
       "8                     0.211928                            3   \n",
       "\n",
       "   mean_test_recall_deseased  rank_test_recall_deseased  mean_test_accuracy  \\\n",
       "0                   0.128934                          9            0.872265   \n",
       "1                   0.130611                          6            0.872378   \n",
       "2                   0.130609                          7            0.872419   \n",
       "3                   0.129493                          8            0.872371   \n",
       "4                   0.132285                          2            0.872320   \n",
       "5                   0.131727                          3            0.872463   \n",
       "6                   0.132843                          1            0.872467   \n",
       "7                   0.131169                          5            0.872347   \n",
       "8                   0.131171                          4            0.872572   \n",
       "\n",
       "   rank_test_accuracy  mean_test_recall  rank_test_recall  \n",
       "0                   9          0.674865                 9  \n",
       "1                   5          0.675493                 6  \n",
       "2                   4          0.675469                 7  \n",
       "3                   6          0.675201                 8  \n",
       "4                   8          0.675853                 2  \n",
       "5                   3          0.675680                 3  \n",
       "6                   2          0.676015                 1  \n",
       "7                   7          0.675493                 5  \n",
       "8                   1          0.675590                 4  "
      ]
     },
     "execution_count": 41,
     "metadata": {},
     "output_type": "execute_result"
    }
   ],
   "source": [
    "pd.DataFrame(rf_Grid2.cv_results_)[['param_max_depth','param_max_features', 'param_criterion', 'param_n_estimators', 'mean_test_fl_score_deseased', 'rank_test_fl_score_deseased', 'mean_test_recall_deseased', 'rank_test_recall_deseased','mean_test_accuracy', 'rank_test_accuracy', 'mean_test_recall', 'rank_test_recall']]\n",
    "#'param_min_samples_leaf','param_min_samples_split',"
   ]
  },
  {
   "cell_type": "code",
   "execution_count": 42,
   "metadata": {},
   "outputs": [
    {
     "name": "stdout",
     "output_type": "stream",
     "text": [
      "                 precision    recall  f1-score   support\n",
      "\n",
      "       deceased       0.94      0.29      0.44      3583\n",
      "   hospitalized       0.81      0.88      0.85     99933\n",
      "nonhospitalized       1.00      1.00      1.00    119402\n",
      "      recovered       0.81      0.74      0.77     70362\n",
      "\n",
      "       accuracy                           0.89    293280\n",
      "      macro avg       0.89      0.73      0.76    293280\n",
      "   weighted avg       0.89      0.89      0.89    293280\n",
      "\n"
     ]
    },
    {
     "data": {
      "text/plain": [
       "<sklearn.metrics._plot.confusion_matrix.ConfusionMatrixDisplay at 0x1273d8940>"
      ]
     },
     "execution_count": 42,
     "metadata": {},
     "output_type": "execute_result"
    },
    {
     "data": {
      "image/png": "[encoded data removed]",
      "text/plain": [
       "<Figure size 432x288 with 2 Axes>"
      ]
     },
     "metadata": {
      "needs_background": "light"
     },
     "output_type": "display_data"
    }
   ],
   "source": [
    "label = ['hospitalized', 'nonhospitalized','recovered', 'deceased']\n",
    "y_train_pred = rf_Grid2.predict(x_train)\n",
    "ev_tr_report = classification_report(y_train, y_train_pred)\n",
    "ev_tr_accuracy = accuracy_score(y_train, y_train_pred)\n",
    "ev_tr_matrix = confusion_matrix(y_train, y_train_pred,labels=label)\n",
    "print(ev_tr_report)\n",
    "ConfusionMatrixDisplay(ev_tr_matrix).plot()"
   ]
  },
  {
   "cell_type": "markdown",
   "metadata": {},
   "source": [
    "## Tuning model By Randomized Search\n"
   ]
  },
  {
   "cell_type": "code",
   "execution_count": 43,
   "metadata": {},
   "outputs": [
    {
     "name": "stdout",
     "output_type": "stream",
     "text": [
      "Fitting 5 folds for each of 10 candidates, totalling 50 fits\n"
     ]
    },
    {
     "name": "stderr",
     "output_type": "stream",
     "text": [
      "[Parallel(n_jobs=4)]: Using backend LokyBackend with 4 concurrent workers.\n",
      "[Parallel(n_jobs=4)]: Done  33 tasks      | elapsed:  5.7min\n",
      "[Parallel(n_jobs=4)]: Done  50 out of  50 | elapsed:  8.2min finished\n"
     ]
    },
    {
     "data": {
      "text/plain": [
       "RandomizedSearchCV(cv=5, estimator=RandomForestClassifier(), n_jobs=4,\n",
       "                   param_distributions={'criterion': ['gini'],\n",
       "                                        'max_depth': <scipy.stats._distn_infrastructure.rv_frozen object at 0x10325a0d0>,\n",
       "                                        'max_features': [0.6],\n",
       "                                        'n_estimators': <scipy.stats._distn_infrastructure.rv_frozen object at 0x122a21e20>},\n",
       "                   refit='fl_score_deseased',\n",
       "                   scoring={'accuracy': make_scorer(accuracy_score),\n",
       "                            'fl_score_deseased': make_scorer(f1_score, average=None, labels=['deceased']),\n",
       "                            'recall': make_scorer(overall_recall),\n",
       "                            'recall_deseased': make_scorer(recall_score, average=None, labels=['deceased'])},\n",
       "                   verbose=2)"
      ]
     },
     "execution_count": 43,
     "metadata": {},
     "output_type": "execute_result"
    }
   ],
   "source": [
    "from scipy.stats import uniform, truncnorm, randint\n",
    "from sklearn.model_selection import RandomizedSearchCV\n",
    "\n",
    "rfa = RandomForestClassifier()\n",
    "rf_paras = {'criterion': ['gini'], \n",
    "            'n_estimators': randint(15, 50),'max_features': [0.6],'max_depth': randint(30, 40)}\n",
    "rf_scoring = {'fl_score_deseased': make_scorer(f1_score, average=None, labels=['deceased']),\n",
    "              'recall_deseased': make_scorer(recall_score,average=None,labels=['deceased']),\n",
    "              'accuracy': make_scorer(accuracy_score),\n",
    "              'recall': make_scorer(overall_recall)}\n",
    "\n",
    "rf_RanSearch = RandomizedSearchCV(estimator=rfa, param_distributions=rf_paras, scoring=rf_scoring, cv=5, verbose=2, n_jobs=4, refit='fl_score_deseased')\n",
    "rf_RanSearch.fit(x_train, y_train)\n"
   ]
  },
  {
   "cell_type": "code",
   "execution_count": 45,
   "metadata": {},
   "outputs": [
    {
     "data": {
      "text/html": [
       "<div>\n",
       "<style scoped>\n",
       "    .dataframe tbody tr th:only-of-type {\n",
       "        vertical-align: middle;\n",
       "    }\n",
       "\n",
       "    .dataframe tbody tr th {\n",
       "        vertical-align: top;\n",
       "    }\n",
       "\n",
       "    .dataframe thead th {\n",
       "        text-align: right;\n",
       "    }\n",
       "</style>\n",
       "<table border=\"1\" class=\"dataframe\">\n",
       "  <thead>\n",
       "    <tr style=\"text-align: right;\">\n",
       "      <th></th>\n",
       "      <th>param_max_depth</th>\n",
       "      <th>param_max_features</th>\n",
       "      <th>param_criterion</th>\n",
       "      <th>param_n_estimators</th>\n",
       "      <th>mean_test_fl_score_deseased</th>\n",
       "      <th>rank_test_fl_score_deseased</th>\n",
       "      <th>mean_test_recall_deseased</th>\n",
       "      <th>rank_test_recall_deseased</th>\n",
       "      <th>mean_test_accuracy</th>\n",
       "      <th>rank_test_accuracy</th>\n",
       "      <th>mean_test_recall</th>\n",
       "      <th>rank_test_recall</th>\n",
       "    </tr>\n",
       "  </thead>\n",
       "  <tbody>\n",
       "    <tr>\n",
       "      <th>0</th>\n",
       "      <td>37</td>\n",
       "      <td>0.6</td>\n",
       "      <td>gini</td>\n",
       "      <td>33</td>\n",
       "      <td>0.213550</td>\n",
       "      <td>1</td>\n",
       "      <td>0.132563</td>\n",
       "      <td>2</td>\n",
       "      <td>0.872634</td>\n",
       "      <td>5</td>\n",
       "      <td>0.676162</td>\n",
       "      <td>1</td>\n",
       "    </tr>\n",
       "    <tr>\n",
       "      <th>1</th>\n",
       "      <td>38</td>\n",
       "      <td>0.6</td>\n",
       "      <td>gini</td>\n",
       "      <td>43</td>\n",
       "      <td>0.210899</td>\n",
       "      <td>3</td>\n",
       "      <td>0.130888</td>\n",
       "      <td>4</td>\n",
       "      <td>0.872763</td>\n",
       "      <td>3</td>\n",
       "      <td>0.675853</td>\n",
       "      <td>3</td>\n",
       "    </tr>\n",
       "    <tr>\n",
       "      <th>2</th>\n",
       "      <td>34</td>\n",
       "      <td>0.6</td>\n",
       "      <td>gini</td>\n",
       "      <td>48</td>\n",
       "      <td>0.210282</td>\n",
       "      <td>7</td>\n",
       "      <td>0.130052</td>\n",
       "      <td>8</td>\n",
       "      <td>0.872654</td>\n",
       "      <td>4</td>\n",
       "      <td>0.675552</td>\n",
       "      <td>7</td>\n",
       "    </tr>\n",
       "    <tr>\n",
       "      <th>3</th>\n",
       "      <td>34</td>\n",
       "      <td>0.6</td>\n",
       "      <td>gini</td>\n",
       "      <td>23</td>\n",
       "      <td>0.210388</td>\n",
       "      <td>5</td>\n",
       "      <td>0.130609</td>\n",
       "      <td>6</td>\n",
       "      <td>0.872422</td>\n",
       "      <td>9</td>\n",
       "      <td>0.675484</td>\n",
       "      <td>8</td>\n",
       "    </tr>\n",
       "    <tr>\n",
       "      <th>4</th>\n",
       "      <td>32</td>\n",
       "      <td>0.6</td>\n",
       "      <td>gini</td>\n",
       "      <td>37</td>\n",
       "      <td>0.208640</td>\n",
       "      <td>9</td>\n",
       "      <td>0.128935</td>\n",
       "      <td>9</td>\n",
       "      <td>0.872814</td>\n",
       "      <td>1</td>\n",
       "      <td>0.675440</td>\n",
       "      <td>9</td>\n",
       "    </tr>\n",
       "    <tr>\n",
       "      <th>5</th>\n",
       "      <td>39</td>\n",
       "      <td>0.6</td>\n",
       "      <td>gini</td>\n",
       "      <td>21</td>\n",
       "      <td>0.209773</td>\n",
       "      <td>8</td>\n",
       "      <td>0.130889</td>\n",
       "      <td>3</td>\n",
       "      <td>0.872463</td>\n",
       "      <td>8</td>\n",
       "      <td>0.675685</td>\n",
       "      <td>5</td>\n",
       "    </tr>\n",
       "    <tr>\n",
       "      <th>6</th>\n",
       "      <td>37</td>\n",
       "      <td>0.6</td>\n",
       "      <td>gini</td>\n",
       "      <td>43</td>\n",
       "      <td>0.211419</td>\n",
       "      <td>2</td>\n",
       "      <td>0.130611</td>\n",
       "      <td>5</td>\n",
       "      <td>0.872634</td>\n",
       "      <td>5</td>\n",
       "      <td>0.675725</td>\n",
       "      <td>4</td>\n",
       "    </tr>\n",
       "    <tr>\n",
       "      <th>7</th>\n",
       "      <td>36</td>\n",
       "      <td>0.6</td>\n",
       "      <td>gini</td>\n",
       "      <td>16</td>\n",
       "      <td>0.210654</td>\n",
       "      <td>4</td>\n",
       "      <td>0.132842</td>\n",
       "      <td>1</td>\n",
       "      <td>0.872255</td>\n",
       "      <td>10</td>\n",
       "      <td>0.675910</td>\n",
       "      <td>2</td>\n",
       "    </tr>\n",
       "    <tr>\n",
       "      <th>8</th>\n",
       "      <td>37</td>\n",
       "      <td>0.6</td>\n",
       "      <td>gini</td>\n",
       "      <td>47</td>\n",
       "      <td>0.206993</td>\n",
       "      <td>10</td>\n",
       "      <td>0.127818</td>\n",
       "      <td>10</td>\n",
       "      <td>0.872797</td>\n",
       "      <td>2</td>\n",
       "      <td>0.675193</td>\n",
       "      <td>10</td>\n",
       "    </tr>\n",
       "    <tr>\n",
       "      <th>9</th>\n",
       "      <td>39</td>\n",
       "      <td>0.6</td>\n",
       "      <td>gini</td>\n",
       "      <td>39</td>\n",
       "      <td>0.210364</td>\n",
       "      <td>6</td>\n",
       "      <td>0.130052</td>\n",
       "      <td>7</td>\n",
       "      <td>0.872623</td>\n",
       "      <td>7</td>\n",
       "      <td>0.675603</td>\n",
       "      <td>6</td>\n",
       "    </tr>\n",
       "  </tbody>\n",
       "</table>\n",
       "</div>"
      ],
      "text/plain": [
       "  param_max_depth param_max_features param_criterion param_n_estimators  \\\n",
       "0              37                0.6            gini                 33   \n",
       "1              38                0.6            gini                 43   \n",
       "2              34                0.6            gini                 48   \n",
       "3              34                0.6            gini                 23   \n",
       "4              32                0.6            gini                 37   \n",
       "5              39                0.6            gini                 21   \n",
       "6              37                0.6            gini                 43   \n",
       "7              36                0.6            gini                 16   \n",
       "8              37                0.6            gini                 47   \n",
       "9              39                0.6            gini                 39   \n",
       "\n",
       "   mean_test_fl_score_deseased  rank_test_fl_score_deseased  \\\n",
       "0                     0.213550                            1   \n",
       "1                     0.210899                            3   \n",
       "2                     0.210282                            7   \n",
       "3                     0.210388                            5   \n",
       "4                     0.208640                            9   \n",
       "5                     0.209773                            8   \n",
       "6                     0.211419                            2   \n",
       "7                     0.210654                            4   \n",
       "8                     0.206993                           10   \n",
       "9                     0.210364                            6   \n",
       "\n",
       "   mean_test_recall_deseased  rank_test_recall_deseased  mean_test_accuracy  \\\n",
       "0                   0.132563                          2            0.872634   \n",
       "1                   0.130888                          4            0.872763   \n",
       "2                   0.130052                          8            0.872654   \n",
       "3                   0.130609                          6            0.872422   \n",
       "4                   0.128935                          9            0.872814   \n",
       "5                   0.130889                          3            0.872463   \n",
       "6                   0.130611                          5            0.872634   \n",
       "7                   0.132842                          1            0.872255   \n",
       "8                   0.127818                         10            0.872797   \n",
       "9                   0.130052                          7            0.872623   \n",
       "\n",
       "   rank_test_accuracy  mean_test_recall  rank_test_recall  \n",
       "0                   5          0.676162                 1  \n",
       "1                   3          0.675853                 3  \n",
       "2                   4          0.675552                 7  \n",
       "3                   9          0.675484                 8  \n",
       "4                   1          0.675440                 9  \n",
       "5                   8          0.675685                 5  \n",
       "6                   5          0.675725                 4  \n",
       "7                  10          0.675910                 2  \n",
       "8                   2          0.675193                10  \n",
       "9                   7          0.675603                 6  "
      ]
     },
     "execution_count": 45,
     "metadata": {},
     "output_type": "execute_result"
    }
   ],
   "source": [
    "pd.DataFrame(rf_RanSearch.cv_results_)[['param_max_depth','param_max_features', 'param_criterion', 'param_n_estimators', 'mean_test_fl_score_deseased', 'rank_test_fl_score_deseased', 'mean_test_recall_deseased', 'rank_test_recall_deseased','mean_test_accuracy', 'rank_test_accuracy', 'mean_test_recall', 'rank_test_recall']]\n"
   ]
  },
  {
   "cell_type": "markdown",
   "metadata": {},
   "source": [
    "## Saving and loading Tuning model"
   ]
  },
  {
   "cell_type": "code",
   "execution_count": 31,
   "metadata": {},
   "outputs": [],
   "source": [
    "import pickle\n",
    "filename = 'RandomForestModelTune.pkl'\n",
    "pickle.dump(rf_Grid, open(filename,'wb'))"
   ]
  },
  {
   "cell_type": "code",
   "execution_count": 20,
   "metadata": {},
   "outputs": [],
   "source": [
    "model = pickle.load(open('RandomForestModelTune.pkl','rb'))"
   ]
  },
  {
   "cell_type": "code",
   "execution_count": 21,
   "metadata": {},
   "outputs": [
    {
     "data": {
      "text/plain": [
       "{'criterion': 'gini', 'max_features': 0.6, 'n_estimators': 20}"
      ]
     },
     "execution_count": 21,
     "metadata": {},
     "output_type": "execute_result"
    }
   ],
   "source": [
    "model.best_params_"
   ]
  },
  {
   "cell_type": "code",
   "execution_count": 40,
   "metadata": {},
   "outputs": [
    {
     "data": {
      "text/plain": [
       "RandomForestClassifier(max_features=0.6, n_estimators=20)"
      ]
     },
     "execution_count": 40,
     "metadata": {},
     "output_type": "execute_result"
    }
   ],
   "source": [
    "model.best_estimator_"
   ]
  },
  {
   "cell_type": "markdown",
   "metadata": {},
   "source": [
    "### Train result for tuning model"
   ]
  },
  {
   "cell_type": "code",
   "execution_count": 61,
   "metadata": {},
   "outputs": [
    {
     "name": "stdout",
     "output_type": "stream",
     "text": [
      "Train\n",
      "                 precision    recall  f1-score   support\n",
      "\n",
      "       deceased       0.92      0.29      0.45      3583\n",
      "   hospitalized       0.81      0.89      0.85     99933\n",
      "nonhospitalized       1.00      1.00      1.00    119402\n",
      "      recovered       0.81      0.73      0.77     70362\n",
      "\n",
      "       accuracy                           0.89    293280\n",
      "      macro avg       0.89      0.73      0.77    293280\n",
      "   weighted avg       0.89      0.89      0.89    293280\n",
      "\n"
     ]
    },
    {
     "data": {
      "text/plain": [
       "<sklearn.metrics._plot.confusion_matrix.ConfusionMatrixDisplay at 0x1261696d0>"
      ]
     },
     "execution_count": 61,
     "metadata": {},
     "output_type": "execute_result"
    },
    {
     "data": {
      "image/png": "[encoded data removed]",
      "text/plain": [
       "<Figure size 432x288 with 2 Axes>"
      ]
     },
     "metadata": {
      "needs_background": "light"
     },
     "output_type": "display_data"
    }
   ],
   "source": [
    "label = ['hospitalized', 'nonhospitalized','recovered', 'deceased']\n",
    "y_train_pred = model.predict(x_train)\n",
    "ev_tr_report = classification_report(y_train, y_train_pred)\n",
    "ev_tr_accuracy = accuracy_score(y_train, y_train_pred)\n",
    "ev_tr_matrix = confusion_matrix(y_train, y_train_pred,labels=label)\n",
    "print('Train')\n",
    "print(ev_tr_report)\n",
    "ConfusionMatrixDisplay(ev_tr_matrix).plot()"
   ]
  },
  {
   "cell_type": "markdown",
   "metadata": {},
   "source": [
    "### Test result for tuning model"
   ]
  },
  {
   "cell_type": "code",
   "execution_count": 62,
   "metadata": {},
   "outputs": [
    {
     "name": "stdout",
     "output_type": "stream",
     "text": [
      "Validation\n",
      "                 precision    recall  f1-score   support\n",
      "\n",
      "       deceased       0.47      0.14      0.22       912\n",
      "   hospitalized       0.80      0.87      0.84     24862\n",
      "nonhospitalized       0.99      0.99      0.99     30018\n",
      "      recovered       0.78      0.71      0.74     17528\n",
      "\n",
      "       accuracy                           0.87     73320\n",
      "      macro avg       0.76      0.68      0.70     73320\n",
      "   weighted avg       0.87      0.87      0.87     73320\n",
      "\n"
     ]
    },
    {
     "data": {
      "text/plain": [
       "<sklearn.metrics._plot.confusion_matrix.ConfusionMatrixDisplay at 0x126169940>"
      ]
     },
     "execution_count": 62,
     "metadata": {},
     "output_type": "execute_result"
    },
    {
     "data": {
      "image/png": "[encoded data removed]",
      "text/plain": [
       "<Figure size 432x288 with 2 Axes>"
      ]
     },
     "metadata": {
      "needs_background": "light"
     },
     "output_type": "display_data"
    }
   ],
   "source": [
    "label = ['hospitalized', 'nonhospitalized','recovered', 'deceased']\n",
    "\n",
    "y_test_pred = model.predict(x_test)\n",
    "ev_te_report = classification_report(y_test, y_test_pred)\n",
    "ev_te_accuracy = accuracy_score(y_test, y_test_pred)\n",
    "ev_te_matrix = confusion_matrix(y_test, y_test_pred,labels=label)\n",
    "print('Validation')\n",
    "print(ev_te_report)\n",
    "ConfusionMatrixDisplay(ev_te_matrix).plot()"
   ]
  },
  {
   "cell_type": "markdown",
   "metadata": {},
   "source": [
    "### Prediction on test set\n"
   ]
  },
  {
   "cell_type": "code",
   "execution_count": 59,
   "metadata": {},
   "outputs": [
    {
     "name": "stdout",
     "output_type": "stream",
     "text": [
      "te_pred len: 46500\n"
     ]
    },
    {
     "data": {
      "text/plain": [
       "Counter({'nonhospitalized': 20114,\n",
       "         'hospitalized': 18943,\n",
       "         'recovered': 5223,\n",
       "         'deceased': 2220})"
      ]
     },
     "execution_count": 59,
     "metadata": {},
     "output_type": "execute_result"
    }
   ],
   "source": [
    "from collections import Counter\n",
    "\n",
    "label = ['hospitalized', 'nonhospitalized','recovered', 'deceased']\n",
    "dest = 'predictions.txt'\n",
    "te_pred = model.predict(dt)\n",
    "te_pred = pd.DataFrame(te_pred, columns = ['outcome'])\n",
    "te_pred.to_csv(dest,index=False,header=False)\n",
    "file_data = open(dest, 'rb').read()\n",
    "open(dest, 'wb').write(file_data[:-2])\n",
    "print('te_pred len:',len(te_pred))\n",
    "counted = Counter(te_pred['outcome'])\n",
    "counted\n"
   ]
  },
  {
   "cell_type": "code",
   "execution_count": null,
   "metadata": {},
   "outputs": [],
   "source": [
    "Counter({'nonhospitalized': 19966,\n",
    "         'hospitalized': 15850,\n",
    "         'recovered': 10188,\n",
    "         'deceased': 496})"
   ]
  },
  {
   "cell_type": "markdown",
   "metadata": {},
   "source": [
    "### load default model and compare to tuned model"
   ]
  },
  {
   "cell_type": "code",
   "execution_count": 5,
   "metadata": {},
   "outputs": [],
   "source": [
    "import pickle\n",
    "defaultModel = pickle.load(open('RandomForestModel.pkl','rb'))"
   ]
  },
  {
   "cell_type": "code",
   "execution_count": 14,
   "metadata": {},
   "outputs": [
    {
     "data": {
      "text/plain": [
       "0.4439701173959445"
      ]
     },
     "execution_count": 14,
     "metadata": {},
     "output_type": "execute_result"
    }
   ],
   "source": [
    "f1_score(y_train, defaultModel.predict(x_train),labels=['deceased'], average='macro')"
   ]
  },
  {
   "cell_type": "code",
   "execution_count": 15,
   "metadata": {},
   "outputs": [
    {
     "name": "stdout",
     "output_type": "stream",
     "text": [
      "                 precision    recall  f1-score   support\n",
      "\n",
      "       deceased       0.94      0.29      0.44      3583\n",
      "   hospitalized       0.81      0.89      0.85     99933\n",
      "nonhospitalized       1.00      1.00      1.00    119402\n",
      "      recovered       0.81      0.73      0.77     70362\n",
      "\n",
      "       accuracy                           0.89    293280\n",
      "      macro avg       0.89      0.73      0.77    293280\n",
      "   weighted avg       0.89      0.89      0.89    293280\n",
      "\n"
     ]
    },
    {
     "data": {
      "text/plain": [
       "<sklearn.metrics._plot.confusion_matrix.ConfusionMatrixDisplay at 0x11c955310>"
      ]
     },
     "execution_count": 15,
     "metadata": {},
     "output_type": "execute_result"
    },
    {
     "data": {
      "image/png": "[encoded data removed]",
      "text/plain": [
       "<Figure size 432x288 with 2 Axes>"
      ]
     },
     "metadata": {
      "needs_background": "light"
     },
     "output_type": "display_data"
    }
   ],
   "source": [
    "label = ['hospitalized', 'nonhospitalized','recovered', 'deceased']\n",
    "y_train_pred = defaultModel.predict(x_train)\n",
    "ev_tr_report = classification_report(y_train, y_train_pred)\n",
    "ev_tr_accuracy = accuracy_score(y_train, y_train_pred)\n",
    "ev_tr_matrix = confusion_matrix(y_train, y_train_pred,labels=label)\n",
    "print(ev_tr_report)\n",
    "ConfusionMatrixDisplay(ev_tr_matrix).plot()"
   ]
  },
  {
   "cell_type": "code",
   "execution_count": null,
   "metadata": {},
   "outputs": [],
   "source": [
    "label = ['hospitalized', 'nonhospitalized','recovered', 'deceased']\n",
    "y_train_pred = defaultModel.predict(x_train)\n",
    "ev_tr_report = classification_report(y_train, y_train_pred)\n",
    "ev_tr_accuracy = accuracy_score(y_train, y_train_pred)\n",
    "ev_tr_matrix = confusion_matrix(y_train, y_train_pred,labels=label)\n",
    "print(ev_tr_report)\n",
    "ConfusionMatrixDisplay(ev_tr_matrix).plot()"
   ]
  },
  {
   "cell_type": "markdown",
   "metadata": {},
   "source": [
    "## Matrix Evaluation and result"
   ]
  },
  {
   "cell_type": "markdown",
   "metadata": {},
   "source": [
    "### Evaluating Matrix for Train set"
   ]
  },
  {
   "cell_type": "code",
   "execution_count": 41,
   "metadata": {},
   "outputs": [
    {
     "data": {
      "text/plain": [
       "Text(0.5, 1.0, 'Confusion matrix for train set')"
      ]
     },
     "execution_count": 41,
     "metadata": {},
     "output_type": "execute_result"
    },
    {
     "data": {
      "image/png": "[encoded data removed]",
      "text/plain": [
       "<Figure size 432x288 with 2 Axes>"
      ]
     },
     "metadata": {
      "needs_background": "light"
     },
     "output_type": "display_data"
    }
   ],
   "source": [
    "y_train_pred = model.predict(x_train)\n",
    "train_matrix = confusion_matrix(y_train, y_train_pred)\n",
    "ConfusionMatrixDisplay(train_matrix).plot()\n",
    "plt.title('Confusion matrix for train set')"
   ]
  },
  {
   "cell_type": "code",
   "execution_count": 42,
   "metadata": {},
   "outputs": [
    {
     "name": "stdout",
     "output_type": "stream",
     "text": [
      "Train accuracy:  0.8882671849427168\n",
      "Train overall recall:  0.7280721959756495\n"
     ]
    }
   ],
   "source": [
    "print('Train accuracy: ', accuracy_score(y_train, model.predict(x_train)))\n",
    "print('Train overall recall: ', recall_score(y_train, model.predict(x_train), average='macro'))"
   ]
  },
  {
   "cell_type": "code",
   "execution_count": 43,
   "metadata": {},
   "outputs": [
    {
     "name": "stdout",
     "output_type": "stream",
     "text": [
      "Trainset\n",
      "                 precision    recall  f1-score   support\n",
      "\n",
      "       deceased       0.92      0.29      0.45      3583\n",
      "   hospitalized       0.81      0.89      0.85     99933\n",
      "nonhospitalized       1.00      1.00      1.00    119402\n",
      "      recovered       0.81      0.73      0.77     70362\n",
      "\n",
      "       accuracy                           0.89    293280\n",
      "      macro avg       0.89      0.73      0.77    293280\n",
      "   weighted avg       0.89      0.89      0.89    293280\n",
      "\n"
     ]
    }
   ],
   "source": [
    "ev_train_report = classification_report(y_train, model.predict(x_train))\n",
    "print('Trainset')\n",
    "print(ev_train_report)"
   ]
  },
  {
   "cell_type": "markdown",
   "metadata": {},
   "source": [
    "### Evaluating Matrix for Test set"
   ]
  },
  {
   "cell_type": "code",
   "execution_count": 44,
   "metadata": {},
   "outputs": [
    {
     "data": {
      "text/plain": [
       "Text(0.5, 1.0, 'Confusion matrix for test set')"
      ]
     },
     "execution_count": 44,
     "metadata": {},
     "output_type": "execute_result"
    },
    {
     "data": {
      "image/png": "[encoded data removed]",
      "text/plain": [
       "<Figure size 432x288 with 2 Axes>"
      ]
     },
     "metadata": {
      "needs_background": "light"
     },
     "output_type": "display_data"
    }
   ],
   "source": [
    "y_test_pred = model.predict(x_test)\n",
    "test_matrix = confusion_matrix(y_test, y_test_pred)\n",
    "ConfusionMatrixDisplay(test_matrix).plot()\n",
    "plt.title('Confusion matrix for test set')"
   ]
  },
  {
   "cell_type": "code",
   "execution_count": 45,
   "metadata": {},
   "outputs": [
    {
     "name": "stdout",
     "output_type": "stream",
     "text": [
      "Test accuracy:  0.8741407528641572\n",
      "Test overall recall:  0.6799949470291891\n"
     ]
    }
   ],
   "source": [
    "print('Test accuracy: ', accuracy_score(y_test, model.predict(x_test)))\n",
    "print('Test overall recall: ', recall_score(y_test, model.predict(x_test), average='macro'))"
   ]
  },
  {
   "cell_type": "code",
   "execution_count": 46,
   "metadata": {},
   "outputs": [
    {
     "name": "stdout",
     "output_type": "stream",
     "text": [
      "Testset\n",
      "                 precision    recall  f1-score   support\n",
      "\n",
      "       deceased       0.47      0.14      0.22       912\n",
      "   hospitalized       0.80      0.87      0.84     24862\n",
      "nonhospitalized       0.99      0.99      0.99     30018\n",
      "      recovered       0.78      0.71      0.74     17528\n",
      "\n",
      "       accuracy                           0.87     73320\n",
      "      macro avg       0.76      0.68      0.70     73320\n",
      "   weighted avg       0.87      0.87      0.87     73320\n",
      "\n"
     ]
    }
   ],
   "source": [
    "ev_va_report = classification_report(y_test, model.predict(x_test))\n",
    "print('Testset')\n",
    "print(ev_va_report)"
   ]
  },
  {
   "cell_type": "markdown",
   "metadata": {},
   "source": [
    "## Checking for Overfitting"
   ]
  },
  {
   "cell_type": "code",
   "execution_count": 233,
   "metadata": {},
   "outputs": [
    {
     "data": {
      "image/png": "[encoded data removed]",
      "text/plain": [
       "<Figure size 432x288 with 1 Axes>"
      ]
     },
     "metadata": {
      "needs_background": "light"
     },
     "output_type": "display_data"
    }
   ],
   "source": [
    "n_estimators = [1, 2, 4, 8, 16, 32, 64, 100]\n",
    "train = []\n",
    "test = []\n",
    "\n",
    "for i in n_estimators:\n",
    "    rf = RandomForestClassifier(n_estimators=i, n_jobs=-1)\n",
    "    rf.fit(x_train, y_train)\n",
    "    train.append(accuracy_score(y_train, rf.predict(x_train)))\n",
    "    test.append(accuracy_score(y_test, rf.predict(x_test)))\n",
    "    \n",
    "from matplotlib.legend_handler import HandlerLine2D\n",
    "line1, = plt.plot(n_estimators, train, \"b\", label=\"Train Accuracy\")\n",
    "line2, = plt.plot(n_estimators, test, \"r\", label=\"Test Accuracy\")\n",
    "plt.legend(handler_map={line1: HandlerLine2D(numpoints=2)})\n",
    "plt.ylabel(\"Accuracy score\")\n",
    "plt.xlabel(\"n_estimators\")\n",
    "plt.show()"
   ]
  },
  {
   "cell_type": "code",
   "execution_count": 237,
   "metadata": {},
   "outputs": [
    {
     "data": {
      "image/png": "[encoded data removed]",
      "text/plain": [
       "<Figure size 432x288 with 1 Axes>"
      ]
     },
     "metadata": {
      "needs_background": "light"
     },
     "output_type": "display_data"
    }
   ],
   "source": [
    "n_estimators = [1, 10, 20, 30, 40, 50, 60, 70, 80, 90, 100]\n",
    "train = []\n",
    "test = []\n",
    "\n",
    "for i in n_estimators:\n",
    "    rf = RandomForestClassifier(n_estimators=i, n_jobs=-1)\n",
    "    rf.fit(x_train, y_train)\n",
    "    train.append(rf.score(x_train,y_train))\n",
    "    test.append(rf.score(x_test,y_test))\n",
    "    \n",
    "from matplotlib.legend_handler import HandlerLine2D\n",
    "line1, = plt.plot(n_estimators, train, \"b\", label=\"Train Accuracy\")\n",
    "line2, = plt.plot(n_estimators, test, \"r\", label=\"Test Accuracy\")\n",
    "plt.legend(handler_map={line1: HandlerLine2D(numpoints=2)})\n",
    "plt.ylabel(\"Accuracy score\")\n",
    "plt.xlabel(\"n_estimators\")\n",
    "plt.show()"
   ]
  },
  {
   "cell_type": "code",
   "execution_count": 270,
   "metadata": {},
   "outputs": [
    {
     "data": {
      "image/png": "[encoded data removed]",
      "text/plain": [
       "<Figure size 432x288 with 1 Axes>"
      ]
     },
     "metadata": {
      "needs_background": "light"
     },
     "output_type": "display_data"
    }
   ],
   "source": [
    "from sklearn.metrics import f1_score\n",
    "n_estimators = [1, 10, 20, 30, 40, 50, 60, 70, 80, 90, 100]\n",
    "train = []\n",
    "test = []\n",
    "\n",
    "for i in n_estimators:\n",
    "    rf = RandomForestClassifier(n_estimators=i, n_jobs=-1)\n",
    "    rf.fit(x_train, y_train)\n",
    "    train.append(f1_score(y_train, rf.predict(x_train), average='macro'))\n",
    "    test.append(f1_score(y_test, rf.predict(x_test), average='macro'))\n",
    "    \n",
    "from matplotlib.legend_handler import HandlerLine2D\n",
    "line1, = plt.plot(n_estimators, train, \"b\", label=\"Train Accuracy\")\n",
    "line2, = plt.plot(n_estimators, test, \"r\", label=\"Test Accuracy\")\n",
    "plt.legend(handler_map={line1: HandlerLine2D(numpoints=2)})\n",
    "plt.ylabel(\"F1 score\")\n",
    "plt.xlabel(\"n_estimators\")\n",
    "plt.title('RF: F1 score against n_estimators')\n",
    "plt.show()"
   ]
  },
  {
   "cell_type": "code",
   "execution_count": 242,
   "metadata": {},
   "outputs": [
    {
     "data": {
      "text/plain": [
       "[]"
      ]
     },
     "execution_count": 242,
     "metadata": {},
     "output_type": "execute_result"
    },
    {
     "data": {
      "image/png": "[encoded data removed]",
      "text/plain": [
       "<Figure size 1080x720 with 1 Axes>"
      ]
     },
     "metadata": {
      "needs_background": "light"
     },
     "output_type": "display_data"
    }
   ],
   "source": [
    "max_depth_list = np.linspace(1, 15, num=15)\n",
    "\n",
    "train_accuracy = []\n",
    "test_accuracy = []\n",
    "\n",
    "for i in max_depth_list:\n",
    "    rfc = RandomForestClassifier(max_depth=int(i)) \n",
    "    rfc.fit(x_train,y_train)\n",
    "    train_accuracy.append(rfc.score(x_train, y_train))\n",
    "    test_accuracy.append(rfc.score(x_test, y_test))\n",
    "\n",
    "x = np.arange(len(max_depth_list)) + 1\n",
    "plt.figure(figsize=(15,10))\n",
    "plt.xticks(x)\n",
    "plt.plot(x, train_accuracy, label='Training Accuracy')\n",
    "plt.plot(x, test_accuracy, label='Testing Accuracy')\n",
    "plt.xlabel('Max Tree Depth')\n",
    "plt.ylabel('Accuracy')\n",
    "plt.legend()\n",
    "plt.plot()"
   ]
  },
  {
   "cell_type": "code",
   "execution_count": 272,
   "metadata": {},
   "outputs": [
    {
     "data": {
      "text/plain": [
       "[]"
      ]
     },
     "execution_count": 272,
     "metadata": {},
     "output_type": "execute_result"
    },
    {
     "data": {
      "image/png": "[encoded data removed]",
      "text/plain": [
       "<Figure size 1080x720 with 1 Axes>"
      ]
     },
     "metadata": {
      "needs_background": "light"
     },
     "output_type": "display_data"
    }
   ],
   "source": [
    "max_depth_list = np.linspace(1, 15, num=15)\n",
    "\n",
    "train_accuracy = []\n",
    "test_accuracy = []\n",
    "\n",
    "for i in max_depth_list:\n",
    "    rfc = RandomForestClassifier(max_depth=int(i)) \n",
    "    rfc.fit(x_train,y_train)\n",
    "    train_accuracy.append(f1_score(y_train, rfc.predict(x_train), average='macro'))\n",
    "    test_accuracy.append(f1_score(y_test, rfc.predict(x_test), average='macro'))\n",
    "\n",
    "x = np.arange(len(max_depth_list)) + 1\n",
    "plt.figure(figsize=(15,10))\n",
    "plt.xticks(x)\n",
    "plt.plot(x, train_accuracy, label='Training')\n",
    "plt.plot(x, test_accuracy, label='Testing')\n",
    "plt.xlabel('Max Tree Depth')\n",
    "plt.ylabel('F1 score')\n",
    "plt.title('RF: F1 score against Max Tree Depth')\n",
    "plt.legend()\n",
    "plt.plot()"
   ]
  }
 ],
 "metadata": {
  "kernelspec": {
   "display_name": "Python 3",
   "language": "python",
   "name": "python3"
  },
  "language_info": {
   "codemirror_mode": {
    "name": "ipython",
    "version": 3
   },
   "file_extension": ".py",
   "mimetype": "text/x-python",
   "name": "python",
   "nbconvert_exporter": "python",
   "pygments_lexer": "ipython3",
   "version": "3.8.5"
  }
 },
 "nbformat": 4,
 "nbformat_minor": 4
}
