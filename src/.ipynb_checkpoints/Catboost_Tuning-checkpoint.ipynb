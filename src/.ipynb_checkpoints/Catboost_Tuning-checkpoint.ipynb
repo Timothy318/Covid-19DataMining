{
 "cells": [
  {
   "cell_type": "code",
   "execution_count": 1,
   "id": "585bda7b",
   "metadata": {},
   "outputs": [],
   "source": [
    "# Import libraries\n",
    "import pandas as pd\n",
    "import numpy as np\n",
    "from sklearn.model_selection import train_test_split\n",
    "from sklearn.model_selection import GridSearchCV\n",
    "from sklearn.model_selection import RandomizedSearchCV\n",
    "\n",
    "from catboost import Pool, CatBoostClassifier\n",
    "from sklearn.metrics import roc_curve, auc, precision_score, confusion_matrix,\\\n",
    " ConfusionMatrixDisplay, recall_score, accuracy_score, f1_score, classification_report, make_scorer\n",
    "import pickle\n",
    "import matplotlib.pyplot as plt"
   ]
  },
  {
   "cell_type": "code",
   "execution_count": 2,
   "id": "ee234fcb",
   "metadata": {},
   "outputs": [
    {
     "name": "stdout",
     "output_type": "stream",
     "text": [
      "processing file: ../data/cases_train_preprocessed.csv\n"
     ]
    }
   ],
   "source": [
    "# Preprocess data\n",
    "def process_data(name):\n",
    "    file = r'../data/' + name + '.csv'\n",
    "    print(\"processing file: {}\".format(file))\n",
    "    file = pd.read_csv(r'../data/cases_train_preprocessed.csv',dtype=object)\n",
    "    file.drop(columns=['land','Last_Update','province','country'],inplace=True)\n",
    "    file['source'] = file['source'].fillna(value='')\n",
    "    return file\n",
    "file = process_data(\"cases_train_preprocessed\")"
   ]
  },
  {
   "cell_type": "code",
   "execution_count": 3,
   "id": "4c25320e",
   "metadata": {},
   "outputs": [],
   "source": [
    "# Train / Test split for model evaluation\n",
    "def catboost_data(file):\n",
    "    cat_feature=['sex','source','age_range_ind','age_range']\n",
    "    text_feature = ['additional_information']\n",
    "\n",
    "    df_tr, df_va = train_test_split(file, test_size=0.2, random_state = 1)\n",
    "\n",
    "    df_tr_x = df_tr.drop(columns=\"outcome\")\n",
    "    df_tr_y = df_tr['outcome']\n",
    "\n",
    "    df_tr_data = Pool(data = df_tr_x,\n",
    "                   label = df_tr_y,\n",
    "                   cat_features = cat_feature, \n",
    "                   text_features=text_feature)\n",
    "\n",
    "    df_va_x = df_va.drop(columns=\"outcome\")\n",
    "    df_va_y = df_va['outcome']\n",
    "\n",
    "    df_va_data = Pool(data = df_va_x,\n",
    "                   label = df_va_y,\n",
    "                   cat_features = cat_feature, \n",
    "                   text_features=text_feature)\n",
    "    return df_tr_x, df_tr_y, df_va_x, df_va_y\n",
    "tr, tr_y, va, va_y = catboost_data(file)"
   ]
  },
  {
   "cell_type": "code",
   "execution_count": 4,
   "id": "fef406d1",
   "metadata": {},
   "outputs": [
    {
     "name": "stdout",
     "output_type": "stream",
     "text": [
      "0:\tlearn: 0.7016270\ttotal: 56.6ms\tremaining: 0us\n",
      "0:\tlearn: 0.7057047\ttotal: 62.5ms\tremaining: 0us\n",
      "0:\tlearn: 0.7016270\ttotal: 68.9ms\tremaining: 68.9ms\n",
      "1:\tlearn: 0.6369436\ttotal: 129ms\tremaining: 0us\n",
      "0:\tlearn: 0.7057047\ttotal: 62.1ms\tremaining: 62.1ms\n",
      "1:\tlearn: 0.6335892\ttotal: 117ms\tremaining: 0us\n",
      "0:\tlearn: 0.7131133\ttotal: 107ms\tremaining: 107ms\n",
      "1:\tlearn: 0.6399326\ttotal: 209ms\tremaining: 0us\n"
     ]
    }
   ],
   "source": [
    "grid = {'learning_rate': [0.1, 0.2, 0.3],\n",
    "        'depth': [6, 8, 10, 14, 10],\n",
    "        'l2_leaf_reg': [0.2, 0.4, 0.6],\n",
    "        'n_estimators':[400, 500, 600]\n",
    "\n",
    "# Specify catboost parameters\n",
    "cat_feature=['sex','source','age_range_ind','age_range']\n",
    "text_feature = ['additional_information']\n",
    "\n",
    "# Creating required scoring function\n",
    "scorer = {\n",
    "    'f1_macro' : make_scorer(f1_score, average='macro'),\n",
    "    'recall_macro': make_scorer(recall_score , average='macro'),\n",
    "    'accuracy': make_scorer(accuracy_score),\n",
    "    'recall_d' : make_scorer(recall_score,average=None,labels=['deceased']),\n",
    "    'f1_d' : make_scorer(f1_score, average=None, labels=['deceased']),\n",
    "}\n",
    "\n",
    "model = CatBoostClassifier( task_type=\"GPU\",\n",
    "                            devices='0:1',\n",
    "                            loss_function='MultiClass',\n",
    "                            auto_class_weights = 'SqrtBalanced',\n",
    "                            cat_features = cat_feature,\n",
    "                            text_features = text_feature)\n",
    "\n",
    "clf_grid = GridSearchCV(estimator=model, param_grid=grid, scoring=scorer, cv=2, refit=\"f1_d\")\n",
    "clf = clf_grid.fit(tr, tr_y)"
   ]
  },
  {
   "cell_type": "code",
   "execution_count": 10,
   "id": "baf84696",
   "metadata": {},
   "outputs": [
    {
     "name": "stdout",
     "output_type": "stream",
     "text": [
      "{'depth': 6, 'learning_rate': 0.9, 'n_estimators': 2}\n"
     ]
    },
    {
     "data": {
      "text/html": [
       "<div>\n",
       "<style scoped>\n",
       "    .dataframe tbody tr th:only-of-type {\n",
       "        vertical-align: middle;\n",
       "    }\n",
       "\n",
       "    .dataframe tbody tr th {\n",
       "        vertical-align: top;\n",
       "    }\n",
       "\n",
       "    .dataframe thead th {\n",
       "        text-align: right;\n",
       "    }\n",
       "</style>\n",
       "<table border=\"1\" class=\"dataframe\">\n",
       "  <thead>\n",
       "    <tr style=\"text-align: right;\">\n",
       "      <th></th>\n",
       "      <th>Hyperparameters</th>\n",
       "      <th>F1-Score on Deceased</th>\n",
       "      <th>Recall on Deceased</th>\n",
       "      <th>Overall Accuracy</th>\n",
       "      <th>Overall Recall(Macro)</th>\n",
       "      <th>Overall F1-Score(Macro)</th>\n",
       "    </tr>\n",
       "  </thead>\n",
       "  <tbody>\n",
       "    <tr>\n",
       "      <th>1</th>\n",
       "      <td>{'depth': 6, 'learning_rate': 0.9, 'n_estimato...</td>\n",
       "      <td>0.144841</td>\n",
       "      <td>0.124471</td>\n",
       "      <td>0.770479</td>\n",
       "      <td>0.577717</td>\n",
       "      <td>0.580526</td>\n",
       "    </tr>\n",
       "    <tr>\n",
       "      <th>0</th>\n",
       "      <td>{'depth': 6, 'learning_rate': 0.9, 'n_estimato...</td>\n",
       "      <td>0.043897</td>\n",
       "      <td>0.024560</td>\n",
       "      <td>0.774240</td>\n",
       "      <td>0.552814</td>\n",
       "      <td>0.551526</td>\n",
       "    </tr>\n",
       "  </tbody>\n",
       "</table>\n",
       "</div>"
      ],
      "text/plain": [
       "                                     Hyperparameters  F1-Score on Deceased  \\\n",
       "1  {'depth': 6, 'learning_rate': 0.9, 'n_estimato...              0.144841   \n",
       "0  {'depth': 6, 'learning_rate': 0.9, 'n_estimato...              0.043897   \n",
       "\n",
       "   Recall on Deceased  Overall Accuracy  Overall Recall(Macro)  \\\n",
       "1            0.124471          0.770479               0.577717   \n",
       "0            0.024560          0.774240               0.552814   \n",
       "\n",
       "   Overall F1-Score(Macro)  \n",
       "1                 0.580526  \n",
       "0                 0.551526  "
      ]
     },
     "execution_count": 10,
     "metadata": {},
     "output_type": "execute_result"
    }
   ],
   "source": [
    "print(clf_grid.best_params_)\n",
    "df = pd.DataFrame(clf_grid.cv_results_ )\n",
    "df = df.sort_values(by='rank_test_f1_d')\n",
    "df = df[df.columns.drop(list(df.filter(regex=r'(time)|(std)|(split)|(param_)|(rank)')))]\n",
    "df = df[['params', 'mean_test_f1_d', 'mean_test_recall_d', 'mean_test_accuracy', 'mean_test_recall_macro','mean_test_f1_macro']]\n",
    "df.rename(columns={\"mean_test_f1_macro\": \"Overall F1-Score(Macro)\", \n",
    "                   \"mean_test_recall_macro\": \"Overall Recall(Macro)\",\n",
    "                   \"mean_test_accuracy\": \"Overall Accuracy\",\n",
    "                   \"mean_test_f1_d\": \"F1-Score on Deceased\",\n",
    "                   \"mean_test_recall_d\": \"Recall on Deceased\",\n",
    "                   \"params\": \"Hyperparameters\"\n",
    "                  },inplace=True)\n",
    "df.to_csv('../results/catboost_tuning.csv',index=False)\n",
    "df"
   ]
  },
  {
   "cell_type": "code",
   "execution_count": 11,
   "id": "e81397c0",
   "metadata": {},
   "outputs": [
    {
     "name": "stdout",
     "output_type": "stream",
     "text": [
      "                 precision    recall  f1-score   support\n",
      "\n",
      "       deceased       0.15      0.15      0.15       912\n",
      "   hospitalized       0.62      0.89      0.73     24862\n",
      "nonhospitalized       0.99      0.97      0.98     30018\n",
      "      recovered       0.58      0.23      0.33     17528\n",
      "\n",
      "       accuracy                           0.76     73320\n",
      "      macro avg       0.58      0.56      0.55     73320\n",
      "   weighted avg       0.75      0.76      0.73     73320\n",
      "\n"
     ]
    },
    {
     "data": {
      "text/plain": [
       "<sklearn.metrics._plot.confusion_matrix.ConfusionMatrixDisplay at 0x1e97e16e0d0>"
      ]
     },
     "execution_count": 11,
     "metadata": {},
     "output_type": "execute_result"
    },
    {
     "data": {
      "image/png": "[encoded data removed]",
      "text/plain": [
       "<Figure size 432x288 with 2 Axes>"
      ]
     },
     "metadata": {
      "needs_background": "light"
     },
     "output_type": "display_data"
    }
   ],
   "source": [
    "label = ['hospitalized', 'nonhospitalized','recovered', 'deceased']\n",
    "va_pred = clf.predict(va)\n",
    "ev_va_report = classification_report(va_y, va_pred)\n",
    "ev_va_accuracy = accuracy_score(va_y, va_pred)\n",
    "ev_va_matrix = confusion_matrix(va_y, va_pred,labels=label)\n",
    "print(ev_va_report)\n",
    "ConfusionMatrixDisplay(ev_va_matrix).plot()"
   ]
  },
  {
   "cell_type": "code",
   "execution_count": null,
   "id": "aab762cd",
   "metadata": {},
   "outputs": [],
   "source": [
    "# # Check if prediction file is valid\n",
    "# def check_if_file_valid(filename):\n",
    "#     assert filename.endswith('../results/predictions.txt'), 'Incorrect filename'\n",
    "#     f = open(filename).read()\n",
    "#     l = f.split('\\n')\n",
    "#     assert len(l) == 46500, 'Incorrect number of items'\n",
    "#     assert (len(set(l)) == 4), 'Wrong class labels'\n",
    "#     return 'The predictions file is valid'\n",
    "# check_if_file_valid('predictions.txt')"
   ]
  },
  {
   "cell_type": "code",
   "execution_count": null,
   "id": "7d7ebe22",
   "metadata": {},
   "outputs": [],
   "source": []
  }
 ],
 "metadata": {
  "kernelspec": {
   "display_name": "Python 3",
   "language": "python",
   "name": "python3"
  },
  "language_info": {
   "codemirror_mode": {
    "name": "ipython",
    "version": 3
   },
   "file_extension": ".py",
   "mimetype": "text/x-python",
   "name": "python",
   "nbconvert_exporter": "python",
   "pygments_lexer": "ipython3",
   "version": "3.8.5"
  }
 },
 "nbformat": 4,
 "nbformat_minor": 5
}
