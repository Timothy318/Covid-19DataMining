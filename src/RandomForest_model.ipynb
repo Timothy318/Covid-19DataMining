{
 "cells": [
  {
   "cell_type": "code",
   "execution_count": 1,
   "metadata": {},
   "outputs": [],
   "source": [
    "import numpy as np \n",
    "import pandas as pd\n",
    "import math\n",
    "import matplotlib.pyplot as plt\n",
    "from sklearn.ensemble import RandomForestClassifier\n",
    "from sklearn.preprocessing import LabelEncoder\n",
    "from sklearn.metrics import confusion_matrix, ConfusionMatrixDisplay\n",
    "from sklearn.metrics import precision_score, recall_score, precision_recall_fscore_support, classification_report\n",
    "from sklearn.metrics import make_scorer\n",
    "from sklearn.metrics import recall_score, accuracy_score\n",
    "from sklearn.metrics import f1_score\n",
    "%matplotlib inline"
   ]
  },
  {
   "cell_type": "code",
   "execution_count": 2,
   "metadata": {},
   "outputs": [],
   "source": [
    "df=pd.read_csv('../data/cases_train_preprocessed.csv',low_memory=False)"
   ]
  },
  {
   "cell_type": "markdown",
   "metadata": {},
   "source": [
    "## Preparing data for building model"
   ]
  },
  {
   "cell_type": "code",
   "execution_count": 3,
   "metadata": {},
   "outputs": [],
   "source": [
    "def convertText(x):\n",
    "    if x == '[]':\n",
    "        return 0\n",
    "    else:\n",
    "        return 1\n",
    "df['additional_information'] = df['additional_information'].apply(convertText)"
   ]
  },
  {
   "cell_type": "code",
   "execution_count": 4,
   "metadata": {},
   "outputs": [],
   "source": [
    "def convertText(x):\n",
    "    if x == '':\n",
    "        return 0\n",
    "    else:\n",
    "        return 1\n",
    "df['source'] = df['source'].apply(convertText)"
   ]
  },
  {
   "cell_type": "code",
   "execution_count": 5,
   "metadata": {},
   "outputs": [],
   "source": [
    "y = df['outcome']\n",
    "df=df.drop(columns=['province', 'country','Last_Update', 'land', 'outcome'])"
   ]
  },
  {
   "cell_type": "code",
   "execution_count": 6,
   "metadata": {},
   "outputs": [
    {
     "data": {
      "text/html": [
       "<div>\n",
       "<style scoped>\n",
       "    .dataframe tbody tr th:only-of-type {\n",
       "        vertical-align: middle;\n",
       "    }\n",
       "\n",
       "    .dataframe tbody tr th {\n",
       "        vertical-align: top;\n",
       "    }\n",
       "\n",
       "    .dataframe thead th {\n",
       "        text-align: right;\n",
       "    }\n",
       "</style>\n",
       "<table border=\"1\" class=\"dataframe\">\n",
       "  <thead>\n",
       "    <tr style=\"text-align: right;\">\n",
       "      <th></th>\n",
       "      <th>age</th>\n",
       "      <th>sex</th>\n",
       "      <th>latitude</th>\n",
       "      <th>longitude</th>\n",
       "      <th>date_confirmation</th>\n",
       "      <th>additional_information</th>\n",
       "      <th>source</th>\n",
       "      <th>age_range_ind</th>\n",
       "      <th>age_range</th>\n",
       "      <th>Confirmed</th>\n",
       "      <th>Deaths</th>\n",
       "      <th>Recovered</th>\n",
       "      <th>Active</th>\n",
       "      <th>Incidence_Rate</th>\n",
       "      <th>Case-Fatality_Ratio</th>\n",
       "    </tr>\n",
       "  </thead>\n",
       "  <tbody>\n",
       "    <tr>\n",
       "      <th>0</th>\n",
       "      <td>47.0</td>\n",
       "      <td>Not Available</td>\n",
       "      <td>59.7294</td>\n",
       "      <td>13.2354</td>\n",
       "      <td>1.590822e+09</td>\n",
       "      <td>0</td>\n",
       "      <td>1</td>\n",
       "      <td>Missing</td>\n",
       "      <td>adult</td>\n",
       "      <td>1241.0</td>\n",
       "      <td>73.0</td>\n",
       "      <td>0.0</td>\n",
       "      <td>1168.0</td>\n",
       "      <td>439.425808</td>\n",
       "      <td>5.882353</td>\n",
       "    </tr>\n",
       "    <tr>\n",
       "      <th>1</th>\n",
       "      <td>47.0</td>\n",
       "      <td>Not Available</td>\n",
       "      <td>35.2923</td>\n",
       "      <td>-2.9381</td>\n",
       "      <td>1.586934e+09</td>\n",
       "      <td>0</td>\n",
       "      <td>1</td>\n",
       "      <td>Missing</td>\n",
       "      <td>adult</td>\n",
       "      <td>664.0</td>\n",
       "      <td>4.0</td>\n",
       "      <td>125.0</td>\n",
       "      <td>535.0</td>\n",
       "      <td>784.045153</td>\n",
       "      <td>0.602410</td>\n",
       "    </tr>\n",
       "    <tr>\n",
       "      <th>2</th>\n",
       "      <td>47.0</td>\n",
       "      <td>Not Available</td>\n",
       "      <td>55.9903</td>\n",
       "      <td>13.5958</td>\n",
       "      <td>1.587625e+09</td>\n",
       "      <td>0</td>\n",
       "      <td>1</td>\n",
       "      <td>Missing</td>\n",
       "      <td>adult</td>\n",
       "      <td>5366.0</td>\n",
       "      <td>276.0</td>\n",
       "      <td>0.0</td>\n",
       "      <td>5090.0</td>\n",
       "      <td>389.453828</td>\n",
       "      <td>5.143496</td>\n",
       "    </tr>\n",
       "    <tr>\n",
       "      <th>3</th>\n",
       "      <td>47.0</td>\n",
       "      <td>Not Available</td>\n",
       "      <td>59.6025</td>\n",
       "      <td>18.1384</td>\n",
       "      <td>1.586848e+09</td>\n",
       "      <td>0</td>\n",
       "      <td>1</td>\n",
       "      <td>Missing</td>\n",
       "      <td>adult</td>\n",
       "      <td>23739.0</td>\n",
       "      <td>2400.0</td>\n",
       "      <td>0.0</td>\n",
       "      <td>21339.0</td>\n",
       "      <td>998.661804</td>\n",
       "      <td>10.109946</td>\n",
       "    </tr>\n",
       "    <tr>\n",
       "      <th>4</th>\n",
       "      <td>47.0</td>\n",
       "      <td>Not Available</td>\n",
       "      <td>59.6714</td>\n",
       "      <td>16.2159</td>\n",
       "      <td>1.588057e+09</td>\n",
       "      <td>0</td>\n",
       "      <td>1</td>\n",
       "      <td>Missing</td>\n",
       "      <td>adult</td>\n",
       "      <td>2854.0</td>\n",
       "      <td>183.0</td>\n",
       "      <td>0.0</td>\n",
       "      <td>2671.0</td>\n",
       "      <td>1034.639018</td>\n",
       "      <td>6.412053</td>\n",
       "    </tr>\n",
       "  </tbody>\n",
       "</table>\n",
       "</div>"
      ],
      "text/plain": [
       "    age            sex  latitude  longitude  date_confirmation  \\\n",
       "0  47.0  Not Available   59.7294    13.2354       1.590822e+09   \n",
       "1  47.0  Not Available   35.2923    -2.9381       1.586934e+09   \n",
       "2  47.0  Not Available   55.9903    13.5958       1.587625e+09   \n",
       "3  47.0  Not Available   59.6025    18.1384       1.586848e+09   \n",
       "4  47.0  Not Available   59.6714    16.2159       1.588057e+09   \n",
       "\n",
       "   additional_information  source age_range_ind age_range  Confirmed  Deaths  \\\n",
       "0                       0       1       Missing     adult     1241.0    73.0   \n",
       "1                       0       1       Missing     adult      664.0     4.0   \n",
       "2                       0       1       Missing     adult     5366.0   276.0   \n",
       "3                       0       1       Missing     adult    23739.0  2400.0   \n",
       "4                       0       1       Missing     adult     2854.0   183.0   \n",
       "\n",
       "   Recovered   Active  Incidence_Rate  Case-Fatality_Ratio  \n",
       "0        0.0   1168.0      439.425808             5.882353  \n",
       "1      125.0    535.0      784.045153             0.602410  \n",
       "2        0.0   5090.0      389.453828             5.143496  \n",
       "3        0.0  21339.0      998.661804            10.109946  \n",
       "4        0.0   2671.0     1034.639018             6.412053  "
      ]
     },
     "execution_count": 6,
     "metadata": {},
     "output_type": "execute_result"
    }
   ],
   "source": [
    "df.head()"
   ]
  },
  {
   "cell_type": "code",
   "execution_count": 7,
   "metadata": {},
   "outputs": [],
   "source": [
    "for col in df.dtypes[df.dtypes == \"object\"].index:\n",
    "    for_dummy = df.pop(col)\n",
    "    df = pd.concat([df, pd.get_dummies(for_dummy, prefix=col)], axis=1)"
   ]
  },
  {
   "cell_type": "code",
   "execution_count": 8,
   "metadata": {},
   "outputs": [
    {
     "name": "stdout",
     "output_type": "stream",
     "text": [
      "label_Y : (366600,)\n",
      "df_X : (366600, 22)\n"
     ]
    }
   ],
   "source": [
    "print(f'label_Y : {y.shape}')\n",
    "print(f'df_X : {df.shape}')"
   ]
  },
  {
   "cell_type": "markdown",
   "metadata": {},
   "source": [
    "## Split Data"
   ]
  },
  {
   "cell_type": "code",
   "execution_count": 9,
   "metadata": {},
   "outputs": [],
   "source": [
    "from sklearn.model_selection import train_test_split\n",
    "x_train, x_test, y_train, y_test = train_test_split(df, y, test_size=0.2, random_state = 1)"
   ]
  },
  {
   "cell_type": "markdown",
   "metadata": {},
   "source": [
    "## Building model with default parameters"
   ]
  },
  {
   "cell_type": "markdown",
   "metadata": {},
   "source": [
    "For this milestone, I build the model with default parameters, later on I will be tuning all the combinations of hyperparameters to find the best model."
   ]
  },
  {
   "cell_type": "code",
   "execution_count": 10,
   "metadata": {},
   "outputs": [
    {
     "data": {
      "text/plain": [
       "RandomForestClassifier()"
      ]
     },
     "execution_count": 10,
     "metadata": {},
     "output_type": "execute_result"
    }
   ],
   "source": [
    "rf = RandomForestClassifier()\n",
    "rf.fit(x_train, y_train)"
   ]
  },
  {
   "cell_type": "code",
   "execution_count": 11,
   "metadata": {},
   "outputs": [
    {
     "name": "stdout",
     "output_type": "stream",
     "text": [
      "{'bootstrap': True, 'ccp_alpha': 0.0, 'class_weight': None, 'criterion': 'gini', 'max_depth': None, 'max_features': 'auto', 'max_leaf_nodes': None, 'max_samples': None, 'min_impurity_decrease': 0.0, 'min_impurity_split': None, 'min_samples_leaf': 1, 'min_samples_split': 2, 'min_weight_fraction_leaf': 0.0, 'n_estimators': 100, 'n_jobs': None, 'oob_score': False, 'random_state': None, 'verbose': 0, 'warm_start': False}\n"
     ]
    }
   ],
   "source": [
    "print(rf.get_params())"
   ]
  },
  {
   "cell_type": "code",
   "execution_count": 12,
   "metadata": {},
   "outputs": [
    {
     "name": "stdout",
     "output_type": "stream",
     "text": [
      "Train Accuracy - : 0.889\n",
      "Test Accuracy - : 0.874\n"
     ]
    }
   ],
   "source": [
    "print (f'Train Accuracy - : {rf.score(x_train,y_train):.3f}')\n",
    "print (f'Test Accuracy - : {rf.score(x_test,y_test):.3f}')"
   ]
  },
  {
   "cell_type": "code",
   "execution_count": 13,
   "metadata": {},
   "outputs": [
    {
     "name": "stdout",
     "output_type": "stream",
     "text": [
      "Test accuracy:  0.8738270594653573\n",
      "Test overall recall:  0.6762179490651058\n"
     ]
    }
   ],
   "source": [
    "print('Test accuracy: ', accuracy_score(y_test, rf.predict(x_test)))\n",
    "print('Test overall recall: ', recall_score(y_test, rf.predict(x_test), average='macro'))"
   ]
  },
  {
   "cell_type": "markdown",
   "metadata": {},
   "source": [
    "## Building model with other parameters\n"
   ]
  },
  {
   "cell_type": "code",
   "execution_count": 14,
   "metadata": {},
   "outputs": [
    {
     "data": {
      "text/plain": [
       "RandomForestClassifier(n_estimators=40)"
      ]
     },
     "execution_count": 14,
     "metadata": {},
     "output_type": "execute_result"
    }
   ],
   "source": [
    "rf2 = RandomForestClassifier(n_estimators=40)\n",
    "rf2.fit(x_train, y_train)"
   ]
  },
  {
   "cell_type": "code",
   "execution_count": 15,
   "metadata": {},
   "outputs": [
    {
     "name": "stdout",
     "output_type": "stream",
     "text": [
      "Train Accuracy - : 0.888\n",
      "Test Accuracy - : 0.874\n"
     ]
    }
   ],
   "source": [
    "print (f'Train Accuracy - : {rf2.score(x_train,y_train):.3f}')\n",
    "print (f'Test Accuracy - : {rf2.score(x_test,y_test):.3f}')"
   ]
  },
  {
   "cell_type": "code",
   "execution_count": 16,
   "metadata": {},
   "outputs": [
    {
     "name": "stdout",
     "output_type": "stream",
     "text": [
      "Test accuracy:  0.8736497545008183\n",
      "Test overall recall:  0.6768467444086799\n"
     ]
    }
   ],
   "source": [
    "print('Test accuracy: ', accuracy_score(y_test, rf2.predict(x_test)))\n",
    "print('Test overall recall: ', recall_score(y_test, rf2.predict(x_test), average='macro'))"
   ]
  },
  {
   "cell_type": "markdown",
   "metadata": {},
   "source": [
    "## Checking for Overfitting"
   ]
  },
  {
   "cell_type": "code",
   "execution_count": 17,
   "metadata": {},
   "outputs": [
    {
     "data": {
      "image/png": "[encoded data removed]",
      "text/plain": [
       "<Figure size 432x288 with 1 Axes>"
      ]
     },
     "metadata": {
      "needs_background": "light"
     },
     "output_type": "display_data"
    }
   ],
   "source": [
    "from sklearn.metrics import f1_score\n",
    "n_estimators = [1, 10, 20, 30, 40, 50, 60, 70, 80, 90, 100]\n",
    "train = []\n",
    "test = []\n",
    "\n",
    "for i in n_estimators:\n",
    "    rf = RandomForestClassifier(n_estimators=i, n_jobs=-1)\n",
    "    rf.fit(x_train, y_train)\n",
    "    train.append(f1_score(y_train, rf.predict(x_train), average='macro'))\n",
    "    test.append(f1_score(y_test, rf.predict(x_test), average='macro'))\n",
    "    \n",
    "from matplotlib.legend_handler import HandlerLine2D\n",
    "line1, = plt.plot(n_estimators, train, \"b\", label=\"Train Accuracy\")\n",
    "line2, = plt.plot(n_estimators, test, \"r\", label=\"Test Accuracy\")\n",
    "plt.legend(handler_map={line1: HandlerLine2D(numpoints=2)})\n",
    "plt.ylabel(\"F1 score\")\n",
    "plt.xlabel(\"n_estimators\")\n",
    "plt.title('RF: F1 score against n_estimators')\n",
    "plt.show()"
   ]
  },
  {
   "cell_type": "code",
   "execution_count": 18,
   "metadata": {},
   "outputs": [
    {
     "data": {
      "text/plain": [
       "[]"
      ]
     },
     "execution_count": 18,
     "metadata": {},
     "output_type": "execute_result"
    },
    {
     "data": {
      "image/png": "[encoded data removed]",
      "text/plain": [
       "<Figure size 1080x720 with 1 Axes>"
      ]
     },
     "metadata": {
      "needs_background": "light"
     },
     "output_type": "display_data"
    }
   ],
   "source": [
    "max_depth_list = np.linspace(1, 15, num=15)\n",
    "\n",
    "train_accuracy = []\n",
    "test_accuracy = []\n",
    "\n",
    "for i in max_depth_list:\n",
    "    rfc = RandomForestClassifier(max_depth=int(i)) \n",
    "    rfc.fit(x_train,y_train)\n",
    "    train_accuracy.append(f1_score(y_train, rfc.predict(x_train), average='macro'))\n",
    "    test_accuracy.append(f1_score(y_test, rfc.predict(x_test), average='macro'))\n",
    "\n",
    "x = np.arange(len(max_depth_list)) + 1\n",
    "plt.figure(figsize=(15,10))\n",
    "plt.xticks(x)\n",
    "plt.plot(x, train_accuracy, label='Training')\n",
    "plt.plot(x, test_accuracy, label='Testing')\n",
    "plt.xlabel('Max Tree Depth')\n",
    "plt.ylabel('F1 score')\n",
    "plt.title('RF: F1 score against Max Tree Depth')\n",
    "plt.legend()\n",
    "plt.plot()"
   ]
  },
  {
   "cell_type": "markdown",
   "metadata": {},
   "source": [
    "## Saving and loading model"
   ]
  },
  {
   "cell_type": "code",
   "execution_count": 19,
   "metadata": {},
   "outputs": [],
   "source": [
    "import pickle\n",
    "filename = '../models/RandomForestModel.pkl'\n",
    "pickle.dump(rf, open(filename,'wb'))"
   ]
  },
  {
   "cell_type": "code",
   "execution_count": 20,
   "metadata": {},
   "outputs": [],
   "source": [
    "model = pickle.load(open(filename,'rb'))"
   ]
  },
  {
   "cell_type": "markdown",
   "metadata": {},
   "source": [
    "## Matrix Evaluation"
   ]
  },
  {
   "cell_type": "markdown",
   "metadata": {},
   "source": [
    "### Evaluating Matrix for Test set"
   ]
  },
  {
   "cell_type": "code",
   "execution_count": 21,
   "metadata": {},
   "outputs": [
    {
     "data": {
      "text/plain": [
       "Text(0.5, 1.0, 'Confusion matrix for test set')"
      ]
     },
     "execution_count": 21,
     "metadata": {},
     "output_type": "execute_result"
    },
    {
     "data": {
      "image/png": "[encoded data removed]",
      "text/plain": [
       "<Figure size 432x288 with 2 Axes>"
      ]
     },
     "metadata": {
      "needs_background": "light"
     },
     "output_type": "display_data"
    }
   ],
   "source": [
    "from sklearn.metrics import confusion_matrix, ConfusionMatrixDisplay\n",
    "y_test_pred = model.predict(x_test)\n",
    "test_matrix = confusion_matrix(y_test, y_test_pred)\n",
    "ConfusionMatrixDisplay(test_matrix).plot()\n",
    "plt.title('Confusion matrix for test set')"
   ]
  },
  {
   "cell_type": "code",
   "execution_count": 22,
   "metadata": {},
   "outputs": [
    {
     "name": "stdout",
     "output_type": "stream",
     "text": [
      "Test accuracy:  0.8740180032733225\n",
      "Test overall recall:  0.6766030415374278\n"
     ]
    }
   ],
   "source": [
    "from sklearn.metrics import precision_score, recall_score, precision_recall_fscore_support, classification_report\n",
    "from sklearn.metrics import make_scorer\n",
    "from sklearn.metrics import recall_score, accuracy_score\n",
    "\n",
    "print('Test accuracy: ', accuracy_score(y_test, model.predict(x_test)))\n",
    "print('Test overall recall: ', recall_score(y_test, model.predict(x_test), average='macro'))"
   ]
  },
  {
   "cell_type": "code",
   "execution_count": 23,
   "metadata": {},
   "outputs": [
    {
     "name": "stdout",
     "output_type": "stream",
     "text": [
      "Testset\n",
      "                 precision    recall  f1-score   support\n",
      "\n",
      "       deceased       0.51      0.13      0.21       912\n",
      "   hospitalized       0.80      0.87      0.84     24862\n",
      "nonhospitalized       0.99      0.99      0.99     30018\n",
      "      recovered       0.78      0.71      0.74     17528\n",
      "\n",
      "       accuracy                           0.87     73320\n",
      "      macro avg       0.77      0.68      0.69     73320\n",
      "   weighted avg       0.87      0.87      0.87     73320\n",
      "\n"
     ]
    }
   ],
   "source": [
    "ev_va_report = classification_report(y_test, model.predict(x_test))\n",
    "print('Testset')\n",
    "print(ev_va_report)"
   ]
  },
  {
   "cell_type": "markdown",
   "metadata": {},
   "source": [
    "### Evaluating Matrix for Train set"
   ]
  },
  {
   "cell_type": "code",
   "execution_count": 24,
   "metadata": {},
   "outputs": [
    {
     "data": {
      "text/plain": [
       "Text(0.5, 1.0, 'Confusion matrix for train set')"
      ]
     },
     "execution_count": 24,
     "metadata": {},
     "output_type": "execute_result"
    },
    {
     "data": {
      "image/png": "[encoded data removed]",
      "text/plain": [
       "<Figure size 432x288 with 2 Axes>"
      ]
     },
     "metadata": {
      "needs_background": "light"
     },
     "output_type": "display_data"
    }
   ],
   "source": [
    "y_train_pred = model.predict(x_train)\n",
    "train_matrix = confusion_matrix(y_train, y_train_pred)\n",
    "ConfusionMatrixDisplay(train_matrix).plot()\n",
    "plt.title('Confusion matrix for train set')"
   ]
  },
  {
   "cell_type": "code",
   "execution_count": 25,
   "metadata": {},
   "outputs": [
    {
     "name": "stdout",
     "output_type": "stream",
     "text": [
      "Train accuracy:  0.8885467812329515\n",
      "Train overall recall:  0.7268778919818422\n"
     ]
    }
   ],
   "source": [
    "print('Train accuracy: ', accuracy_score(y_train, model.predict(x_train)))\n",
    "print('Train overall recall: ', recall_score(y_train, model.predict(x_train), average='macro'))"
   ]
  },
  {
   "cell_type": "code",
   "execution_count": 26,
   "metadata": {},
   "outputs": [
    {
     "name": "stdout",
     "output_type": "stream",
     "text": [
      "Trainset\n",
      "                 precision    recall  f1-score   support\n",
      "\n",
      "       deceased       0.95      0.29      0.44      3583\n",
      "   hospitalized       0.81      0.89      0.85     99933\n",
      "nonhospitalized       1.00      1.00      1.00    119402\n",
      "      recovered       0.81      0.74      0.77     70362\n",
      "\n",
      "       accuracy                           0.89    293280\n",
      "      macro avg       0.89      0.73      0.76    293280\n",
      "   weighted avg       0.89      0.89      0.89    293280\n",
      "\n"
     ]
    }
   ],
   "source": [
    "ev_train_report = classification_report(y_train, model.predict(x_train))\n",
    "print('Trainset')\n",
    "print(ev_train_report)"
   ]
  }
 ],
 "metadata": {
  "kernelspec": {
   "display_name": "Python 3",
   "language": "python",
   "name": "python3"
  },
  "language_info": {
   "codemirror_mode": {
    "name": "ipython",
    "version": 3
   },
   "file_extension": ".py",
   "mimetype": "text/x-python",
   "name": "python",
   "nbconvert_exporter": "python",
   "pygments_lexer": "ipython3",
   "version": "3.8.3"
  }
 },
 "nbformat": 4,
 "nbformat_minor": 4
}
